{
  "cells": [
    {
      "cell_type": "markdown",
      "metadata": {
        "colab_type": "text",
        "id": "view-in-github"
      },
      "source": [
        "<a href=\"https://colab.research.google.com/github/max2000777/Traitement-de-la-langue-naturelle/blob/main/MIDS_NLP_TP2_Knn_with_matrices.ipynb\" target=\"_parent\"><img src=\"https://colab.research.google.com/assets/colab-badge.svg\" alt=\"Open In Colab\"/></a>"
      ]
    },
    {
      "cell_type": "markdown",
      "metadata": {
        "id": "-zfBHWnuuXRV"
      },
      "source": [
        "# Document classification using the K-NN algorithm and tensorial operations\n",
        "\n",
        "**Copiez ce notebook et mettez votre nom dans le nom de la copie**\n",
        "\n",
        "A rendre par mail marie.candito@gmail.com, avant le **9 février minuit**, avec comme objet du mail :  **MIDS TP2**\n",
        "\n",
        "\n",
        "The aim of this lab is to implement the K-NN algorithm using **tensors**, resulting in **faster** computation of the similarities (or distances) between a document to classify and all the labeled documents."
      ]
    },
    {
      "cell_type": "markdown",
      "metadata": {
        "id": "SyY6s1fmyD1q"
      },
      "source": [
        "## Dataset download\n",
        "\n",
        "The « reuters21578 » collection is a famous set of documents in English, associated to 0, 1 or n classes (« topics »). We provide a sub-set of this corpus, in which we made sure to have a single gold class for each document (to perform monolabel multiclass classification):\n",
        "\n",
        "More precisely:\n",
        "- train = medium.train.examples = 2000 documents with their gold class\n",
        "- dev = medium.dev.examples \t= 200 documents with gold class\n",
        "o\twhich you will use to test and evaluate the algorithm\n",
        "\n",
        "- Document representation: Documents are represented using BOW vectors, in which the numbers of occurrences word forms have been divided by the total number of tokens in the document .\n",
        "- Format: But NB, the provided *.examples files only contain the components with non-null values, identified using the word form itself instead of an integer position in the vector space.\n",
        "- Vocabulary: the total vocabulary is the union of all features (words) in all training documents.\n",
        "- \"Unknown words\": when applying the K-NN to an input document, its features (words) that are not in the training documents will just be ignored\n",
        "\n",
        "Two smaller train and test files are provided in order to test your program more rapidly while programming.\n"
      ]
    },
    {
      "cell_type": "code",
      "execution_count": 1,
      "metadata": {
        "id": "YBwmDcA7vJT6"
      },
      "outputs": [],
      "source": [
        "import os, sys\n",
        "import numpy as np\n",
        "import plotly.express as px\n",
        "\n",
        "if not os.path.exists('./reuters-examples/'):\n",
        "  !pip install wget\n",
        "  import wget\n",
        "\n",
        "  # The URL for the dataset tar file\n",
        "  url = 'http://www.linguist.univ-paris-diderot.fr/~mcandito/divers/reuters-examples.zip'\n",
        "\n",
        "\n",
        "  if not os.path.exists('./reuteurs-examples.zip'):\n",
        "    print('Downloading dataset')\n",
        "    wget.download(url, './reuters-examples.zip')\n",
        "    !unzip ./reuters-examples.zip\n",
        "if not os.path.exists('./reuters-examples/small.dev.examples'):\n",
        "  print(\"pb\")\n"
      ]
    },
    {
      "cell_type": "markdown",
      "metadata": {
        "id": "67nW3pVsy6zK"
      },
      "source": [
        "## Loading the dataset"
      ]
    },
    {
      "cell_type": "code",
      "execution_count": 2,
      "metadata": {
        "id": "Tqdy9u7NujWV"
      },
      "outputs": [],
      "source": [
        "class Examples:\n",
        "    \"\"\"\n",
        "    a batch of examples:\n",
        "    One example is\n",
        "    - a BOW vector represented as a python dictionary, for features with non-null values only\n",
        "    - a gold class\n",
        "\n",
        "    dict_vectors = list of dictionary BOW vector\n",
        "    gold_classes = list of gold classes\n",
        "    \"\"\"\n",
        "    def __init__(self):\n",
        "        self.gold_classes = []\n",
        "        self.dict_vectors = []\n",
        "\n",
        "def read_examples(infile):\n",
        "    \"\"\" Reads a .examples file and returns an Examples instance.\n",
        "    \"\"\"\n",
        "\n",
        "    stream = open(infile)\n",
        "    examples = Examples()\n",
        "    dict_vector = None\n",
        "    while 1:\n",
        "        line = stream.readline()\n",
        "        if not line:\n",
        "            break\n",
        "        line = line[0:-1]\n",
        "        if line.startswith(\"EXAMPLE_NB\"):\n",
        "            if dict_vector != None:\n",
        "                examples.dict_vectors.append(dict_vector)\n",
        "            dict_vector = {}\n",
        "            cols = line.split('\\t')\n",
        "            gold_class = cols[3]\n",
        "            examples.gold_classes.append(gold_class)\n",
        "        elif line:# and dict_vector != None:\n",
        "            (wordform, val) = line.split('\\t')\n",
        "            dict_vector[wordform] = float(val)\n",
        "\n",
        "    if dict_vector != None:\n",
        "        examples.dict_vectors.append(dict_vector)\n",
        "    return examples\n"
      ]
    },
    {
      "cell_type": "code",
      "execution_count": 3,
      "metadata": {
        "id": "aEV0iGAVzLKY"
      },
      "outputs": [],
      "source": [
        "train_examples = read_examples('./reuters-examples/medium.train.examples')\n",
        "dev_examples = read_examples('./reuters-examples/medium.dev.examples')\n",
        "\n",
        "#train_examples = read_examples('./reuters-examples/small.train.examples')\n",
        "#dev_examples = read_examples(\"./reuters-examples/small.dev.examples\")\n",
        "\n"
      ]
    },
    {
      "cell_type": "code",
      "execution_count": 4,
      "metadata": {
        "colab": {
          "base_uri": "https://localhost:8080/"
        },
        "id": "Ix2_5GG4ZOd1",
        "outputId": "dc1d5a2c-8482-4d2c-f729-81ecc793a6ad"
      },
      "outputs": [
        {
          "name": "stdout",
          "output_type": "stream",
          "text": [
            "limited\n",
            "now\n",
            "currently\n",
            "over\n",
            "all\n",
            "trade\n",
            "ended\n",
            "still\n",
            "its\n",
            "weekly\n",
            "buyers\n",
            "zone\n",
            "also\n",
            "temporao\n",
            "seems\n",
            "late\n",
            "only\n",
            "going\n",
            "under\n",
            "total\n",
            "weeks\n",
            "has\n",
            "oct\n",
            "harvesting\n",
            "good\n",
            "march\n",
            "around\n",
            "means\n",
            "routine\n",
            "early\n",
            "certificates\n",
            "bean\n",
            "hands\n",
            "not\n",
            "exporters\n",
            "continued\n",
            "areas\n",
            "february\n",
            "cruzados\n",
            "held\n",
            "january\n",
            "arrivals\n",
            "humidity\n",
            "experiencing\n",
            "went\n",
            "aug\n",
            "ports\n",
            "bahia\n",
            "view\n",
            "old\n",
            "liquor\n",
            "some\n",
            "crop\n",
            "kilos\n",
            "offer\n",
            "export\n",
            "are\n",
            "year\n",
            "dlrs\n",
            "delivered\n",
            "for\n",
            "farmers\n",
            "open\n",
            "review\n",
            "since\n",
            "per\n",
            "shipment\n",
            "new\n",
            "reluctant\n",
            "available\n",
            "be\n",
            "ends\n",
            "after\n",
            "doubt\n",
            "sold\n",
            "york\n",
            "although\n",
            "convertible\n",
            "come\n",
            "by\n",
            "stage\n",
            "dry\n",
            "on\n",
            "prospects\n",
            "last\n",
            "fit\n",
            "carnival\n",
            "against\n",
            "times\n",
            "april\n",
            "figures\n",
            "rose\n",
            "sept\n",
            "nearby\n",
            "named\n",
            "smith\n",
            "obtaining\n",
            "period\n",
            "cocoa\n",
            "improving\n",
            "shippers\n",
            "throughout\n",
            "quality\n",
            "destinations\n",
            "standing\n",
            "would\n",
            "their\n",
            "there\n",
            "been\n",
            "few\n",
            "much\n",
            "estimated\n",
            "brazilian\n",
            "expected\n",
            "hundred\n",
            "was\n",
            "final\n",
            "midday\n",
            "butter\n",
            "selling\n",
            "that\n",
            "season\n",
            "thousand\n",
            "booked\n",
            "sales\n",
            "part\n",
            "doubts\n",
            "prices\n",
            "july\n",
            "with\n",
            "argentina\n",
            "again\n",
            "made\n",
            "this\n",
            "mln\n",
            "fob\n",
            "will\n",
            "estimates\n",
            "were\n",
            "cake\n",
            "making\n",
            "dec\n",
            "published\n",
            "tonne\n",
            "showers\n",
            "uruguay\n",
            "almost\n",
            "is\n",
            "comissaria\n",
            "it\n",
            "an\n",
            "currency\n",
            "as\n",
            "at\n",
            "have\n",
            "bags\n",
            "u.s\n",
            "end\n",
            "processors\n",
            "cumulative\n",
            "same\n",
            "how\n",
            "which\n",
            "registered\n",
            "week\n",
            "normal\n",
            "may\n",
            "earlier\n",
            "spot\n",
            "levels\n",
            "consignment\n",
            "coming\n",
            "included\n",
            "drought\n",
            "recent\n",
            "lower\n",
            "practically\n",
            "light\n",
            "june\n",
            "commission\n",
            "restored\n"
          ]
        }
      ],
      "source": [
        "for element in train_examples.dict_vectors[0]:\n",
        "  print(element)"
      ]
    },
    {
      "cell_type": "markdown",
      "metadata": {
        "id": "qtZLaK2izmyF"
      },
      "source": [
        "## TODO 1: build word <=> indices correspondance"
      ]
    },
    {
      "cell_type": "code",
      "execution_count": 5,
      "metadata": {
        "colab": {
          "base_uri": "https://localhost:8080/"
        },
        "id": "v5WY-aY3zz6P",
        "outputId": "949c6985-8e4c-487c-9da8-915df00fe37f"
      },
      "outputs": [
        {
          "name": "stdout",
          "output_type": "stream",
          "text": [
            "{'limited': 0, 'now': 1, 'currently': 2, 'over': 3, 'all': 4, 'trade': 5, 'ended': 6, 'still': 7, 'its': 8, 'weekly': 9, 'buyers': 10, 'zone': 11, 'also': 12, 'temporao': 13, 'seems': 14, 'late': 15, 'only': 16, 'going': 17, 'under': 18, 'total': 19, 'weeks': 20, 'has': 21, 'oct': 22, 'harvesting': 23, 'good': 24, 'march': 25, 'around': 26, 'means': 27, 'routine': 28, 'early': 29, 'certificates': 30, 'bean': 31, 'hands': 32, 'not': 33, 'exporters': 34, 'continued': 35, 'areas': 36, 'february': 37, 'cruzados': 38, 'held': 39, 'january': 40, 'arrivals': 41, 'humidity': 42, 'experiencing': 43, 'went': 44, 'aug': 45, 'ports': 46, 'bahia': 47, 'view': 48, 'old': 49, 'liquor': 50, 'some': 51, 'crop': 52, 'kilos': 53, 'offer': 54, 'export': 55, 'are': 56, 'year': 57, 'dlrs': 58, 'delivered': 59, 'for': 60, 'farmers': 61, 'open': 62, 'review': 63, 'since': 64, 'per': 65, 'shipment': 66, 'new': 67, 'reluctant': 68, 'available': 69, 'be': 70, 'ends': 71, 'after': 72, 'doubt': 73, 'sold': 74, 'york': 75, 'although': 76, 'convertible': 77, 'come': 78, 'by': 79, 'stage': 80, 'dry': 81, 'on': 82, 'prospects': 83, 'last': 84, 'fit': 85, 'carnival': 86, 'against': 87, 'times': 88, 'april': 89, 'figures': 90, 'rose': 91, 'sept': 92, 'nearby': 93, 'named': 94, 'smith': 95, 'obtaining': 96, 'period': 97, 'cocoa': 98, 'improving': 99, 'shippers': 100, 'throughout': 101, 'quality': 102, 'destinations': 103, 'standing': 104, 'would': 105, 'their': 106, 'there': 107, 'been': 108, 'few': 109, 'much': 110, 'estimated': 111, 'brazilian': 112, 'expected': 113, 'hundred': 114, 'was': 115, 'final': 116, 'midday': 117, 'butter': 118, 'selling': 119, 'that': 120, 'season': 121, 'thousand': 122, 'booked': 123, 'sales': 124, 'part': 125, 'doubts': 126, 'prices': 127, 'july': 128, 'with': 129, 'argentina': 130, 'again': 131, 'made': 132, 'this': 133, 'mln': 134, 'fob': 135, 'will': 136, 'estimates': 137, 'were': 138, 'cake': 139, 'making': 140, 'dec': 141, 'published': 142, 'tonne': 143, 'showers': 144, 'uruguay': 145, 'almost': 146, 'is': 147, 'comissaria': 148, 'it': 149, 'an': 150, 'currency': 151, 'as': 152, 'at': 153, 'have': 154, 'bags': 155, 'u.s': 156, 'end': 157, 'processors': 158, 'cumulative': 159, 'same': 160, 'how': 161, 'which': 162, 'registered': 163, 'week': 164, 'normal': 165, 'may': 166, 'earlier': 167, 'spot': 168, 'levels': 169, 'consignment': 170, 'coming': 171, 'included': 172, 'drought': 173, 'recent': 174, 'lower': 175, 'practically': 176, 'light': 177, 'june': 178, 'commission': 179, 'restored': 180, 'lbs': 181, 'vi': 182, 'national': 183, 'covers': 184, 'iv': 185, 'ii': 186, 'reserves': 187, 'through': 188, 'agriculture': 189, 'feedgrain': 190, 'cwt': 191, 'matured': 192, 'call': 193, 'barley': 194, 'department': 195, 'rates': 196, 'entered': 197, 'farmer-owned': 198, 'reflects': 199, 'wheat': 200, 'price': 201, 'n.a': 202, 'reported': 203, 'five-day': 204, 'loan': 205, 'iii': 206, 'level': 207, 'corn': 208, 'follows': 209, 'average': 210, 'oats': 211, 'i': 212, 'grain': 213, 'v': 214, 'release': 215, 'sorghum': 216, 'reserve': 217, 'detailed': 218, 'show': 219, 'apr': 220, 'month': 221, 'oil': 222, 'soybean': 223, 'maize': 224, 'feb': 225, 'board': 226, 'vegetable': 227, 'prev': 228, 'thousands': 229, 'oilseeds': 230, 'shipments': 231, 'sunflowerseed': 232, 'mar': 233, 'nil': 234, 'showing': 235, 'jun': 236, 'oilseed': 237, 'linseed': 238, 'those': 239, 'bread': 240, 'grains': 241, 'brackets': 242, 'registrations': 243, 'future': 244, 'products': 245, 'argentine': 246, 'tonnes': 247, 'subproducts': 248, 'authorized': 249, 'voted': 250, 'inc': 251, 'shareholders': 252, 'from': 253, 'shares': 254, 'increase': 255, 'recommend': 256, 'meeting': 257, 'company': 258, 'split': 259, 'champion': 260, 'approves': 261, 'capital': 262, 'five': 263, 'two-for-one': 264, 'approved': 265, 'annual': 266, 'record': 267, 'directors': 268, 'common': 269, 'stock': 270, 'houston': 271, 'help': 272, 'exclusive': 273, 'labels': 274, 'years': 275, 'including': 276, 'impact': 277, 'current': 278, 'pct': 279, 'terminal': 280, 'systems': 281, 'ticket': 282, 'continue': 283, 'switzerland': 284, 'exceed': 285, 'right': 286, 'licensee': 287, 'tex': 288, 'computer': 289, 'operation': 290, 'matrix': 291, 'conditions': 292, 'terminals': 293, 'change': 294, 'equal': 295, 'ensure': 296, 'makes': 297, 'control': 298, 'warrants': 299, 'one': 300, 'improvements': 301, 'market': 302, 'forms': 303, 'additional': 304, 'holdings': 305, 'buy': 306, 'acquire': 307, 'but': 308, 'delivery': 309, 'printers': 310, 'n.v.>': 311, 'completes': 312, 'circumstances': 313, 'rights': 314, 'up': 315, 'exercisable': 316, 'outstanding': 317, 'certain': 318, 'share': 319, 'moves': 320, 'technology': 321, 'occur': 322, 'pay': 323, 'any': 324, 'if': 325, 'completed': 326, 'worldwide': 327, 'product': 328, 'generated': 329, 'involving': 330, 'plan': 331, 'purchase': 332, 'reorganization': 333, 'sale': 334, 'inc>': 335, 'costs': 336, 'time': 337, 'dot': 338, 'qtr': 339, 'tax': 340, 'deposits': 341, 'vs': 342, 'carry': 343, 'note': 344, 'forward': 345, 'net': 346, 'includes': 347, 'extraordinary': 348, '4th': 349, 'gain': 350, 'loans': 351, 'shr': 352, 'assets': 353, 'cts': 354, 'or': 355, 'sealy': 356, 'issued': 357, 'results': 358, 'ending': 359, 'earned': 360, 'mattress': 361, 'administrative': 362, 'report': 363, 'licensees': 364, 'ohio': 365, 'because': 366, 'related': 367, 'likely': 368, 'substantially': 369, 'conducting': 370, 'quarter': 371, 'reports': 372, 'connection': 373, 'first': 374, 'considerations': 375, 'co': 376, 'due': 377, '1st': 378, 'decline': 379, 'noting': 380, 'acquisitions': 381, 'omt>': 382, 'than': 383, 'below': 384, 'seven': 385, 'expenses': 386, 'middle': 387, 'these': 388, 'delay': 389, 'higher': 390, 'fiscal': 391, 'well': 392, 'typically': 393, 'profits': 394, 'oper': 395, 'am': 396, '2nd': 397, 'four': 398, 'shrs': 399, 'periods': 400, 'exclude': 401, 'avg': 402, 'profit': 403, 'six': 404, 'payment': 405, 'jan': 406, 'international': 407, 'revs': 408, 'carryforwards': 409, 'dividends': 410, 'preferred': 411, 'credits': 412, 'operating': 413, 'two': 414, 'loss': 415, 'mths': 416, 'calculated': 417, 'prior': 418, 'nine': 419, 'billion': 420, 'dlr': 421, 'brown-forman': 422, 'expects': 423, 'japan': 424, 'milk': 425, \"we've\": 426, 'improvement': 427, 'dairy': 428, 'chairman': 429, 'kingdom': 430, 'australia': 431, 'food': 432, 'overall': 433, 'anticipated': 434, 'effects': 435, 'chicago': 436, 'ryan': 437, 'frozen': 438, 'benefit': 439, 'our': 440, 'canada': 441, 'reform': 442, 'douglas': 443, 'enough': 444, 'various': 445, 'provides': 446, 'probably': 447, 'falling': 448, 'told': 449, 'ltd': 450, 'corp': 451, 'alone': 452, 'strong': 453, 'experience': 454, 'range': 455, 'analysts': 456, 'act': 457, 'slightly': 458, 'processor': 459, 'major': 460, 'projection': 461, 'third-quarter': 462, 'licensing': 463, 'dean': 464, 'should': 465, 'howard': 466, 'west': 467, 'too': 468, 'year-ago': 469, 'ann': 470, 'repeated': 471, 'benefits': 472, 'line': 473, 'he': 474, 'df>': 475, 'whether': 476, 'us': 477, 'project': 478, 'acquisition': 479, 'elgin': 480, 'sees': 481, 'kenneth': 482, 'december': 483, 'foods': 484, 'arrangements': 485, 'united': 486, 'earnings': 487, 'fourth': 488, 'performance': 489, 'brazil': 490, 'shareholder': 491, 'president': 492, 'mcd>': 493, 'off': 494, 'bottom': 495, 'entry': 496, 'purchases': 497, 'usda': 498, 'initiative': 499, 'pillsbury': 500, 'tons': 501, 'north': 502, 'complete': 503, 'commodities': 504, 'corporation': 505, 'long': 506, 'awarded': 507, 'program': 508, 'inventory': 509, 'announced': 510, 'form': 511, 'bonus': 512, 'flour': 513, 'paid': 514, 'accepted': 515, 'commodity': 516, 'cover': 517, 'credit': 518, 'yemen': 519, 'ccc': 520, 'enhancement': 521, 'lowers': 522, 'copper': 523, 'cents': 524, 'magma': 525, 'immediately': 526, 'lb': 527, 'cent': 528, 'mining': 529, 'cathode': 530, 'subsidiary': 531, 'effective': 532, 'newmont': 533, 'cutting': 534, 'operations': 535, 'had': 536, 'charge': 537, 'quarterly': 538, 'bit': 539, 'each': 540, 'ups': 541, 'declared': 542, 'second': 543, 'declined': 544, 'restructuring': 545, 'dividend': 546, 'improve': 547, 'payout': 548, 'both': 549, 'improved': 550, 'holders': 551, 'outlook': 552, 'reasons': 553, 'three-for-two': 554, 'today': 555, 'payable': 556, 'raising': 557, 'b': 558, 'cash': 559, 'classes': 560, 'cited': 561, 'class': 562, 'third': 563, 'flow': 564, 'beverage': 565, 'sets': 566, 'corporate': 567, 'stockholders': 568, 'radio': 569, 'electronics': 570, 'yr': 571, 'div': 572, 'universal': 573, 'adjustment': 574, 'include': 575, 'life': 576, 'business': 577, 'presidential': 578, 'adjusted': 579, 'says': 580, 'previously': 581, 'owned': 582, 'rate': 583, 'dropped': 584, 'unit': 585, 'considering': 586, 'group': 587, 'near-record': 588, 'housing': 589, 'seasonally': 590, 'nar': 591, 'treatment': 592, 'get': 593, 'units': 594, 'set': 595, 'john': 596, 'gains': 597, 'sellers': 598, 'realtors': 599, 'significant': 600, 'realty': 601, 'november': 602, 'highest': 603, 'association': 604, 'homes': 605, 'surprising': 606, 'seeking': 607, 'drop': 608, 'pace': 609, 'portion': 610, 'laws': 611, 'favorable': 612, 'raises': 613, 'qtly': 614, 'owens': 615, 'minor': 616, 'three': 617, 'research': 618, 'language': 619, 'ltd>': 620, 'trustco': 621, 'growth': 622, 'least': 623, 'further': 624, \"shareholders'\": 625, 'better': 626, 'brian': 627, 'provide': 628, 'recorded': 629, 'interest': 630, 'stable': 631, 'economy': 632, 'return': 633, 'equity': 634, 'standard': 635, 'growing': 636, 'special': 637, 'rev': 638, 'handy': 639, 'months': 640, 'harman': 641, 'scheduled': 642, 'producer': 643, 'september': 644, 'unchanged': 645, 'resumption': 646, 'evening': 647, 'try': 648, 'ico': 649, 'basis': 650, 'producing': 651, 'quotas': 652, 'tomorrow': 653, 'contact': 654, 'proposal': 655, 'until': 656, 'firm': 657, 'coffee': 658, 'totalling': 659, 'negotiate': 660, 'quota': 661, 'producers': 662, 'shortfall': 663, 'they': 664, 'present': 665, 'delegates': 666, 'countries': 667, 'undertaking': 668, 'reintroducing': 669, 'organization': 670, 'distribution': 671, 'postponed': 672, 'consumers': 673, 'mclean': 674, 'agreed': 675, 'within': 676, 'states': 677, 'regulatory': 678, 'mii>': 679, 'transport': 680, 'industries': 681, 'court': 682, 'service': 683, 'transfer': 684, 'next': 685, 'asset': 686, 'terms': 687, 'negotiations': 688, 'corp>': 689, 'subject': 690, 'crowley': 691, 'bodies': 692, 'arranging': 693, 'approval': 694, 'bankruptcy': 695, 'lines': 696, 'contract': 697, 'american': 698, 'principle': 699, 'south': 700, 'shot': 701, 'pointed': 702, 'valuable': 703, 'go': 704, 'catapulted': 705, 'involved': 706, 'find': 707, 'before': 708, 'announcement': 709, 'system': 710, 'over-the-counter': 711, 'residential': 712, 'schlang': 713, 'offers': 714, 'interested': 715, 'customers': 716, 'garden': 717, 'bid': 718, 'arbitrageur': 719, 'competing': 720, 'like': 721, 'slowed': 722, 'companies': 723, 'she': 724, 'difficult': 725, 'discussing': 726, 'noted': 727, 'acquired': 728, 'bids': 729, 'resist': 730, 'street': 731, 'trading': 732, 'examples': 733, 'tender': 734, 'out': 735, 'morbelli': 736, 'unable': 737, 'between': 738, 'surprise': 739, 'full': 740, 'opening': 741, 'commercial': 742, 'base': 743, 'servicemaster': 744, 'rises': 745, 'care': 746, 'about': 747, 'dollars': 748, 'afternoon': 749, 'turben': 750, 'snyder': 751, 'wall': 752, 'into': 753, 'another': 754, 'removal': 755, \"doesn't\": 756, 'management': 757, 'capitalize': 758, 'attack': 759, 'statement': 760, 'white': 761, 'waste': 762, 'wants': 763, 'concentrated': 764, 'chemlawn': 765, 'hopes': 766, 'customer': 767, 'spokeswoman': 768, 'officials': 769, 'prescott': 770, 'bidder': 771, 'could': 772, 'regularly': 773, 'high': 774, 'say': 775, 'want': 776, 'ready': 777, 'attract': 778, 'chem>': 779, 'depending': 780, 'when': 781, 'who': 782, 'application': 783, 'arbitrageurs': 784, 'largest': 785, 'offered': 786, 'ball': 787, 'expires': 788, 'l.p': 789, 'analyst': 790, 'changing': 791, 'totally': 792, 'lawn': 793, 'individual': 794, 'maybe': 795, 'think': 796, 'does': 797, 'versus': 798, 'weight': 799, 'imports': 800, 'down': 801, 'received': 802, 'compared': 803, 'totaled': 804, 'data': 805, 'initial': 806, 'sugar': 807, 'accordingly': 808, 'import': 809, 'previous': 810, 'extended': 811, 'customs': 812, 'during': 813, 'short': 814, 'actual': 815, 'surplus': 816, 'domestic': 817, 'cruzado': 818, 'economist': 819, 'seemed': 820, 'then': 821, 'exports': 822, 'worse': 823, 'hailed': 824, 'reversal': 825, 'indexation': 826, 'bank': 827, 'payments': 828, 'accompanied': 829, 'fixed': 830, 'repeat': 831, 'home': 832, 'avoid': 833, 'anniversary': 834, 'initially': 835, 'debt': 836, 'country': 837, 'foreign': 838, 'anti-inflation': 839, 'froze': 840, 'increased': 841, 'soaring': 842, 'surpluses': 843, 'crisis': 844, 'monthly': 845, 'leading': 846, 'abroad': 847, 'needed': 848, 'shortages': 849, 'collapsed': 850, 'dramatic': 851, 'worked': 852, 'diverted': 853, 'account': 854, 'october': 855, 'target': 856, 'averaged': 857, 'plunged': 858, 'value': 859, 'situation': 860, 'averaging': 861, 'halt': 862, 'widespread': 863, 'sufficient': 864, 'towards': 865, 'amid': 866, 'inflation': 867, 'ago': 868, 'n.z': 869, 'fall': 870, 'zealand': 871, 'statistical': 872, 'official': 873, 'fell': 874, 'bulletin': 875, 'agency': 876, 'hrs': 877, 'end-day': 878, 'canal': 879, 'panama': 880, 'ships': 881, 'vessels': 882, 'waiting': 883, 'transit': 884, 'tankers': 885, 'government': 886, 'super': 887, 'days': 888, 'daily': 889, 'regular': 890, 'enter': 891, 'backlog': 892, 'exchangeable': 893, 'mortgage': 894, 'guaranteed': 895, 'income': 896, 'fund': 897, 'america': 898, 'federally': 899, 'emhart': 900, 'dollar': 901, 'introductions': 902, 'division': 903, 'run': 904, 'beginning': 905, 'revenues': 906, 'annualized': 907, 'allocated': 908, 'corresponding': 909, 'graphics': 910, 'remain': 911, 'balance': 912, 'engineering': 913, 'cites': 914, 'expenditures': 915, 'orders': 916, 'development': 917, 'reporting': 918, 'running': 919, 'harris': 920, 'honduras': 921, 'switched': 922, 'guarantee': 923, 'guarantees': 924, 'earmarked': 925, 'coverage': 926, 'must': 927, 'edible': 928, 'reduces': 929, 'creates': 930, 'shipped': 931, 'beans': 932, 'action': 933, 'institutional': 934, 'money': 935, 'general': 936, 'investment': 937, 'mutual': 938, 'funds': 939, 'yesterday': 940, 'purpose': 941, 'institute': 942, 'quoted': 943, 'supply': 944, \"merchants'\": 945, 'quotes': 946, 'session': 947, 'freight': 948, 'loadings': 949, 'vessel': 950, 'mississippi': 951, 'gulf': 952, 'no': 953, 'section': 954, 'illinois': 955, 'station': 956, 'cairo': 957, 'percentage': 958, 'increasing': 959, 'exchange': 960, 'memphis': 961, 'barges': 962, 'barge': 963, 'demand': 964, 'firmed': 965, 'nov': 966, 'comparison': 967, 'tariff': 968, 'dealers': 969, 'louis': 970, 'steady': 971, 'st': 972, 'points': 973, 'river': 974, 'traded': 975, 'ex': 976, 'owed': 977, 'sells': 978, 'federal': 979, 'added': 980, 'offset': 981, 'technologies': 982, 'applied': 983, 'pipeline': 984, 'transaction': 985, 'taxes': 986, 'gats>': 987, 'pom>': 988, 'potomac': 989, 'territory': 990, 'resources': 991, 'electric': 992, 'power': 993, 'virginia': 994, 'dominion': 995, 'latest': 996, 'energy': 997, 'cofab': 998, 'custom': 999, 'process': 1000, 'cooling': 1001, 'buys': 1002, 'utility': 1003, 'manufacture': 1004, 'petrochemical': 1005, 'gas': 1006, 'undisclosed': 1007, 'marine': 1008, 'amount': 1009, 'paper': 1010, 'houston-based': 1011, 'specialized': 1012, 'pulp': 1013, 'soybeans': 1014, 'crushing': 1015, 'member': 1016, 'crush': 1017, 'firms': 1018, 'crushed': 1019, 'members': 1020, 'capacity': 1021, 'bushels': 1022, 'nspa': 1023, 'meal': 1024, 'ttx>': 1025, 'eight': 1026, 'tultex': 1027, 'financial': 1028, 'formerly': 1029, 'amounts': 1030, 'pan': 1031, 'peninsula': 1032, 'merger': 1033, 'atico': 1034, 'savings': 1035, 'banks': 1036, 'among': 1037, 'declarations': 1038, 'informally': 1039, 'affect': 1040, 'talks': 1041, 'proposed': 1042, 'splinter': 1043, 'modify': 1044, 'tonight': 1045, 'importers': 1046, 'formal': 1047, 'discussed': 1048, 'presenting': 1049, 'industrial': 1050, 'books': 1051, 'friday': 1052, 'nationally': 1053, 'released': 1054, 'acceptances': 1055, 'excluding': 1056, 'two-week': 1057, 'borrowing': 1058, 'est': 1059, 'marked': 1060, 'done': 1061, 'borrowings': 1062, 'city': 1063, 'fed': 1064, 'spokesman': 1065, 'window': 1066, 'gmt': 1067, 'occurred': 1068, 'discount': 1069, 'n.y': 1070, 'half': 1071, 'commenting': 1072, 'wednesday': 1073, 'fewer': 1074, 'philippine': 1075, 'primary': 1076, 'diluted': 1077, 'day': 1078, 'telephone': 1079, 'declaration': 1080, 'distance': 1081, 'name': 1082, 'pesos': 1083, 'all-star': 1084, 'liberty': 1085, 'commencement': 1086, 'csp>': 1087, 'combustion': 1088, 'tonka': 1089, 'qtrly': 1090, 'increases': 1091, 'divs': 1092, 'offering': 1093, 'secondary': 1094, 'ivaco': 1095, 'stake': 1096, 'cyl>': 1097, 'led': 1098, 'cut': 1099, 'affiliated': 1100, 'filing': 1101, 'securities': 1102, 'lowered': 1103, 'cyclops': 1104, 'cincinnati': 1105, 'yellow': 1106, 'agricultural': 1107, 'la': 1108, 'lo': 1109, 'hrw': 1110, 'amarillo': 1111, 'nor': 1112, 'portland': 1113, 'port': 1114, 'established': 1115, 'toledo': 1116, 'redemption': 1117, 'srw': 1118, 'baltimore': 1119, 'bushel': 1120, 'stabilization': 1121, 'stockton': 1122, 'grade': 1123, 'denver': 1124, 'durum': 1125, 'conservation': 1126, 'peoria': 1127, 'ascs': 1128, 'priced': 1129, 'values': 1130, 'ill': 1131, 'pik': 1132, 'minneapolis': 1133, 'seattle': 1134, 'rye': 1135, 'track': 1136, 'kansas': 1137, 'stocks': 1138, 'l.a': 1139, 'phil': 1140, 'year-on-year': 1141, 'rise': 1142, 'deposit': 1143, 'adjustments': 1144, 'midnight': 1145, 'locations': 1146, 'northern': 1147, 'cotton': 1148, 'sum': 1149, 'european': 1150, 'strict': 1151, 'other': 1152, 'low': 1153, 'location': 1154, 'used': 1155, 'handler': 1156, 'effect': 1157, 'inch': 1158, 'world': 1159, 'upland': 1160, 'certificate': 1161, 'determining': 1162, 'based': 1163, 'near': 1164, 'determined': 1165, 'texas': 1166, 'qualities': 1167, 'prevailing': 1168, 'mexico': 1169, 'india': 1170, 'ivory': 1171, 'raw': 1172, 'mozambique': 1173, 'colombia': 1174, 'paraguay': 1175, 'taiwan': 1176, 'papua': 1177, 'madagascar': 1178, 'jamaica': 1179, 'began': 1180, 'zimbabwe': 1181, 'bolivia': 1182, 'ecuador': 1183, 'rica': 1184, 'coast': 1185, 'guatemala': 1186, 'haiti': 1187, 'thailand': 1188, 'costa': 1189, 'peru': 1190, 'salvador': 1191, 'philippines': 1192, 'trinidad-tobago': 1193, 'mauritius': 1194, 'gabon': 1195, 'allocations': 1196, 'el': 1197, 'guinea': 1198, 'rep': 1199, 'load': 1200, 'loading': 1201, 'merchants': 1202, 'according': 1203, 'bancorp': 1204, 'meridian': 1205, 'less': 1206, 'produced': 1207, 'adding': 1208, 'thursday': 1209, 'widely': 1210, 'regional': 1211, 'number': 1212, 'nearly': 1213, 'press': 1214, 'large': 1215, 'banking': 1216, 'unrelated': 1217, 'small': 1218, 'projections': 1219, 'clearing': 1220, 'acting': 1221, 'smallest': 1222, 'deficit': 1223, 'transportation': 1224, 'ranged': 1225, 'however': 1226, 'free': 1227, 'reason': 1228, 'excess': 1229, 'negative': 1230, 'corrections': 1231, 'whole': 1232, 'tuesday': 1233, 'float': 1234, 'weather': 1235, 'errors': 1236, 'separated': 1237, 'districts': 1238, 'briefing': 1239, 'figure': 1240, 'give': 1241, 'evidence': 1242, 'single': 1243, 'different': 1244, 'relatively': 1245, 'poor': 1246, 'monday': 1247, 'problems': 1248, 'letter': 1249, 'cleared': 1250, 'natural': 1251, 'center': 1252, 'accounted': 1253, 'institutions': 1254, 'partial': 1255, 'heavily': 1256, 'undervalued': 1257, 'lewis': 1258, 'move': 1259, 'divestitures': 1260, 'positions': 1261, 'spinoff': 1262, \"analysts'\": 1263, 'profitable': 1264, 'enhance': 1265, 'true': 1266, 'unhappy': 1267, 'questioned': 1268, 'plans': 1269, 'fuel': 1270, 'might': 1271, 'worth': 1272, 'premium': 1273, 'goes': 1274, 'thereby': 1275, \"they're\": 1276, 'very': 1277, 'big': 1278, 'outlined': 1279, 'express': 1280, 'possible': 1281, 'got': 1282, 'highly': 1283, 'rumor': 1284, 'did': 1285, 'fully': 1286, 'preclude': 1287, 'michael': 1288, \"they've\": 1289, 'realistic': 1290, 'brokerage': 1291, 'officer': 1292, 'activity': 1293, 'analytical': 1294, 'prudential-bache': 1295, 'heavy': 1296, 'past': 1297, 'internal': 1298, 'multiple': 1299, 'lesser': 1300, 'what': 1301, 'lehman': 1302, 'contributed': 1303, 'comments': 1304, 'contributing': 1305, 'closed': 1306, 'constitute': 1307, 'boost': 1308, 'public': 1309, 'ability': 1310, 'bilion': 1311, 'boosting': 1312, 'along': 1313, 'takes': 1314, 'e.f': 1315, 'created': 1316, 'reduced': 1317, 'suggests': 1318, 'place': 1319, 'changes': 1320, 'road': 1321, 'comment': 1322, 'others': 1323, 'spinning': 1324, 'axp>': 1325, 'speculated': 1326, 'your': 1327, 'use': 1328, 'silent': 1329, 'mark': 1330, 'hutton': 1331, 'way': 1332, 'option': 1333, 'valuations': 1334, 'enormous': 1335, 'volume': 1336, 'believe': 1337, 'partially': 1338, 'divisions': 1339, 'being': 1340, 'believes': 1341, 'considered': 1342, 'contrary': 1343, 'disagreed': 1344, 'larry': 1345, 'unlikely': 1346, 'remained': 1347, 'sense': 1348, 'helped': 1349, 'need': 1350, 'seen': 1351, 'shearson': 1352, 'sell': 1353, 'rumors': 1354, 'make': 1355, 'eckenfelder': 1356, 'water': 1357, 'book': 1358, 'you': 1359, 'several': 1360, 'kinds': 1361, 'brothers': 1362, 'variation': 1363, 'reflect': 1364, 'most': 1365, 'services': 1366, 'such': 1367, 'expand': 1368, 'exposure': 1369, 'lane': 1370, 'vacant': 1371, 'investing': 1372, 'chief': 1373, 'lift': 1374, 'command': 1375, 'fact': 1376, 'components': 1377, 'after-tax': 1378, 'position': 1379, 'travel': 1380, 'talk': 1381, 'economists': 1382, 'polled': 1383, 'revised': 1384, 'forecast': 1385, 'reuters': 1386, 'four-week': 1387, 'm-1': 1388, 'moving': 1389, 'while': 1390, 'anywhere': 1391, 'called': 1392, 'fluctuate': 1393, 'feed': 1394, 'pork': 1395, 'chinese': 1396, 'reduce': 1397, 'numbers': 1398, 'hog': 1399, 'start': 1400, 'projected': 1401, 'production': 1402, 'above': 1403, 'cause': 1404, 'head': 1405, 'herd': 1406, 'output': 1407, 'quarters': 1408, 'substantial': 1409, 'result': 1410, 'particularly': 1411, 'subsequent': 1412, 'minimal': 1413, 'continuing': 1414, 'reach': 1415, 'pressure': 1416, 'steel': 1417, 'canadian': 1418, 'railroads': 1419, 'carloadings': 1420, 'mill': 1421, 'cars': 1422, 'totalled': 1423, 'raised': 1424, 'pacific': 1425, 'kong': 1426, 'hong': 1427, 'disclosed': 1428, 'wrather': 1429, 'purposes': 1430, 'investments': 1431, 'publicly': 1432, 'brierley': 1433, 'principally': 1434, 'bought': 1435, 'dls': 1436, 'coleco': 1437, 'shamrock': 1438, 'cuts': 1439, 'reduction': 1440, 'intermediate': 1441, 'crude': 1442, 'diamond': 1443, 'brings': 1444, 'weak': 1445, 'markets': 1446, 'citing': 1447, 'posted': 1448, 'barrel': 1449, 'liebert': 1450, 'receive': 1451, 'emerson': 1452, 'wholly-owned': 1453, 'fair': 1454, 'profitability': 1455, 'primarily': 1456, 'morton': 1457, 'enable': 1458, 'more': 1459, 'diversified': 1460, 'reasonable': 1461, 'prepared': 1462, 'vice': 1463, 'changed': 1464, 'patch': 1465, 'toy': 1466, 'swing': 1467, 'steep': 1468, 'engaged': 1469, 'closing': 1470, 'explain': 1471, 'subsidiaries': 1472, 'post': 1473, 'miami-based': 1474, 'elected': 1475, 'recently': 1476, 'robeson': 1477, 'singer': 1478, 'carl': 1479, 'study': 1480, 'fundamental': 1481, 'office': 1482, 'caused': 1483, 'focus': 1484, 'sources': 1485, 'certs': 1486, 'committee': 1487, 'committed': 1488, 'source': 1489, 'firmly': 1490, 'depends': 1491, 'preparing': 1492, 'specific': 1493, 'expanded': 1494, 'senate': 1495, 'cost': 1496, 'sen': 1497, 'encourage': 1498, 'forfeitures': 1499, 'expansion': 1500, 'outlays': 1501, 'obtained': 1502, 'industry': 1503, 'decrease': 1504, 'remains': 1505, 'fire': 1506, 'gao': 1507, 'former': 1508, 'consultant': 1509, 'budget': 1510, 'costly': 1511, 'accounting': 1512, 'suggest': 1513, 'administration': 1514, 'mid': 1515, 'shortly': 1516, 'request': 1517, 'analysis': 1518, 'stockpile': 1519, 'weigh': 1520, 'unrealized': 1521, 'petroleum': 1522, 'writedowns': 1523, 'losses': 1524, 'yr-ago': 1525, 'page': 1526, 'communications': 1527, 'idb': 1528, 'ten': 1529, 'seeing': 1530, 'soon': 1531, 'manager': 1532, 'paul': 1533, 'easy': 1534, 'policy': 1535, 'do': 1536, 'them': 1537, 'emergency': 1538, 'condition': 1539, 'bpd': 1540, 'university': 1541, 'slide': 1542, 't': 1543, 'characterized': 1544, 'salomon': 1545, 'prompted': 1546, 'differentials': 1547, 'learn': 1548, 'mideast': 1549, 'even': 1550, 'daniel': 1551, 'hold': 1552, 'principal': 1553, 'issue': 1554, 'critical': 1555, 'movement': 1556, 'regain': 1557, 'deemed': 1558, 'never': 1559, 'agreement': 1560, 'harvard': 1561, 'mizrahi': 1562, 'anything': 1563, 'keep': 1564, 'faces': 1565, 'cambridge': 1566, 'yergin': 1567, 'address': 1568, 'opec': 1569, 'addressed': 1570, 'excesses': 1571, 'lesson': 1572, 'environment': 1573, 'given': 1574, 'cheating': 1575, 'spoke': 1576, 'pessimistic': 1577, 'editor': 1578, 'dillard': 1579, 'back': 1580, 'trying': 1581, 'pact': 1582, 'uncertain': 1583, 'optimism': 1584, 'can': 1585, 'cannot': 1586, 'meet': 1587, 'problem': 1588, 'sort': 1589, 'associates': 1590, 'optimistic': 1591, 'david': 1592, 'clearly': 1593, 'forced': 1594, 'advantage': 1595, 'take': 1596, 'interview': 1597, 'closer': 1598, 'director': 1599, 'mlotok': 1600, 'rising': 1601, 'winter': 1602, 'we': 1603, 'together': 1604, 'thought': 1605, 'wishes': 1606, 'so': 1607, 'barrels': 1608, 'produce': 1609, 'feet': 1610, 'recover': 1611, 'disappear': 1612, 'cubic': 1613, 'noncash': 1614, 'crg>': 1615, 'properties': 1616, 'bcf': 1617, 'cenergy': 1618, 'following': 1619, 'telecom': 1620, 'declares': 1621, 'post-split': 1622, 'authorizes': 1623, 'redeem': 1624, 'repurchase': 1625, 'subordinated': 1626, 'debentures': 1627, 'educational': 1628, 'wilfred': 1629, 'thomas': 1630, 'retired': 1631, 'professor': 1632, 'seek': 1633, 'burnham': 1634, 'angeles': 1635, 'los': 1636, 'father': 1637, 'his': 1638, 'lambert': 1639, 'epsilon': 1640, 'drexel': 1641, 'senior': 1642, 'li': 1643, 'cote': 1644, 'private': 1645, 'ruled': 1646, 'become': 1647, 'deal': 1648, 'key': 1649, 'faith': 1650, 'completing': 1651, 'whampoa': 1652, 'equally': 1653, 'ka-shing': 1654, 'union': 1655, 'nova': 1656, 'imperial': 1657, 'minister': 1658, 'ruling': 1659, 'owns': 1660, 'holding': 1661, 'hutchison': 1662, 'wins': 1663, 'husky': 1664, 'michel': 1665, 'excludes': 1666, 'ssbk>': 1667, 'coastal': 1668, 'maine': 1669, 'csbk>': 1670, 'gets': 1671, 'needs': 1672, 'suffield': 1673, 'me': 1674, 'afg>': 1675, 'afg': 1676, 'camco': 1677, 'enterprises': 1678, 'santa': 1679, 'anita': 1680, 'liquid': 1681, 'air': 1682, 'marshall': 1683, 'drummond': 1684, 'mccall': 1685, 'details': 1686, 'mayfair': 1687, 'saying': 1688, 'burlington': 1689, 'profitably': 1690, 'handle': 1691, 'television': 1692, 'drilling': 1693, 'supplies': 1694, 'restart': 1695, 'algerian': 1696, 'bring': 1697, 'productions': 1698, 'soft': 1699, 'economically': 1700, 'trend': 1701, 'lng': 1702, 'onstream': 1703, 'relate': 1704, 'expressed': 1705, 'state': 1706, 'resume': 1707, 'frank': 1708, 'panhandle': 1709, 'feasible': 1710, 'requirements': 1711, 'context': 1712, 'peak': 1713, 'marginal': 1714, 'liquefied': 1715, 'trust': 1716, 'algeria': 1717, 'eastern': 1718, 'negotiating': 1719, 'supplemental': 1720, 'happen': 1721, 'agree': 1722, 'indicated': 1723, 'bros': 1724, 'emphasize': 1725, 'tighten': 1726, 'though': 1727, 'serve': 1728, 'lag': 1729, 'spadine': 1730, 'director-general': 1731, 'required': 1732, 'bankers': 1733, 'volumes': 1734, 'operate': 1735, 'gdp': 1736, 'unemployment': 1737, 'competitive': 1738, 'stability': 1739, 'earners': 1740, 'bright': 1741, 'signs': 1742, 'speed': 1743, 'equipment': 1744, 'organisation': 1745, 'developments': 1746, 'gave': 1747, 'meant': 1748, 'nation': 1749, 'balances': 1750, 'tourism': 1751, 'success': 1752, 'accelerating': 1753, 'grows': 1754, 'satisfactory': 1755, 'franc': 1756, 'creation': 1757, 'plant': 1758, 'slowdown': 1759, 'relative': 1760, 'economic': 1761, 'picked': 1762, 'combining': 1763, 'gross': 1764, 'shown': 1765, 'cooperation': 1766, 'assuming': 1767, 'rationalisation': 1768, 'preserve': 1769, 'slight': 1770, 'respectively': 1771, 'monetary': 1772, 'lead': 1773, 'job': 1774, 'slow': 1775, 'leaving': 1776, 'consequence': 1777, 'contribution': 1778, 'scope': 1779, 'followed': 1780, 'appeared': 1781, 'pick-up': 1782, 'reflected': 1783, 'flexibility': 1784, 'consumption': 1785, 'area': 1786, 'question': 1787, 'oecd': 1788, 'francs': 1789, 'lowest': 1790, 'contribute': 1791, 'vigorous': 1792, 'appreciation': 1793, 'reflecting': 1794, 'external': 1795, 'somewhat': 1796, 'excellent': 1797, 'modernisation': 1798, 'policies': 1799, 'deregulation': 1800, 'unusually': 1801, 'real': 1802, 'sector': 1803, 'sharp': 1804, 'buoyant': 1805, 'tight': 1806, 'weakness': 1807, 'concern': 1808, 'shrink': 1809, 'absorb': 1810, 'workforce': 1811, 'long-term': 1812, 'modest': 1813, 'faster': 1814, 'sectors': 1815, 'itself': 1816, 'machinery': 1817, 'swiss': 1818, 'consumer': 1819, 'affair': 1820, 'decide': 1821, 'just': 1822, \"don't\": 1823, 'soviets': 1824, 'capitol': 1825, 'hint': 1826, 'informal': 1827, 'representing': 1828, 'comprised': 1829, 'groups': 1830, 'eep': 1831, 'lyng': 1832, \"isn't\": 1833, 'secretary': 1834, 'iran': 1835, 'fired': 1836, 'delayed': 1837, 'house': 1838, 'aide': 1839, 'see': 1840, 'actively': 1841, 'arms': 1842, 'richard': 1843, 'favor': 1844, 'hill': 1845, 'china': 1846, 'described': 1847, 'dormant': 1848, 'urged': 1849, 'suggestion': 1850, 'consultations': 1851, 'reagan': 1852, 'consummated': 1853, 'consideration': 1854, 'pledge': 1855, 'whom': 1856, 'visit': 1857, 'sides': 1858, 'subsidy': 1859, 'confident': 1860, 'live': 1861, 'calm': 1862, 'subsidized': 1863, 'basic': 1864, 'formally': 1865, 'interviewed': 1866, 'representative': 1867, 'deliberations': 1868, 'sailing': 1869, 'economics': 1870, 'interagency': 1871, 'stemming': 1872, 'moscow': 1873, 'congress': 1874, 'counterparts': 1875, 'took': 1876, 'clear': 1877, 'overnight': 1878, 'asked': 1879, 'soviet': 1880, 'granted': 1881, 'manufactures': 1882, 'noble': 1883, 'ontario': 1884, 'versatile': 1885, 'exhibit': 1886, 'groupe': 1887, 'specializes': 1888, 'memotec': 1889, 'sweet': 1890, 'edmonton': 1891, 'hills': 1892, 'texaco': 1893, 'postings': 1894, 'benchmark': 1895, 'bbl': 1896, 'signing': 1897, 'erodible': 1898, 'broaden': 1899, 'cropland': 1900, 'demands': 1901, 'tide': 1902, '10-year': 1903, 'doubtful': 1904, 'consider': 1905, 'retroactive': 1906, 'referring': 1907, 'giving': 1908, 'charles': 1909, 'grassley': 1910, 'stop': 1911, 'r-iowa': 1912, 'land': 1913, 'follow': 1914, 'enrolled': 1915, 'grades': 1916, 'marathon': 1917, 'louisiana': 1918, 'sour': 1919, 'weston': 1920, 'george': 1921, 'own': 1922, 'plantings': 1923, 'allowed': 1924, 'growers': 1925, 'grown': 1926, 'planting': 1927, 'extend': 1928, 'historic': 1929, 'failed': 1930, 'farmer': 1931, 'iowa': 1932, 'acreage': 1933, 'complained': 1934, 'exemption': 1935, 'restrict': 1936, 'eligible': 1937, 'crops': 1938, 'relief': 1939, 'allow': 1940, 'lose': 1941, 'defined': 1942, 'narrowly': 1943, 'broadly': 1944, 'm-3': 1945, 'grew': 1946, 'unadjusted': 1947, 'pretax': 1948, 'ionic': 1949, 'boards': 1950, 'circuit': 1951, 'maker': 1952, 'livestock': 1953, 'deliveries': 1954, 'looking': 1955, 'ratio': 1956, 'surged': 1957, 'halting': 1958, '30s': 1959, 'unprofitable': 1960, 'speculators': 1961, 'margins': 1962, 'best': 1963, 'dropping': 1964, 'hopefully': 1965, 'notice': 1966, 'processing': 1967, 'here': 1968, 'met': 1969, 'ratios': 1970, 'active': 1971, 'trader': 1972, 'plus': 1973, 'steadily': 1974, 'reducing': 1975, 'soymeal': 1976, 'ton': 1977, 'lot': 1978, 'sharply': 1979, 'central': 1980, 'buying': 1981, 'plants': 1982, 'little': 1983, 'many': 1984, 'taking': 1985, 'later': 1986, 'cbt': 1987, 'prompting': 1988, 'lock': 1989, 'pushed': 1990, 'surge': 1991, 'setting': 1992, 'finding': 1993, 'temporary': 1994, 'users': 1995, 'attempt': 1996, 'futures': 1997, 'face': 1998, 'premiums': 1999, 'far': 2000, 'every': 2001, '3rd': 2002, 'boxes': 2003, 'mail': 2004, '3-for-2': 2005, '2-for-1': 2006, \"economists'\": 2007, 'existing': 2008, 'scott': 2009, 'fine': 2010, 'covered': 2011, 'lending': 2012, 'congressional': 2013, 'policy-making': 2014, 'grip': 2015, 'pull': 2016, 'reporters': 2017, 'matched': 2018, 'course': 2019, 'doubled': 2020, 'progress': 2021, \"won't\": 2022, 'security': 2023, 'jump': 2024, 'darwin': 2025, 'missed': 2026, 'decisions': 2027, 'decision': 2028, 'justified': 2029, 'degree': 2030, 'eye': 2031, 'support': 2032, 'volcker': 2033, 'wanted': 2034, 'ahead': 2035, 'exaggerated': 2036, 'bob': 2037, 'wire': 2038, 'expect': 2039, \"banks'\": 2040, \"couldn't\": 2041, 'path': 2042, 'ailing': 2043, 'miss': 2044, 'similarly': 2045, 'caught': 2046, 'agreements': 2047, 'boston': 2048, 'marginally': 2049, 'neutral': 2050, 'tightened': 2051, 'word': 2052, 'showed': 2053, 'attention': 2054, 'mr': 2055, 'measure': 2056, 'my': 2057, 'sizeable': 2058, 'disappointing': 2059, 'draining': 2060, 'confirmation': 2061, 'thing': 2062, 'fears': 2063, 'fairly': 2064, 'forecasts': 2065, 'easing': 2066, 'nothing': 2067, 'vein': 2068, 'drain': 2069, 'johnson': 2070, 'shrugged': 2071, 'perhaps': 2072, 'maintain': 2073, 'waited': 2074, 'electricity': 2075, 'federation': 2076, 'governments': 2077, 'christmas': 2078, 'develle': 2079, 'commented': 2080, 'leaders': 2081, 'nearing': 2082, 'elections': 2083, 'targets': 2084, 'defence': 2085, 'french': 2086, 'resulting': 2087, 'abolition': 2088, 'france': 2089, 'supporters': 2090, 'believed': 2091, 'autumn': 2092, 'edouard': 2093, 'vicious': 2094, 'spectre': 2095, 'chosen': 2096, 'undermined': 2097, 'finance': 2098, 'side': 2099, 'series': 2100, 'societe': 2101, 'clauses': 2102, 'living': 2103, 'incentives': 2104, 'put': 2105, 'estimate': 2106, 'receipts': 2107, 'training': 2108, 'ministry': 2109, 'chirac': 2110, 'already': 2111, 'force': 2112, 'wages': 2113, 'top': 2114, 'priority': 2115, 'banque': 2116, 'damaging': 2117, 'ceiling': 2118, 'rejected': 2119, 'rent': 2120, 'built': 2121, 'responsible': 2122, 'purchasing': 2123, 'labour': 2124, 'measures': 2125, 'immediate': 2126, 'achievement': 2127, 'salary': 2128, 'once-off': 2129, 'impression': 2130, 'phenomenon': 2131, 'contacted': 2132, 'written': 2133, 'controls': 2134, 'achieve': 2135, 'exceptional': 2136, 'contracts': 2137, 'him': 2138, 'prime': 2139, 'calling': 2140, 'worrying': 2141, 'unions': 2142, 'renewed': 2143, 'protect': 2144, 'reverse': 2145, 'demanded': 2146, 'reluctantly': 2147, 'otherwise': 2148, 'point': 2149, 'maintained': 2150, 'partly': 2151, 'moderation': 2152, 'socialist': 2153, 'aim': 2154, 'claimed': 2155, 'productivity': 2156, 'restraint': 2157, 'blamed': 2158, 'kept': 2159, 'revising': 2160, 'spend': 2161, 'marais': 2162, 'rest': 2163, 'wage': 2164, 'generale': 2165, 'mix': 2166, 'workers': 2167, 'fractionally': 2168, 'facing': 2169, 'served': 2170, 'employment': 2171, 'balladur': 2172, 'moderate': 2173, 'leader': 2174, 'freed': 2175, 'slower': 2176, 'paribas': 2177, 'jacques': 2178, 'statistics': 2179, 'war': 2180, 'strikes': 2181, 'safeguard': 2182, 'similar': 2183, 'popularity': 2184, 'unbalanced': 2185, 'insee': 2186, 'push': 2187, 'discontinued': 2188, 'proved': 2189, 'distributions': 2190, 'independent': 2191, 'unitholders': 2192, 'remainder': 2193, 'discounted': 2194, 'ho>': 2195, 'engineers': 2196, 'underperforming': 2197, 'non-recurring': 2198, 'charges': 2199, 'restaurants': 2200, 'larger': 2201, 'clothing': 2202, 'index': 2203, 'mid-february': 2204, 'causing': 2205, 'compares': 2206, 'footwear': 2207, 'utilities': 2208, 'tokyo': 2209, 'medical': 2210, 'gasoline': 2211, 'coodination': 2212, 'vegetables': 2213, 'proceeds': 2214, 'avery': 2215, 'register': 2216, 'repay': 2217, 'term': 2218, 'exploiting': 2219, 'calendar': 2220, 'inflated': 2221, 'non-bank': 2222, 'became': 2223, 'russell': 2224, 'apparent': 2225, 'governor': 2226, 'moved': 2227, 'differences': 2228, 'liquidity': 2229, 'spencer': 2230, 'unquoted': 2231, 'yen': 2232, 'cd': 2233, 'mmc': 2234, 'acceptance': 2235, \"bankers'\": 2236, 'starting': 2237, 'welfare': 2238, 'paris': 2239, 'health': 2240, 'local': 2241, 'introduce': 2242, 'choice': 2243, 'using': 2244, 'postal': 2245, 'resolve': 2246, 'posts': 2247, 'depositors': 2248, 'abolishing': 2249, 'works': 2250, 'people': 2251, 'corporations': 2252, 'bureau': 2253, 'suggested': 2254, 'ministries': 2255, 'stimulate': 2256, 'coupon': 2257, 'channels': 2258, 'determine': 2259, 'impossible': 2260, 'telecommunications': 2261, 'legally': 2262, 'parliament': 2263, 'tandem': 2264, 'nations': 2265, 'minus': 2266, 'minimum': 2267, 'bonds': 2268, 'abolish': 2269, 'revision': 2270, 'reached': 2271, 'usually': 2272, 'uses': 2273, 'law': 2274, 'advisory': 2275, 'planning': 2276, 'household': 2277, 'expectation': 2278, 'epac': 2279, 'sustain': 2280, 'sluggish': 2281, 'august': 2282, 'equivalent': 2283, 'disposable': 2284, 'rapid': 2285, 'hand': 2286, 'appears': 2287, 'pick': 2288, 'budgetary': 2289, 'markedly': 2290, 'positive': 2291, 'moderately': 2292, 'strategy': 2293, 'indicate': 2294, 'expanding': 2295, 'australian': 2296, 'correction': 2297, 'depreciations': 2298, 'indicators': 2299, 'treasurer': 2300, 'keating': 2301, 'recede': 2302, 'depreciation': 2303, 'strengthening': 2304, 'council': 2305, 'wane': 2306, 'slowing': 2307, 'seem': 2308, 'non-farm': 2309, 'speech': 2310, 'welcome': 2311, 'nevertheless': 2312, 'concluded': 2313, 'advance': 2314, 'commitments': 2315, 'rice': 2316, 'exported': 2317, 'thai': 2318, 'commerce': 2319, 'requirement': 2320, 'distant': 2321, 'raise': 2322, 'except': 2323, 'red': 2324, 'stay': 2325, 'margin': 2326, 'global': 2327, 'thirds': 2328, 'speculate': 2329, 'majority': 2330, 'sparks': 2331, 'tabled': 2332, 'passed': 2333, 'formula': 2334, 'unwilling': 2335, 'proposals': 2336, 'prolonged': 2337, 'shelf': 2338, 'phase': 2339, 'availability': 2340, 'solution': 2341, 'sight': 2342, 'saturday': 2343, 'yet': 2344, 'method': 2345, 'either': 2346, 'possibility': 2347, 'supermarket': 2348, 'represented': 2349, 'luis': 2350, 'quo': 2351, 'reaction': 2352, 'forum': 2353, 'package': 2354, 's': 2355, 'retain': 2356, 'implement': 2357, 'retail': 2358, 'facilitate': 2359, 'allowing': 2360, 'requiring': 2361, 'device': 2362, 'smaller': 2363, 'promise': 2364, 'suspended': 2365, 'exporter': 2366, 'ad': 2367, 'consuming': 2368, 'flying': 2369, 'scheme': 2370, 'tempers': 2371, 'debate': 2372, 'accept': 2373, 'escalante': 2374, 'dissident': 2375, 'regulate': 2376, 'hoc': 2377, 'rather': 2378, 'divided': 2379, 'resuming': 2380, 'status': 2381, 'minority': 2382, 'separate': 2383, 'exportable': 2384, 'soared': 2385, 'onto': 2386, 'indonesia': 2387, 'incorporating': 2388, 'issues': 2389, 'maturing': 2390, 'treasury': 2391, 'italian': 2392, 'embassy': 2393, 'drawdown': 2394, 'pests': 2395, 'devaluation': 2396, 'reluctance': 2397, 'indonesian': 2398, 'insect': 2399, 'rupiah': 2400, 'oct-sept': 2401, 'yields': 2402, 'shortage': 2403, 'ban': 2404, 'constraints': 2405, 'declines': 2406, 'palm': 2407, 'copra': 2408, 'outbreak': 2409, 'plywood': 2410, 'officially': 2411, 'kernels': 2412, 'resistant': 2413, 'seeds': 2414, 'revenue': 2415, 'brought': 2416, 'staple': 2417, 'tea': 2418, 'underlines': 2419, 'slump': 2420, 'known': 2421, 'look': 2422, 'zero': 2423, 'promising': 2424, 'brown': 2425, 'shift': 2426, 'rubber': 2427, 'sugarcane': 2428, 'grow': 2429, 'types': 2430, 'varieties': 2431, 'largely': 2432, 'disease': 2433, 'ali': 2434, 'pricing': 2435, 'pegged': 2436, 'arab': 2437, 'suffering': 2438, 'lost': 2439, 'fernando': 2440, 'charging': 2441, 'al-qabas': 2442, 'qatar': 2443, 'network': 2444, 'kuwait': 2445, 'santos': 2446, 'difficulties': 2447, 'denied': 2448, 'body': 2449, 'marketing': 2450, 'pumping': 2451, 'resisting': 2452, 'faced': 2453, 'limits': 2454, 'sheikh': 2455, 'baseless': 2456, 'facilities': 2457, 'deputy': 2458, 'self-imposed': 2459, 'al-sabah': 2460, 'elaborate': 2461, 'reference': 2462, 'geneva': 2463, 'al-khalifa': 2464, 'alvite': 2465, 'none': 2466, 'challenge': 2467, 'emirates': 2468, 'reaffirmed': 2469, 'apparently': 2470, '13-nation': 2471, 'traders': 2472, 'planned': 2473, 'remarks': 2474, 'three-month': 2475, 'refining': 2476, 'exceeding': 2477, 'contracted': 2478, 'excessive': 2479, 'reforms': 2480, 'south-east': 2481, 'asian': 2482, 'suffer': 2483, 'restrictions': 2484, 'advisers': 2485, 'indications': 2486, 'continuation': 2487, 'hope': 2488, 'hit': 2489, 'continues': 2490, 'severely': 2491, 'liberalised': 2492, 'notes': 2493, 'steps': 2494, 'pertains': 2495, 'strongly': 2496, 'exerted': 2497, 'crucial': 2498, 'asia': 2499, 'pressures': 2500, 'outside': 2501, 'favours': 2502, 'million': 2503, 'relaxation': 2504, 'swift': 2505, 'non-oil': 2506, 'suharto': 2507, 'plastics': 2508, 'welcomed': 2509, 'substitution': 2510, 'recommending': 2511, 'political': 2512, 'direction': 2513, 'regard': 2514, 'construction': 2515, 'deregulate': 2516, 'population': 2517, 'crossroads': 2518, 'reviews': 2519, 'monopolies': 2520, 'protected': 2521, 'momentum': 2522, 'launched': 2523, 'coupled': 2524, 'virtual': 2525, 'counter': 2526, 'devalue': 2527, 'timely': 2528, 'affected': 2529, 'bacteria': 2530, 'seriously': 2531, 'animal': 2532, 'husbandry': 2533, 'fisheries': 2534, 'diseases': 2535, 'combat': 2536, 'eggs': 2537, 'threatened': 2538, 'hectares': 2539, 'survive': 2540, 'news': 2541, 'warm': 2542, 'threat': 2543, 'lack': 2544, 'firmer': 2545, 'six-month': 2546, 'one-week': 2547, 'saudi': 2548, 'difficulty': 2549, 'succeed': 2550, 'uncertainty': 2551, 'quiet': 2552, 'quietly': 2553, 'ranging': 2554, 'interbank': 2555, 'riyal': 2556, 'lull': 2557, 'sunday': 2558, 'weekend': 2559, 'traditional': 2560, 'outlining': 2561, 'relieve': 2562, 'assigned': 2563, 'expectations': 2564, 'bin': 2565, 'foremost': 2566, 'burden': 2567, 'projects': 2568, 'regarding': 2569, 'surrounding': 2570, 'trends': 2571, 'decided': 2572, 'publish': 2573, 'riyals': 2574, 'order': 2575, 'heads': 2576, 'recovering': 2577, 'wealth': 2578, 'abdul-aziz': 2579, 'taken': 2580, 'unveils': 2581, 'placed': 2582, 'limit': 2583, 'determination': 2584, 'education': 2585, 'recurrent': 2586, 'buildings': 2587, 'social': 2588, 'revealed': 2589, 'departments': 2590, 'expenditure': 2591, 'reviewed': 2592, \"authorities'\": 2593, 'decade': 2594, 'greater': 2595, 'lacking': 2596, 'floated': 2597, 'joint': 2598, 'exchanges': 2599, 'underwriting': 2600, 'categories': 2601, 'reasonably': 2602, 'bond': 2603, 'flotation': 2604, 'proper': 2605, 'denominated': 2606, 'standards': 2607, 'short-term': 2608, 'appear': 2609, 'ways': 2610, 'develop': 2611, 'bsc>': 2612, 'behind': 2613, 'sliding': 2614, 'governing': 2615, 'extent': 2616, 'precious': 2617, 'region': 2618, 'citizens': 2619, 'introduction': 2620, 'incorporated': 2621, 'disclosure': 2622, 'family': 2623, 'instruments': 2624, 'offerings': 2625, 'accounts': 2626, 'lagging': 2627, 'establish': 2628, 'speak': 2629, 'estate': 2630, 'addition': 2631, 'locally': 2632, 'gib': 2633, 'bill': 2634, 'azzam': 2635, 'fragmented': 2636, 'incorporation': 2637, '1980s': 2638, 'recession': 2639, 'absence': 2640, 'henry': 2641, 'oman': 2642, 'bahrain': 2643, 'adopt': 2644, 'hoping': 2645, 'investors': 2646, 'metals': 2647, 'arabia': 2648, 'pursuing': 2649, 'uae': 2650, 'gcc': 2651, 'recovery': 2652, 'eventual': 2653, 'imminent': 2654, 'hampered': 2655, 'establishment': 2656, 'regulations': 2657, 'vehicles': 2658, 'depth': 2659, 'syndicated': 2660, 'satisfied': 2661, 'arabian': 2662, 'main': 2663, 'glut': 2664, 'stabilise': 2665, 'adhering': 2666, 'forces': 2667, 'adherence': 2668, 'turmoil': 2669, 'nigerian': 2670, 'pronounced': 2671, 'contacts': 2672, 'manipulate': 2673, 'accord': 2674, 'mid-1986': 2675, 'rilwanu': 2676, 'commitment': 2677, 'fundamentals': 2678, 'reiterated': 2679, 'hemisphere': 2680, 'hisham': 2681, 'architect': 2682, 'exist': 2683, 'spa': 2684, 'saw': 2685, 'briefly': 2686, 'nazer': 2687, 'lukman': 2688, 'aware': 2689, 'stick': 2690, 'reconvene': 2691, 'minute': 2692, 'night': 2693, 'lasting': 2694, 'compromise': 2695, 'two-thirds': 2696, 'adjourn': 2697, 'sometime': 2698, 'calculating': 2699, 'diminishing': 2700, 'response': 2701, 'without': 2702, 'resolved': 2703, 'protocol': 2704, 'conclude': 2705, 'egypt': 2706, 'identify': 2707, 'signed': 2708, 'negotiators': 2709, 'five-year': 2710, 'egyptian': 2711, 'team': 2712, 'end-1985': 2713, 'end-1987': 2714, 'suppliers': 2715, 'despite': 2716, 'arrears': 2717, 'kaunda': 2718, 'fix': 2719, 'suspension': 2720, 'zambia': 2721, 'bidders': 2722, 'kwacha': 2723, 'away': 2724, 'allocate': 2725, 'backed': 2726, 'auction': 2727, 'auctions': 2728, 'statements': 2729, 'reintroduced': 2730, 'successful': 2731, 'hoped': 2732, 'paying': 2733, \"hasn't\": 2734, 'replaced': 2735, 'aid': 2736, 'abolished': 2737, 'dismissed': 2738, 'fluctuations': 2739, 'fresh': 2740, 'cane': 2741, 'short-lived': 2742, 'self-sufficiency': 2743, 'promote': 2744, 'considerable': 2745, 'toshin': 2746, 'spokesmen': 2747, 'kokan': 2748, 'nippon': 2749, 'struggling': 2750, 'affiliates': 2751, 'azuma': 2752, 'kk': 2753, 'employs': 2754, 'importing': 2755, 'duties': 2756, 'customs-cleared': 2757, 'interim': 2758, 'jumped': 2759, 'cif': 2760, 'restore': 2761, 'aluminium': 2762, 'owing': 2763, 'smelter': 2764, 'mitsui': 2765, 'working': 2766, 'hydroelectric': 2767, 'metal': 2768, 'stopped': 2769, 'smelting': 2770, 'storage': 2771, 'refineries': 2772, 'exxon': 2773, 'xon>': 2774, 'test': 2775, 'yanbu': 2776, 'month-end': 2777, 'fallen': 2778, 'chevron': 2779, 'mobil': 2780, 'rallied': 2781, 'tx>': 2782, 'chv>': 2783, 'refinery': 2784, 'ras': 2785, 'floating': 2786, 'traditionally': 2787, 'generally': 2788, 'liftings': 2789, 'mob>': 2790, 'throughput': 2791, 'puts': 2792, 'assessment': 2793, 'cpo': 2794, 'provisional': 2795, 'black': 2796, 'netherlands': 2797, 'dip': 2798, 'significantly': 2799, 'probable': 2800, 'importer': 2801, 'component': 2802, 'tries': 2803, 'ctc': 2804, 'effort': 2805, 'bases': 2806, 're-introduction': 2807, 'biggest': 2808, 'plantations': 2809, 'stream': 2810, 'develops': 2811, 'diversify': 2812, 'green': 2813, 'competition': 2814, 'japanese': 2815, 'field': 2816, 'telegraph': 2817, 'ntt': 2818, 'factors': 2819, 'submitted': 2820, 'deregulated': 2821, 'introduced': 2822, 'berths': 2823, 'work': 2824, 'able': 2825, 'won': 2826, 'containers': 2827, 'yuan': 2828, 'foundation': 2829, 'mineral': 2830, 'coke': 2831, 'ores': 2832, 'all-time': 2833, 'intervention': 2834, 'end-january': 2835, 'massive': 2836, 'end-february': 2837, 'examine': 2838, 'close': 2839, 'ideas': 2840, 'noon': 2841, 'resulted': 2842, 'looked': 2843, 'extension': 2844, 'hours': 2845, 'morning': 2846, 'salvage': 2847, 'offtake': 2848, 'mills': 2849, 'factory': 2850, 'indian': 2851, 'imported': 2852, 'aimed': 2853, 'facility': 2854, 'tightness': 2855, 'relieving': 2856, 'guilders': 2857, 'dutch': 2858, 'subscriptions': 2859, 'advances': 2860, 'replaces': 2861, 'covering': 2862, 'seven-day': 2863, 'origin': 2864, 'accords': 2865, 'discouraged': 2866, 'flat': 2867, 'semi-annual': 2868, 'crushers': 2869, 'four-for-one': 2870, 'one-for-four': 2871, 'cheung': 2872, 'h.k': 2873, 'excluded': 2874, 'managed': 2875, 'incentive': 2876, 'industrier': 2877, 'wallenberg': 2878, 'match': 2879, 'investor': 2880, 'predators': 2881, 'speculation': 2882, 'prevent': 2883, 'alfa': 2884, 'empire': 2885, 'restricted': 2886, 'defend': 2887, 'sweden': 2888, 'london-based': 2889, 'core': 2890, 'providentia': 2891, 'fringe': 2892, 'heart': 2893, 'secure': 2894, 'amounted': 2895, 'fight': 2896, 'skanska': 2897, 'nobel': 2898, 'fought': 2899, 'st>': 2900, 'penser': 2901, 'interests': 2902, 'building': 2903, 'wallenbergs': 2904, 'chemicals': 2905, 'stora': 2906, 'originally': 2907, 'volvo': 2908, 'property': 2909, 'ab': 2910, 'activities': 2911, 'erik': 2912, 'financier': 2913, 'swedish': 2914, 'crowns': 2915, 'electrical': 2916, 'raid': 2917, 'asea': 2918, 'concentrating': 2919, 'undertaken': 2920, 'voting': 2921, 'left': 2922, 'planted': 2923, 'yield': 2924, 'pattern': 2925, 'supplier': 2926, 'willing': 2927, 'insufficient': 2928, 'prefer': 2929, 'goal': 2930, 'tendering': 2931, 'completion': 2932, 'icgs.l>': 2933, 'stg': 2934, 'shv': 2935, 'nominal': 2936, '700p': 2937, 'continental': 2938, 'converted': 2939, 'ic': 2940, 'holds': 2941, 'ordinary': 2942, 'england': 2943, 'take-up': 2944, 'exchequer': 2945, 'add': 2946, 'outflow': 2947, 'affecting': 2948, 'transactions': 2949, 'circulation': 2950, 'u.k': 2951, 'offsetting': 2952, 'bills': 2953, 'closely': 2954, 'gold': 2955, 'supported': 2956, 'front': 2957, 'miners': 2958, 'schemes': 2959, 'num': 2960, 'mines': 2961, 'anti-apartheid': 2962, 'endorse': 2963, 'mineworkers': 2964, 'attended': 2965, 'refused': 2966, 'takeover': 2967, 'owners': 2968, \"miners'\": 2969, 'africa': 2970, 'migrant': 2971, 'platinum': 2972, 'strike': 2973, 'families': 2974, 'stated': 2975, 'rally': 2976, 'uranium': 2977, 'movements': 2978, 'begin': 2979, 'attend': 2980, 'refuse': 2981, 'coal': 2982, 'nelson': 2983, 'african': 2984, 'claims': 2985, 'democratic': 2986, 'ec': 2987, 'announces': 2988, 'surveyed': 2989, 'allocation': 2990, 'community': 2991, 'maximum': 2992, 'tapioca': 2993, 'mid-january': 2994, 'one-year': 2995, 'tonnage': 2996, 'pledged': 2997, 'bigger': 2998, 'dam': 2999, 'pending': 3000, \"countries'\": 3001, 'views': 3002, 'keeping': 3003, 'remedial': 3004, 'state-owned': 3005, 'lagos': 3006, 'kuala': 3007, 'atpc': 3008, 'fulfil': 3009, 'achieved': 3010, 'non-members': 3011, 'kilo': 3012, 'malaysia': 3013, 'zaire': 3014, 'unavailable': 3015, 'ringgit': 3016, 'discretion': 3017, 'hardship': 3018, 'found': 3019, 'licences': 3020, 'sole': 3021, 'bangkok': 3022, 'subroto': 3023, 'monitor': 3024, 'reallocated': 3025, 'applications': 3026, 'breached': 3027, 'exemptions': 3028, 'approve': 3029, 'extra': 3030, 'permitted': 3031, 'comibol': 3032, 'correspondents': 3033, 'nigeria': 3034, 'insure': 3035, 'started': 3036, 'risks': 3037, 'mine': 3038, 'curb': 3039, 'goals': 3040, 'documents': 3041, 'produces': 3042, 'stockpiles': 3043, 'paz': 3044, 'tin': 3045, 'musa': 3046, 'cooperate': 3047, 'breach': 3048, 'roughly': 3049, 'widened': 3050, 'quickly': 3051, 'schedule': 3052, 'korea': 3053, 'kim': 3054, 'oil-bearing': 3055, 'soyabean': 3056, 'margarine': 3057, 'rape': 3058, 'groundnut': 3059, 'oils': 3060, 'fat': 3061, 'fats': 3062, 'rapeseed': 3063, 'sun': 3064, 'sunflower': 3065, 'materials': 3066, 'shandong': 3067, 'diplomats': 3068, '1985': 3069, 'boosts': 3070, 'northeast': 3071, 'province': 3072, 'western': 3073, 'deficits': 3074, 'double': 3075, 'purchased': 3076, 'insurance': 3077, 'broker': 3078, 'inc.>': 3079, 'tangible': 3080, 'r': 3081, 'plc>': 3082, 'businesses': 3083, 'non-manufacturing': 3084, 'trimmed': 3085, 'manufacturing': 3086, 'foresee': 3087, 'combined': 3088, 'listed': 3089, 'cope': 3090, 'soyoil': 3091, 'ease': 3092, 'dealer': 3093, 'refiner': 3094, 'olein': 3095, 'disappointed': 3096, 'malaysian': 3097, 'rbd': 3098, 'two-year': 3099, 'denomination': 3100, 'half-point': 3101, 'lowering': 3102, 'example': 3103, 'mmcs': 3104, 'maturities': 3105, 'liberalisation': 3106, 'trim': 3107, 'huge': 3108, 'mainly': 3109, 'stood': 3110, 'island': 3111, 'newsletter': 3112, 'sunmeal': 3113, 'usage': 3114, 'meanwhile': 3115, 'citruspulp': 3116, 'seasonal': 3117, 'psl2': 3118, 'non-interest': 3119, 'repayment': 3120, 'confirm': 3121, 'broad': 3122, 'narrow': 3123, 'non-seasonally': 3124, 'm0': 3125, 'm3': 3126, 'bearing': 3127, 'non-adjusted': 3128, 'contractionary': 3129, 'confirms': 3130, 'confirmed': 3131, 'sterling': 3132, 'psbr': 3133, 'coin': 3134, 'lacy': 3135, 'partners': 3136, 'rapidly': 3137, 'obligations': 3138, 'employed': 3139, 'valued': 3140, 'offices': 3141, 'london': 3142, 'where': 3143, 'commonwealth': 3144, 'lifted': 3145, 'rmj': 3146, 'peter': 3147, 'provided': 3148, 'suggesting': 3149, 'agencies': 3150, 'plc': 3151, 'british': 3152, 'permission': 3153, 'stakes': 3154, 'fees': 3155, 'bcom.l>': 3156, 'c': 3157, 'brokers': 3158, 'exco': 3159, 'shipping': 3160, 'broking': 3161, 'sponsored': 3162, 'managing': 3163, 'software': 3164, 'turnover': 3165, 'pakistan': 3166, 'refined': 3167, 'deodorised': 3168, 'bleached': 3169, 'conditional': 3170, 'enlarged': 3171, 'agrees': 3172, 'coloroll': 3173, 'distributes': 3174, 'having': 3175, 'original': 3176, 'unilateral': 3177, 'backing': 3178, 'conference': 3179, 'decree': 3180, 'carlsson': 3181, 'party': 3182, 'u.n': 3183, 'boycott': 3184, 'adopting': 3185, 'sanctions': 3186, 'apartheid': 3187, 'assistance': 3188, 'band': 3189, 'downward': 3190, 'outright': 3191, 'comprising': 3192, 'receives': 3193, 'replied': 3194, 'increasingly': 3195, 'sent': 3196, 'lloyd': 3197, 'especially': 3198, 'overhanging': 3199, 'auspices': 3200, 'pave': 3201, 'procedures': 3202, 'structural': 3203, 'fields': 3204, 'list': 3205, 'admitted': 3206, 'annually': 3207, 'hard': 3208, 'multilateral': 3209, 'discussions': 3210, 'top-level': 3211, 'machines': 3212, 'universities': 3213, 'high-level': 3214, 'understood': 3215, 'favour': 3216, 'access': 3217, 'slash': 3218, 'frustrated': 3219, 'imbalance': 3220, 'easily': 3221, 'leverage': 3222, 'retaliatory': 3223, 'speedy': 3224, 'bentsen': 3225, 'senator': 3226, 'tariffs': 3227, 'delicate': 3228, 'protectionist': 3229, 'washington': 3230, 'reciprocal': 3231, 'intention': 3232, 'spending': 3233, 'bargaining': 3234, 'relations': 3235, 'draft': 3236, 'frustration': 3237, 'topics': 3238, 'criteria': 3239, 'bidding': 3240, 'eventually': 3241, 'potential': 3242, 'structures': 3243, 'abandon': 3244, 'happy': 3245, 'minutes': 3246, 'computers': 3247, 'sagging': 3248, 'implications': 3249, 'pressing': 3250, 'turn': 3251, 'gatt': 3252, 'instead': 3253, 'forcing': 3254, 'schultz': 3255, 'intended': 3256, 'lay': 3257, 'complaints': 3258, 'sophisticated': 3259, 'singled': 3260, 'bilateral': 3261, 'variety': 3262, 'appreciate': 3263, 'practices': 3264, 'cargoes': 3265, 'presence': 3266, 'carlton': 3267, 'adr': 3268, 'successfully': 3269, 'healthy': 3270, 'allegations': 3271, 'non-ferrous': 3272, 'complaint': 3273, 'dumping': 3274, 'opened': 3275, 'jobs': 3276, 'parties': 3277, 'mercury': 3278, 'threatening': 3279, 'threaten': 3280, 'opens': 3281, 'anti-dumping': 3282, 'authority': 3283, 'cases': 3284, 'procedure': 3285, 'capture': 3286, 'enquiry': 3287, 'harming': 3288, 'risen': 3289, 'so-called': 3290, 'longer': 3291, 'charged': 3292, 'resistance': 3293, 'coordination': 3294, 'wam': 3295, 'implementation': 3296, 'ministers': 3297, 'exporting': 3298, 'buyer': 3299, 'stiff': 3300, 'discuss': 3301, 'stabilize': 3302, 'newspaper': 3303, 'unacceptable': 3304, 'renegotiate': 3305, 'textile': 3306, 'generous': 3307, 'items': 3308, 'round': 3309, 'delegation': 3310, 'textiles': 3311, 'losing': 3312, 'leaves': 3313, 'shoes': 3314, 'selective': 3315, 'taipei': 3316, 'tools': 3317, 'protectionism': 3318, 'criticised': 3319, 'deeper': 3320, 'taiwanese': 3321, 'limiting': 3322, 'wang': 3323, 'deep': 3324, 'partner': 3325, 'weakened': 3326, 'machine': 3327, 'boosted': 3328, 'spin': 3329, 'remaining': 3330, 'entire': 3331, 'pearson': 3332, 'cavendish': 3333, 'performing': 3334, 'separately': 3335, 'spin-off': 3336, 'container': 3337, 'risky': 3338, 'criticism': 3339, 'english': 3340, 'colony': 3341, 'pson.l>': 3342, 'adjusting': 3343, 'hotel': 3344, 'reorganisation': 3345, 'britain': 3346, 'hilton': 3347, 'adversely': 3348, 'issuing': 3349, 'hongkong': 3350, 'apple': 3351, 'supermac': 3352, 'disc': 3353, 'approximately': 3354, 'mountain': 3355, 'personal': 3356, 'privately': 3357, 'scientific': 3358, 'california': 3359, 'drive': 3360, 'micro': 3361, 'actions': 3362, 'giant': 3363, 'concerned': 3364, 'ambitious': 3365, 'walls': 3366, 'rumored': 3367, 'drove': 3368, 'enhanced': 3369, 'beyond': 3370, 'ultimately': 3371, 'unsuccessfully': 3372, 'approached': 3373, 'clarify': 3374, 'focused': 3375, 'rebuffed': 3376, 'options': 3377, 'integral': 3378, 'strategic': 3379, 'broadening': 3380, 'attempted': 3381, 'circulated': 3382, 'stand': 3383, 'employees': 3384, 'studying': 3385, 'jeffrey': 3386, \"express'\": 3387, 'matters': 3388, 'lender': 3389, 'ropak': 3390, 'evaluate': 3391, 'hostile': 3392, 'expired': 3393, 'buckhorn': 3394, 'bkn>': 3395, 'intends': 3396, 'meaningful': 3397, 'waived': 3398, 'cypriot': 3399, 'ran': 3400, 'refloat': 3401, 'guard': 3402, 'lodged': 3403, 'ship': 3404, 'creek': 3405, 'nuclear': 3406, 'philadelphia': 3407, 'hitting': 3408, 'aground': 3409, 'across': 3410, 'supporting': 3411, 'crash': 3412, 'carrying': 3413, 'spill': 3414, 'steering': 3415, 'rocks': 3416, 'delaware': 3417, 'transmission': 3418, 'tower': 3419, 'tanker': 3420, 'jersey': 3421, 'jr': 3422, 'resigned': 3423, \"directors'\": 3424, 'clifford': 3425, 'instrument': 3426, 'liability': 3427, 'penril': 3428, 'satisfy': 3429, 'hoffman': 3430, 'alexander': 3431, 'limitation': 3432, 'l': 3433, 'concentrate': 3434, 'estates': 3435, 'seeks': 3436, 'evaluating': 3437, 'claim': 3438, 'predecessor': 3439, 'measured': 3440, 'damage': 3441, 'difference': 3442, 'damages': 3443, 'dale': 3444, 'burdett': 3445, 'successor': 3446, 'exchanged': 3447, 'qualified': 3448, 'publications': 3449, 'executive': 3450, 'ground': 3451, 'warrant': 3452, 'interstate': 3453, 'auto': 3454, 'tanks': 3455, 'purolator': 3456, 'buyout': 3457, 'closure': 3458, 'predicted': 3459, 'staff': 3460, 'turning': 3461, 'competitor': 3462, 'expiration': 3463, 'wholly': 3464, 'messenger': 3465, 'warren': 3466, 'retains': 3467, 'acquiring': 3468, 'stant': 3469, 'expire': 3470, 'conditioned': 3471, 'managers': 3472, 'tendered': 3473, 'pcc>': 3474, 'owner': 3475, 'withdrawn': 3476, 'rivals': 3477, 'pc': 3478, 'courier': 3479, 'formed': 3480, 'jersey-based': 3481, 'financing': 3482, 'fleet': 3483, 'reviewing': 3484, 'bridge': 3485, 'lbo': 3486, 'containing': 3487, 'unless': 3488, 'mulling': 3489, 'william': 3490, 'aggregate': 3491, 'efh>': 3492, 'serious': 3493, 'carryover': 3494, 'reaches': 3495, 'bales': 3496, 'pounds': 3497, 'yarn': 3498, 'definitive': 3499, 'fsb>': 3500, 'barbara': 3501, 'german': 3502, 'shut': 3503, 'alcan': 3504, 'completely': 3505, 'ludwigshafen': 3506, 'ag': 3507, 'bbc': 3508, 'parent': 3509, 'cie': 3510, 'bbcz.z>': 3511, 'boveri': 3512, 'und': 3513, 'rename': 3514, 'partners>': 3515, 'vms': 3516, 'mhs>': 3517, 'seasons': 3518, 'biltmore': 3519, 'venture': 3520, 'invest': 3521, 'marriott': 3522, 'subscribe': 3523, 'non-voting': 3524, 'invite': 3525, 'consecutive': 3526, 'participation': 3527, 'par': 3528, 'subscription': 3529, 'omit': 3530, 'correspond': 3531, 'omits': 3532, 'r.i': 3533, 'roche': 3534, 'npt>': 3535, 'withdrawal': 3536, 'neco': 3537, 'f': 3538, 'starts': 3539, 'laroche': 3540, 'sydney': 3541, 'sdc': 3542, 'pre-tax': 3543, 'cronus': 3544, 'manufacturers': 3545, 'co>': 3546, 'u.s.': 3547, 'hart-scott-rodino': 3548, 'heat': 3549, 'financed': 3550, 'contributions': 3551, 'rich': 3552, 'reclamation': 3553, 'attributed': 3554, 'airport': 3555, 'expecting': 3556, 'harbour': 3557, 'associated': 3558, 'exchanging': 3559, 'build': 3560, 'society': 3561, 'assurance': 3562, 'viacom': 3563, 'arsenal': 3564, 'via>': 3565, 'fraction': 3566, 'mcv': 3567, 'ownership': 3568, 'equitable': 3569, 'amusements': 3570, 'cereals': 3571, 'onic': 3572, 'tabak': 3573, 'penn': 3574, 'traffic': 3575, 'miller': 3576, 'sb>': 3577, 'representatives': 3578, 'examining': 3579, 'delegate': 3580, 'colombian': 3581, 'historically': 3582, 'votes': 3583, 'wmx>': 3584, 'davis': 3585, 'containment': 3586, 'tentatively': 3587, 'pittston': 3588, 'wtc': 3589, 'n.v': 3590, 'tax-free': 3591, 'fast': 3592, 'generates': 3593, 'refusal': 3594, 'date': 3595, 'year-earlier': 3596, 'eliminate': 3597, 'elimination': 3598, 'non-strategic': 3599, 'underway': 3600, 'multi-step': 3601, 'listing': 3602, 'wishing': 3603, 'dealing': 3604, 'houses': 3605, 'bringing': 3606, 'signal': 3607, 'dismantling': 3608, 'swap': 3609, 'important': 3610, 'whittaker': 3611, 'retirement': 3612, 'wkr>': 3613, 'shop': 3614, 'store': 3615, 'provision': 3616, 'cos': 3617, 'jim': 3618, 'walter': 3619, 'jwc>': 3620, 'rpch>': 3621, 'wood': 3622, 'drs>': 3623, 'diagnostic': 3624, 'rospatch': 3625, 'drs': 3626, 'retrieval': 3627, 'wool': 3628, '90-day': 3629, 'affiliate': 3630, 'disposition': 3631, 'travelers': 3632, 'strip': 3633, 'maintenance': 3634, 'dates': 3635, 'defer': 3636, 'incurred': 3637, 'divestiture': 3638, 'sa': 3639, 'unsolicited': 3640, 'lp>': 3641, 'diligence': 3642, 'entities': 3643, 'jpn>': 3644, 'grace': 3645, 'persons': 3646, 'referred': 3647, 'samsung': 3648, 'realize': 3649, 'vote': 3650, 'hazleton': 3651, 'glw>': 3652, 'glass': 3653, 'corning': 3654, 'laboratories': 3655, 'prospectus': 3656, 'mailed': 3657, 'campaign': 3658, 'funded': 3659, 'cattle': 3660, 'experts': 3661, 'bangladesh': 3662, 'susceptible': 3663, 'risk': 3664, 'urge': 3665, 'mostly': 3666, 'fao': 3667, 'recommended': 3668, 'iraq': 3669, 'eradication': 3670, 'eradicate': 3671, 'turkish': 3672, 'regions': 3673, 'towns': 3674, 'golden': 3675, 'bly>': 3676, 'assumption': 3677, 'nugget': 3678, 'bally': 3679, 'casino': 3680, 'atlantic': 3681, 'consolidated': 3682, 'ounces': 3683, 'tvx': 3684, 'operates': 3685, 'located': 3686, 'material': 3687, 'novo': 3688, 'richest': 3689, 'ounce': 3690, 'surface': 3691, 'pires': 3692, 'teles': 3693, 'yearly': 3694, 'motor': 3695, 'pharmaceuticals': 3696, 'papers': 3697, 'meat': 3698, 'lumber': 3699, 'massachusetts': 3700, 'premdor': 3701, 'square': 3702, 'florida': 3703, 'nursery': 3704, 'acres': 3705, 'ansy>': 3706, 'mfs': 3707, 'manage': 3708, 'cancel': 3709, 'calls': 3710, 'esselte': 3711, 'electronic': 3712, 'label': 3713, 'antonson': 3714, 'indiana': 3715, 'ab>': 3716, 'via': 3717, 'repurchases': 3718, 'directly': 3719, 'settlement': 3720, 'upward': 3721, 'indirectly': 3722, 'hotels': 3723, 'chicago-based': 3724, 'jointly': 3725, 'resort': 3726, 'sto>': 3727, 'pre-split': 3728, 'stone': 3729, 'splits': 3730, 'kpk>': 3731, 'kapok': 3732, 'manning': 3733, 'protest': 3734, 'rescheduled': 3735, 'seaforth': 3736, 'halted': 3737, 'walked': 3738, 'cargill': 3739, 'milling': 3740, 'techniques': 3741, 'leaching': 3742, 'grading': 3743, 'nev': 3744, 'conventional': 3745, 'heap': 3746, 'ore': 3747, 'amax': 3748, 'identified': 3749, 'conducted': 3750, 'silver': 3751, 'urges': 3752, 'studies': 3753, 'embargo': 3754, 'exploration': 3755, '20s': 3756, 'overseas': 3757, 'scale': 3758, 'writeoff': 3759, 'unusual': 3760, 'item': 3761, 'suit': 3762, 'patent': 3763, 'chain': 3764, 'leads': 3765, 'sweetened': 3766, 'records': 3767, 'lynch': 3768, 'sec': 3769, 'contains': 3770, 'redstone': 3771, 'newly': 3772, 'consisting': 3773, 'disclose': 3774, 'underwrite': 3775, 'drawn': 3776, 'merrill': 3777, 'confidentiality': 3778, 'month-long': 3779, 'operator': 3780, 'one-fifth': 3781, 'secret': 3782, 'syndicate': 3783, 'consist': 3784, 'sweeten': 3785, 'besides': 3786, 'toward': 3787, 'information': 3788, 'theater': 3789, 'sumner': 3790, 'spanish': 3791, 'lire': 3792, 'authorization': 3793, 'montedison': 3794, 'sa>': 3795, 'authorities': 3796, 'awaiting': 3797, 'antibioticos': 3798, 'utilicorp': 3799, 'ucu>': 3800, 'rebate': 3801, 'dispute': 3802, 'non-ec': 3803, 'concessions': 3804, 'ecus': 3805, 'rebates': 3806, 'ecu': 3807, 'requests': 3808, 'austria': 3809, 'operators': 3810, 'cereal': 3811, 'spain': 3812, 'compensation': 3813, 'grant': 3814, 'detail': 3815, 'restitution': 3816, 'requested': 3817, 'cheap': 3818, 'fee': 3819, 'attitude': 3820, 'looks': 3821, 'someone': 3822, 'doing': 3823, 'ourselves': 3824, 'describing': 3825, 'approach': 3826, 'carbide': 3827, 'extending': 3828, 'ventures': 3829, 'routes': 3830, 'explained': 3831, 'specialty': 3832, 'link': 3833, 'uk>': 3834, \"wasn't\": 3835, 'departure': 3836, 'centrale': 3837, 'bankhaus': 3838, 'proceeding': 3839, 'bac.n>': 3840, 'transfers': 3841, 'card': 3842, 'branch': 3843, 'marks': 3844, 'nt': 3845, 'bankamerica': 3846, 'corrected': 3847, 'vice-president': 3848, 'visa': 3849, 'fund>': 3850, 'semi': 3851, 'franklin': 3852, 'mthly': 3853, 'age': 3854, 'represent': 3855, 'deadline': 3856, 'announce': 3857, 'encouraged': 3858, 'pasta': 3859, 'duty': 3860, 'injure': 3861, 'injury': 3862, 'case': 3863, 'outcome': 3864, 'subsidies': 3865, 'injured': 3866, 'farm': 3867, 'invitation': 3868, 'rotterdam': 3869, 'de': 3870, 'employers': 3871, 'disrupted': 3872, \"employers'\": 3873, 'fnv': 3874, 'cargo': 3875, 'graaf': 3876, 'redundancies': 3877, 'louw': 3878, 'comes': 3879, 'broke': 3880, 'abandoned': 3881, 'affairs': 3882, 'guilder': 3883, 'withdraw': 3884, 'resolution': 3885, 'indirect': 3886, 'adds': 3887, 'arrange': 3888, 'steelmakers': 3889, 'controversial': 3890, 'alternative': 3891, 'save': 3892, 'narjes': 3893, 'karl-heinz': 3894, 'presented': 3895, 'shy': 3896, 'adjust': 3897, 'eurofer': 3898, 'shed': 3899, 'idea': 3900, 'consultants': 3901, 'voluntary': 3902, 'rolled': 3903, 'restrictive': 3904, 'argue': 3905, 'commissioner': 3906, 'controlled': 3907, 'closures': 3908, 'supposed': 3909, 'redundancy': 3910, 'hot': 3911, 'undertook': 3912, 'lobby': 3913, 'switch': 3914, 'gel>': 3915, 'gelco': 3916, 'murray': 3917, 'neither': 3918, 'southeast': 3919, 'stb>': 3920, 'lenders': 3921, 'md': 3922, 'restaurant': 3923, 'technical': 3924, 'default': 3925, 'newport': 3926, 'healthcare': 3927, 'entertainment': 3928, 'ct': 3929, 'unocal': 3930, 'ucl>': 3931, 'btu': 3932, 'trunkline': 3933, 'wholesale': 3934, 'desirable': 3935, 'fares': 3936, 'ami': 3937, 'lebanese': 3938, 'understandings': 3939, 'stressed': 3940, 'appropriate': 3941, 'all-cash': 3942, 'specify': 3943, 'wedge': 3944, 'pesch': 3945, 'ami>': 3946, 'leroy': 3947, 'rule': 3948, 'joining': 3949, 'pursuant': 3950, 'rex>': 3951, 'rexnord': 3952, 'bnr>': 3953, 'banner': 3954, 'corrects': 3955, 'osr': 3956, 'distributor': 3957, 'film': 3958, 'films': 3959, 'telcom': 3960, 'southwestern': 3961, 'indebtedness': 3962, 'uis>': 3963, 'unisys': 3964, 'stores': 3965, 'jacobson': 3966, 'represents': 3967, 'one-time': 3968, 'hoechst': 3969, 'celanese': 3970, 'ag>': 3971, 'germany': 3972, 'tenders': 3973, 'absb>': 3974, 'extends': 3975, 'americus': 3976, 'accepting': 3977, 'alex': 3978, 'sons': 3979, 'morse': 3980, 'shoe': 3981, 'opinions': 3982, 'chances': 3983, 'gauge': 3984, 'mood': 3985, 'reaching': 3986, 'unwillingness': 3987, 'reintroduction': 3988, 'define': 3989, 'historical': 3990, 'varied': 3991, 'financially': 3992, 'passage': 3993, 'shipyards': 3994, 'sovereignty': 3995, 'northwest': 3996, 'direct': 3997, 'sea': 3998, 'ice': 3999, 'disputed': 4000, 'generate': 4001, 'powerful': 4002, 'icebreaker': 4003, 'shipbuilding': 4004, 'technically': 4005, 'prepare': 4006, 'capable': 4007, 'assurances': 4008, 'claiming': 4009, 'vancouver': 4010, 'polar': 4011, 'arctic': 4012, 'intent': 4013, 'crosbie': 4014, 'person': 4015, 'prospective': 4016, 'privately-held': 4017, 'acquirers': 4018, 'explore': 4019, 'convenience': 4020, 'southeastern': 4021, 'video': 4022, 'master': 4023, 'merchandise': 4024, 'carryforward': 4025, 'terminate': 4026, 'benequity': 4027, 'proceed': 4028, 'obtain': 4029, 'bh>': 4030, 'renouf': 4031, 'factor': 4032, 'snap': 4033, 'cuba': 4034, 'syria': 4035, 'message': 4036, 'destination': 4037, 'declare': 4038, 'telex': 4039, 'tells': 4040, 'worry': 4041, 'fueled': 4042, 'telexes': 4043, 'cuban': 4044, 'normally': 4045, 'chemical': 4046, 'tire': 4047, 'relocate': 4048, 'akron': 4049, 'jacksonville': 4050, 'laying': 4051, 'employing': 4052, 'tires': 4053, 'severance': 4054, 'salaried': 4055, 'adhesives': 4056, 'n.c': 4057, 'aircraft': 4058, 'goodrich': 4059, 'molded': 4060, 'site': 4061, 'fla': 4062, 'missiles': 4063, 'adverse': 4064, 'layoffs': 4065, 'missile': 4066, 'b.f': 4067, 'justify': 4068, 'thrift': 4069, 'game': 4070, 'disposals': 4071, 'rpt': 4072, 'releases': 4073, 'influence': 4074, 'appealed': 4075, 'insured': 4076, 'minnesota': 4077, 'michigan': 4078, 'kits': 4079, 'penetration': 4080, 'compound': 4081, 'drug': 4082, 'ziering': 4083, 'weaker': 4084, 'accelerated': 4085, 'reactions': 4086, 'iranian': 4087, 'currencies': 4088, 'samuel': 4089, 'failure': 4090, 'cautiously': 4091, 'undermine': 4092, 'bullion': 4093, 'montagu': 4094, 'latin': 4095, 'confidence': 4096, 'ccr': 4097, 'rico': 4098, 'puerto': 4099, 'high-yield': 4100, 'leasing': 4101, 'involve': 4102, 'oakleaf': 4103, 'transacted': 4104, 'hedge': 4105, '24-hour': 4106, 'cftc': 4107, 'differential': 4108, 'mckiernan': 4109, 'entering': 4110, 'closes': 4111, 'hedged': 4112, 'mercantile': 4113, 'trades': 4114, 'initiate': 4115, 'providing': 4116, 'century': 4117, 'efp': 4118, 'arrangement': 4119, 'complex': 4120, 'physical': 4121, 'nymex': 4122, 'subsequently': 4123, 'respond': 4124, 'fourth-quarter': 4125, 'j.a': 4126, 'responded': 4127, 'tree': 4128, 'petroliferos': 4129, 'metres': 4130, 'yacimientos': 4131, 'fiscales': 4132, 'pioneer': 4133, 'atlanta': 4134, 'georgia': 4135, 'newest': 4136, 'subscribers': 4137, 'enjoyed': 4138, 'superior': 4139, 'midafternoon': 4140, 'distributors': 4141, 'timing': 4142, 'cable': 4143, 'convinced': 4144, 'stations': 4145, 'arbitrage': 4146, 'restructured': 4147, 'licenses': 4148, 'dipped': 4149, 'fractional': 4150, 'spun': 4151, 'approvals': 4152, 'franchises': 4153, 'proxy': 4154, 'sheet': 4155, 'rare': 4156, 'climbed': 4157, 'players': 4158, 'warner': 4159, 'win': 4160, 'create': 4161, 'adopted': 4162, \"we're\": 4163, 'broadcast': 4164, 'craft': 4165, 'cbs': 4166, 'recommendation': 4167, 'talking': 4168, 'accompany': 4169, 'really': 4170, 'thereafter': 4171, 'chance': 4172, 'chris': 4173, 'insisted': 4174, 'structure': 4175, 'programs': 4176, 'whenever': 4177, 'satellite': 4178, 'edge': 4179, 'leveraged': 4180, 'summer': 4181, 'irritants': 4182, 'u.s.-canadian': 4183, 'post-war': 4184, 'cultural': 4185, 'competitiveness': 4186, 'imposed': 4187, 'imposing': 4188, 'sign': 4189, 'acid': 4190, 'curbs': 4191, 'canadians': 4192, 'barriers': 4193, 'grounds': 4194, 'publishing': 4195, 'defense': 4196, 'size': 4197, 'allegedly': 4198, 'spirit': 4199, 'rejection': 4200, 'lessen': 4201, 'economies': 4202, 'politically': 4203, 'player': 4204, 'waters': 4205, 'permit': 4206, 'rain': 4207, 'ties': 4208, 'concerns': 4209, 'realized': 4210, 'chiefly': 4211, 'broadcasting': 4212, 'mass': 4213, 'albertson': 4214, 'wavehill': 4215, 'rental': 4216, 'franchised': 4217, 'san': 4218, 'danville': 4219, 'calif': 4220, 'headquartered': 4221, 'ramon': 4222, 'diablo': 4223, 'merge': 4224, 'spc>': 4225, 'relates': 4226, 'mild': 4227, 'expensive': 4228, 'henderson': 4229, 'hire': 4230, 'advanced': 4231, 'glidden': 4232, 'value-added': 4233, 'ici': 4234, 'stuart': 4235, 'formation': 4236, 'cancer': 4237, 'pharmaceutical': 4238, 'glaxo': 4239, 'retire': 4240, 'paints': 4241, 'drugs': 4242, 'basically': 4243, 'complications': 4244, 'file': 4245, 'sir': 4246, 'role': 4247, 'hanson': 4248, 'clements': 4249, \"int'l\": 4250, 'stockholder': 4251, 'acquires': 4252, 'event': 4253, 'entitle': 4254, 'adopts': 4255, 'combination': 4256, 'rejects': 4257, 'advised': 4258, 'concerning': 4259, 'engage': 4260, 'nature': 4261, 'feedstock': 4262, 'minerals': 4263, 'animals': 4264, 'ted': 4265, 'jacoby': 4266, 'robert': 4267, 'friendly': 4268, 'saatchi': 4269, 'jwt': 4270, 'advertising': 4271, 'heading': 4272, 'write-off': 4273, 'foote': 4274, 'previously-announced': 4275, 'reductions': 4276, 'unilaterally': 4277, 'benefitted': 4278, 'privatization': 4279, 'recognition': 4280, 'nawg': 4281, 'clayton': 4282, 'flawed': 4283, 'feel': 4284, 'type': 4285, 'hurt': 4286, 'assessments': 4287, 'organizations': 4288, 'developing': 4289, 'subsidize': 4290, 'australians': 4291, 'yeutter': 4292, 'agenda': 4293, 'advisors': 4294, 'legal': 4295, 'finish': 4296, 'succeeds': 4297, 'combine': 4298, 'turnaround': 4299, 'witter': 4300, 'jenrette': 4301, 'merchant': 4302, 'byron': 4303, 'begun': 4304, 'bass': 4305, 'lufkin': 4306, 'dissatisfaction': 4307, 'reynolds': 4308, 'nimocks': 4309, 'donaldson': 4310, 'holder': 4311, 'join': 4312, 'management-led': 4313, 'efficient': 4314, 'republic': 4315, 'replacing': 4316, 'hospitals': 4317, 'representation': 4318, 'segment': 4319, 'sit': 4320, 'efforts': 4321, 'dictate': 4322, 'tried': 4323, 'dauster': 4324, 'break': 4325, 'jorio': 4326, 'renew': 4327, 'ibc': 4328, 'regulating': 4329, 'glamis': 4330, 'requires': 4331, 'ltd&lt': 4332, 'finalized': 4333, 'inventories': 4334, 'centers': 4335, 'alberta': 4336, 'toronto': 4337, 'branches': 4338, 'amca': 4339, 'ottawa': 4340, 'catering': 4341, 'hospitality': 4342, 'suitor': 4343, 'struck': 4344, 'read': 4345, 'reveal': 4346, 'forthcoming': 4347, 'emerge': 4348, 'slipped': 4349, 'breakup': 4350, 'rival': 4351, 'fetch': 4352, 'adviser': 4353, 'doubted': 4354, 'whitehall': 4355, 'restated': 4356, 'dispositions': 4357, 'peoples': 4358, 'bancorporation': 4359, 'cpl': 4360, 'cntrs>': 4361, 'automotive': 4362, 'parts': 4363, 'aerospace': 4364, 'developer': 4365, 'composite': 4366, 'paris-based': 4367, 'ferro': 4368, 'alsthom': 4369, 'physicals': 4370, 'eased': 4371, 'preliminary': 4372, 'comex': 4373, 'packaging': 4374, 'ccl': 4375, 'nestle': 4376, 'horizon': 4377, 'concepts': 4378, 'prv': 4379, 'resolutions': 4380, 'pseudorabies': 4381, 'indianapolis': 4382, 'applies': 4383, 'conjunction': 4384, 'virus': 4385, 'feature': 4386, 'nppc': 4387, 'lme': 4388, 'decreased': 4389, 'scrap': 4390, 'content': 4391, 'brass': 4392, 'consumed': 4393, 'municipal': 4394, 'dyneer': 4395, 'armstrong': 4396, 'serving': 4397, 'clinton': 4398, 'tenn': 4399, 'arm>': 4400, 'assembly': 4401, 'armtek': 4402, 'replacement': 4403, 'receipt': 4404, 'seller': 4405, 'specifications': 4406, 'preceding': 4407, 'certified': 4408, 'submit': 4409, 'gallons': 4410, 'fluctuation': 4411, 'gallon': 4412, 'check': 4413, 'tenth': 4414, 'propane': 4415, 'governors': 4416, 'resemble': 4417, 'heating': 4418, 'row': 4419, 'propose': 4420, 'embark': 4421, 'serves': 4422, 'leave': 4423, 'violate': 4424, 'enactment': 4425, 'transatlantic': 4426, 'portugal': 4427, 'severe': 4428, 'vigorously': 4429, 'u.s.a': 4430, 'harbor': 4431, 'ambassador': 4432, 'inactive': 4433, 'undersecretary': 4434, 'exclusively': 4435, 'belongs': 4436, 'ankara': 4437, 'framework': 4438, 'responding': 4439, 'aegean': 4440, 'greece': 4441, 'let': 4442, 'considers': 4443, 'turkey': 4444, 'athens': 4445, 'courts': 4446, 'drill': 4447, 'fault': 4448, 'yannis': 4449, 'warning': 4450, 'berne': 4451, 'trace': 4452, 'know': 4453, 'greek': 4454, 'repeatedly': 4455, 'whose': 4456, 'jacobs': 4457, 'lake': 4458, 'utah': 4459, 'mnst>': 4460, 'charter': 4461, 'leucadia': 4462, 'raider': 4463, 'minstar': 4464, 'del': 4465, 'partnership': 4466, 'salt': 4467, 'irwin': 4468, 'writedown': 4469, 'repeal': 4470, 'intermediaries': 4471, 'microbiological': 4472, 'ventana': 4473, 'norman': 4474, 'mrc>': 4475, 'often': 4476, 'heated': 4477, 'plummet': 4478, 'lows': 4479, 'pointing': 4480, 'underlying': 4481, 'pickup': 4482, 'manoeuvre': 4483, 'dynamic': 4484, 'warned': 4485, 'uncompetitive': 4486, 'absolutely': 4487, 'essential': 4488, 'mid-1988': 4489, 'widening': 4490, 'goods': 4491, 'compatible': 4492, 'runaway': 4493, 'industrialised': 4494, 'climb': 4495, 'freeing': 4496, 'assumed': 4497, 'disinflation': 4498, 'room': 4499, 'require': 4500, 'bet': 4501, 'bias': 4502, 'provoke': 4503, 'downwards': 4504, 'geographical': 4505, 'macroeconomic': 4506, 'failing': 4507, 'topic': 4508, 'shaer': 4509, 'behalf': 4510, 'pwj>': 4511, 'clients': 4512, 'mitchell': 4513, 'painewebber': 4514, 'laser': 4515, 'precision': 4516, 'redeemed': 4517, 'subordinate': 4518, 'purchasers': 4519, 'cantrex': 4520, 'entitling': 4521, 'cap': 4522, 'appliance': 4523, 'retailers': 4524, 'fidelity': 4525, 'ldbrinkman': 4526, 'aided': 4527, 'itt': 4528, 'itt>': 4529, 'york-based': 4530, 'hartford': 4531, 'property-casualty': 4532, 'routinely': 4533, 'probe': 4534, 'sugarman': 4535, 'finally': 4536, 'violations': 4537, 'attorneys': 4538, 'aluminum': 4539, 'tre': 4540, 'enforcement': 4541, 'investigators': 4542, 'attorney': 4543, 'investigation': 4544, 'knowledge': 4545, 'unsuccessful': 4546, 'hollywood': 4547, 'adequate': 4548, 'underwritten': 4549, 'cooperated': 4550, 'matter': 4551, 'jefferies': 4552, 'investigating': 4553, 'disclosing': 4554, 'heard': 4555, 'disclosures': 4556, 'reliance': 4557, 'probes': 4558, 'acknowledged': 4559, 'climate': 4560, 'tripled': 4561, 'persist': 4562, 'somebody': 4563, 'pure': 4564, 'denials': 4565, 'competitively': 4566, 'strengthened': 4567, 'connections': 4568, 'substance': 4569, 'amtorg': 4570, 'substantiate': 4571, 'ussr': 4572, 'mid-year': 4573, 'spring': 4574, 'asking': 4575, 'crew': 4576, 'seafarers': 4577, 'coasts': 4578, 'appointed': 4579, 'east': 4580, 'lakes': 4581, 'gralewicz': 4582, 'conciliator': 4583, 'great': 4584, \"seafarers'\": 4585, 'roman': 4586, 'settle': 4587, 'dallas': 4588, 'kentucky': 4589, 'shipbuilders': 4590, 'worst': 4591, 'female': 4592, 'male': 4593, 'stemmed': 4594, 'compiling': 4595, 'f>': 4596, 'europe': 4597, 'ford': 4598, 'whipple': 4599, 'letters': 4600, 'warehouse': 4601, 'depress': 4602, 'brief': 4603, 'election': 4604, 'spark': 4605, 'attempts': 4606, 'deliberately': 4607, 'warmer': 4608, 'cartel': 4609, 'stuck': 4610, 'slack': 4611, 'overcome': 4612, 'predict': 4613, 'refiners': 4614, 'aspects': 4615, 'provisions': 4616, 'kerin': 4617, 'duration': 4618, 'step': 4619, 'protection': 4620, 'royal': 4621, 'iac': 4622, 'apply': 4623, 'findings': 4624, 'trigger': 4625, 'examination': 4626, 'handling': 4627, 'inquiry': 4628, '12-month': 4629, 'rosenbaum': 4630, 'illustrated': 4631, 'laid': 4632, 'last-minute': 4633, 'assistant': 4634, 'countered': 4635, 'depend': 4636, 'sure': 4637, 'fail': 4638, 'blame': 4639, 'jon': 4640, '60-kilo': 4641, 'capabilities': 4642, 'readily': 4643, 'selloff': 4644, 'adjourned': 4645, 'deadlock': 4646, 'rescue': 4647, 'objective': 4648, 'breakdown': 4649, 'narrowed': 4650, 'narrows': 4651, 'repayments': 4652, 'pty': 4653, 'exercise': 4654, 'pratt': 4655, 'battery': 4656, 'underwriter': 4657, 'placements': 4658, 'effectively': 4659, 'ta>': 4660, 'transamerica': 4661, 'occidental': 4662, 'professional': 4663, 'cra': 4664, 'threshold': 4665, 'replanting': 4666, 'gazetted': 4667, 'kernel': 4668, 'ppo': 4669, 'processed': 4670, 'goldendale': 4671, 'comalco': 4672, 'cmac.s>': 4673, 'minorities': 4674, 'pre-equity': 4675, 'comprise': 4676, 'yasuhiro': 4677, 'fear': 4678, 'miyazawa': 4679, 'transform': 4680, 'hiring': 4681, 'export-dependent': 4682, 'opposition': 4683, 'sumitomo': 4684, 'tsukihara': 4685, 'taketomi': 4686, 'predictions': 4687, 'methods': 4688, 'jobless': 4689, 'kiichi': 4690, 'translate': 4691, 'mainstay': 4692, 'nakasone': 4693, 'compare': 4694, 'ceased': 4695, 'pass': 4696, 'aged': 4697, 'susumu': 4698, 'aside': 4699, 'absorbed': 4700, 'koichi': 4701, 'part-time': 4702, 'korean': 4703, 'semiconductor': 4704, 'chipmakers': 4705, 'chips': 4706, 'knowing': 4707, 'hitachi': 4708, 'specified': 4709, 'makers': 4710, 'microchip': 4711, 'third-party': 4712, 'hit.t>': 4713, 'licence': 4714, 'miti': 4715, 'ask': 4716, 'automatically': 4717, 'authorised': 4718, 'acted': 4719, 'exploit': 4720, 'distributing': 4721, 'applying': 4722, 'grey': 4723, 'u.s.-japan': 4724, 'first-quarter': 4725, 'gap': 4726, 'stating': 4727, 'unemployed': 4728, 'finnish': 4729, \"months'\": 4730, 'drawing': 4731, 'calculates': 4732, '6.5p': 4733, 'capitalisation': 4734, 'end-1986': 4735, 'debit': 4736, 'one-for-one': 4737, 'touch': 4738, 'dead': 4739, 'jaime': 4740, 'oppose': 4741, \"i'm\": 4742, 'monsod': 4743, 'flexible': 4744, 'peso': 4745, 'ongpin': 4746, 'ideal': 4747, 'intend': 4748, 'undercut': 4749, 'cons': 4750, 'goldfields': 4751, 'arc': 4752, 'ohio-based': 4753, 'refer': 4754, 'aggregates': 4755, 'clears': 4756, 'consists': 4757, 'indicating': 4758, 'victor': 4759, 'adhere': 4760, 'accepts': 4761, 'outflows': 4762, 'day-to-day': 4763, 'dull': 4764, 'sidelines': 4765, 'one-month': 4766, 'barely': 4767, 'lend': 4768, 'mexican': 4769, 'export-import': 4770, 'cardenas': 4771, 'maya': 4772, 'cruz': 4773, 'infrastructure': 4774, 'mexicanos': 4775, 'linking': 4776, 'liquified': 4777, 'seminar': 4778, 'salina': 4779, 'untied': 4780, 'pemex': 4781, 'lpg': 4782, 'petroleos': 4783, '2.25p': 4784, 'stc': 4785, 'conditionally': 4786, 'smelters': 4787, 'oregon': 4788, 'bauxite': 4789, 'imputation': 4790, 'permitting': 4791, 'columbia': 4792, 'zinc': 4793, 'fluctuating': 4794, 'volatility': 4795, 'enabled': 4796, 'revaluation': 4797, 'notable': 4798, 'consequently': 4799, 'year-end': 4800, 'legislation': 4801, 'slowly': 4802, 'exception': 4803, 'overcapacity': 4804, 'distinction': 4805, 'memorandum': 4806, 'hungary': 4807, 'opportunities': 4808, 'restrain': 4809, 'disrupt': 4810, 'influences': 4811, 'accession': 4812, 'gradually': 4813, 'preference': 4814, 'generalised': 4815, 'remove': 4816, 'amend': 4817, 'peking': 4818, 'voluntarily': 4819, 'mandatory': 4820, 'persuade': 4821, 'chen': 4822, 'accomplished': 4823, 'dominated': 4824, 'shultz': 4825, 'shows': 4826, 'dozen': 4827, 'inaccurate': 4828, 'designed': 4829, 'rules': 4830, 'behaviour': 4831, 'favourable': 4832, 'qualify': 4833, 'article': 4834, 'respect': 4835, 'getting': 4836, 'diplomat': 4837, 'participating': 4838, 'admit': 4839, 'businessmen': 4840, 'guidance': 4841, 'table': 4842, 'pool': 4843, 'restraints': 4844, 'initiated': 4845, 'vast': 4846, 'nervous': 4847, 'editorial': 4848, 'dual': 4849, 'willingness': 4850, 'romania': 4851, 'preventing': 4852, 'coincide': 4853, 'czechoslovakia': 4854, 'play': 4855, 'membership': 4856, 'printed': 4857, 'extremely': 4858, 'gsp': 4859, 'poland': 4860, 'precedent': 4861, 'reforming': 4862, 'credited': 4863, 'surprised': 4864, 'necessary': 4865, 'inject': 4866, 'bundesbank': 4867, 'clearer': 4868, 'assess': 4869, 'disruption': 4870, 'unrealistic': 4871, 'stabilized': 4872, 'duesseldorf': 4873, 'italy': 4874, 'istat': 4875, 'fertiliser': 4876, 'tucker': 4877, 'lubricant': 4878, 'amsterdam': 4879, 'feeder': 4880, 'airlines': 4881, 'flights': 4882, 'cities': 4883, 'runs': 4884, 'klm': 4885, 'uk': 4886, 'chancellor': 4887, 'lawson': 4888, 'rebuild': 4889, 'nigel': 4890, 'guide': 4891, 'pound': 4892, 'valuation': 4893, 'accruals': 4894, 'opportunity': 4895, 'eagle': 4896, 'ultramar': 4897, 'umar.l>': 4898, 'm2': 4899, 'm1': 4900, 'visible': 4901, 'wluk.l>': 4902, 'exploratory': 4903, 'why': 4904, 'woolworth': 4905, 'underwoods': 4906, 'retender': 4907, 'nominated': 4908, 'purely': 4909, 'battle': 4910, 'shanghai': 4911, 'garment': 4912, 'conservative': 4913, 'attracted': 4914, 'evergo': 4915, 'associate': 4916, 'gained': 4917, 'kadoorie': 4918, 'liang': 4919, 'hk': 4920, 'soars': 4921, 'distorted': 4922, 'strength': 4923, 'lai': 4924, 'lau': 4925, 'reputation': 4926, 'enterprise': 4927, 'pays': 4928, 'bryson': 4929, 'suitable': 4930, 'intransigence': 4931, 'alter': 4932, 'wrote': 4933, 'accused': 4934, 'schoufour': 4935, 'stance': 4936, 'refuses': 4937, 'earliest': 4938, 'settled': 4939, \"can't\": 4940, 'hear': 4941, 'refusing': 4942, 'practice': 4943, 'individually': 4944, 'improves': 4945, 'greatly': 4946, 'unilever': 4947, 'accumulated': 4948, 'nv': 4949, 'chesebrough-pond': 4950, \"manufacturers'\": 4951, 'sensitive': 4952, 'vendors': 4953, 'permits': 4954, 'coincident': 4955, 'coat': 4956, 'roaster': 4957, 'ample': 4958, 'foreseeable': 4959, 'balanced': 4960, 'renegotiation': 4961, 'mind': 4962, 'absolute': 4963, 'reality': 4964, 'moment': 4965, 'roasters': 4966, 'vries': 4967, 'colorado': 4968, 'guinness': 4969, 'seat': 4970, 'peat': 4971, 'bancshares': 4972, 'belgium': 4973, 'greenwood': 4974, 'reacting': 4975, 'mean': 4976, 'heinz': 4977, 'h.j': 4978, 'brewery': 4979, 'brewing': 4980, 'punts': 4981, 'dublin': 4982, 'magazine': 4983, 'tony': 4984, \"o'reilly\": 4985, 'irish': 4986, 'worthwhile': 4987, 'consortium': 4988, 'guin.l>': 4989, 'came': 4990, 'restructure': 4991, 'earth': 4992, 'galaxy': 4993, 'leased': 4994, 'transponders': 4995, 'occurrence': 4996, 'understanding': 4997, 'lease': 4998, 'particular': 4999, 'contel': 5000, 'receivables': 5001, 'finalize': 5002, 'events': 5003, 'equatorial': 5004, 'assume': 5005, 'melbourne': 5006, 'f.w': 5007, 'z>': 5008, 'sums': 5009, 'arm': 5010, 'bp': 5011, 'kendall': 5012, 'depressed': 5013, 'bp.l>': 5014, 'pleased': 5015, 'stave': 5016, 'wallis': 5017, 'eishiro': 5018, 'visiting': 5019, 'attending': 5020, 'remark': 5021, 'asks': 5022, 'keidanren': 5023, 'under-secretary': 5024, 'triggered': 5025, 'organisations': 5026, 'saito': 5027, 'allen': 5028, 'drastic': 5029, 'deck': 5030, 'county': 5031, 'parking': 5032, 'firstcorp': 5033, 'wake': 5034, 'deferred': 5035, 'forma': 5036, 'pro': 5037, 'shield': 5038, 'precambrian': 5039, 'uneconomic': 5040, 'grease': 5041, 'monkey': 5042, 'respective': 5043, 'conform': 5044, 'auditors': 5045, 'involvement': 5046, 'revises': 5047, 'employee': 5048, 'expense': 5049, 'disagreement': 5050, 'logic': 5051, 'disposal': 5052, 'angus': 5053, 'realise': 5054, 'dilution': 5055, 'chesebrough': 5056, 'organic': 5057, 'stauffer': 5058, 'launch': 5059, 'gearing': 5060, 'turned': 5061, 'attributable': 5062, 'stripping': 5063, 's.a': 5064, 'sara': 5065, 'lee': 5066, 'manufacturer': 5067, 'dim': 5068, 'malcolm': 5069, 'indicator': 5070, 'baldrige': 5071, 'guidelines': 5072, 'chartered': 5073, 'accountants': 5074, 'accordance': 5075, 'discipline': 5076, 'debts': 5077, 'moi': 5078, 'servicing': 5079, 'indication': 5080, 'imperative': 5081, 'history': 5082, 'encouraging': 5083, 'belt': 5084, 'rely': 5085, 'shilling': 5086, 'regards': 5087, 'kenya': 5088, 'satisfying': 5089, 'boom': 5090, 'kenyan': 5091, 'taylor': 5092, 'earn': 5093, 'zimbabwean': 5094, 'robin': 5095, 'tv': 5096, 'display': 5097, 'exceeded': 5098, 'single-family': 5099, 'surpassing': 5100, 'actually': 5101, 'median': 5102, 'nichols': 5103, 'belgian': 5104, 'falls': 5105, 'principles': 5106, 'pharmacia': 5107, 'know-how': 5108, 'intangible': 5109, 'high-tech': 5110, 'weakening': 5111, 'badly': 5112, 'parities': 5113, 'conducts': 5114, 'maritime': 5115, 'possibly': 5116, 'consummate': 5117, 'hgca': 5118, 'quantity': 5119, 'contest': 5120, 'toll': 5121, 'amts': 5122, 'psy>': 5123, 'excise': 5124, 'prominent': 5125, 'upwards': 5126, 'recipient': 5127, 'quoting': 5128, 'wilson': 5129, 'reversing': 5130, 'degrees': 5131, 'winterkill': 5132, 'forecaster': 5133, 'accu': 5134, 'scant': 5135, 'inches': 5136, 'accu-weather': 5137, 'temperatures': 5138, 'nights': 5139, 'snow': 5140, 'pansophic': 5141, 'doyon': 5142, 'graded': 5143, 'intersections': 5144, 'lac': 5145, 'hole': 5146, 'cambior': 5147, 'quebec': 5148, 'kebo': 5149, 'calmar': 5150, 'bnl': 5151, 'dbkg.f>': 5152, 'reply': 5153, 'enabling': 5154, 'banca': 5155, \"d'america\": 5156, 'institution': 5157, 'specialises': 5158, 'nazionale': 5159, 'e': 5160, 'deutsche': 5161, 'sticks': 5162, 'police': 5163, 'johannesburg': 5164, 'kms': 5165, 'clash': 5166, 'arrived': 5167, 'killed': 5168, 'fighting': 5169, 'attacking': 5170, 'stayed': 5171, 'eurostat': 5172, 'slows': 5173, 'lsb': 5174, 'weighted': 5175, 'comparable': 5176, 'lsb>': 5177, 'drilled': 5178, 'detected': 5179, 'liabilities': 5180, 'gre>': 5181, 'termination': 5182, 'retained': 5183, 'pension': 5184, 'reinstate': 5185, 'eases': 5186, 'urgent': 5187, 'convincing': 5188, 'resumed': 5189, \"you're\": 5190, 'removes': 5191, 'collapse': 5192, 'subcommittee': 5193, 'fred': 5194, 'ranges': 5195, 'replace': 5196, 'bergsten': 5197, 'knutson': 5198, 'cold': 5199, 'belgrade': 5200, 'yugoslavia': 5201, 'dormancy': 5202, 'emerged': 5203, 'germination': 5204, 'dated': 5205, 'seeding': 5206, 'yugoslavian': 5207, 'catch': 5208, 'yugoslav': 5209, 'promoted': 5210, 'counselor': 5211, 'trip': 5212, 'compo': 5213, 'ausimont': 5214, 'aus>': 5215, 'translated': 5216, 'trademark': 5217, 'marketed': 5218, 'norton': 5219, 'unsettled': 5220, 'oversee': 5221, 'inflow': 5222, 'virtually': 5223, 'occurring': 5224, 'platform': 5225, 'post-tax': 5226, 'pence': 5227, 'consulting': 5228, 'agents': 5229, 'cleveland': 5230, 'aids': 5231, 'beauty': 5232, 'evaluation': 5233, 'ongoing': 5234, 'loynes': 5235, 'cattlemen': 5236, 'identical': 5237, 'banned': 5238, 'deals': 5239, 'croo': 5240, 'postpone': 5241, 'feeding': 5242, 'tough': 5243, 'meats': 5244, 'herman': 5245, 'opposed': 5246, 'inside': 5247, 'resolving': 5248, 'image': 5249, 'holiday': 5250, 'withdrew': 5251, 'sciences': 5252, 'dealings': 5253, 'edgar': 5254, 'kahn': 5255, 'furnace': 5256, 'tylan': 5257, 'canada>': 5258, 'deficiency': 5259, 'garlem': 5260, 'gramm-rudman': 5261, 'in-kind': 5262, 'tom': 5263, 'upcoming': 5264, 'signup': 5265, 'resisted': 5266, 'five-month': 5267, 'von': 5268, 'generic': 5269, 'administrator': 5270, 'upset': 5271, 'vanguard': 5272, 'omcm>': 5273, 'omnicom': 5274, 'recognized': 5275, 'harper': 5276, 'mergers': 5277, 'equals': 5278, 'chile': 5279, 'chilean': 5280, 'unctad': 5281, 'transparency': 5282, 'discussion': 5283, 'troubled': 5284, 'non-accrual': 5285, 'borrower': 5286, 'allan': 5287, 'borrowers': 5288, 'premature': 5289, 'unsatisfactory': 5290, 'nasdaq': 5291, 'pizza': 5292, 'advisor': 5293, 'pant>': 5294, 'negotiation': 5295, 'pantera': 5296, 'inn': 5297, 'headquarters': 5298, 'cobalt': 5299, 'communique': 5300, 'liberia': 5301, 'feasibility': 5302, 'funding': 5303, 'prospect': 5304, 'nickel': 5305, 'iron': 5306, 'invited': 5307, 'sought': 5308, 'distributed': 5309, 'year-over-year': 5310, 'lace': 5311, 'lft>': 5312, 'lifetime': 5313, 'koba': 5314, 'shoji': 5315, 'unissued': 5316, 'intermedics': 5317, 'itm>': 5318, 'webber': 5319, 'paine': 5320, 'albert': 5321, 'danish': 5322, 'denmark': 5323, 'gibbs': 5324, 'willcox': 5325, 'wg>': 5326, 'rod': 5327, 'cathodes': 5328, 'commissions': 5329, 'tobago': 5330, 'trinidad': 5331, 'solid': 5332, 'mortgages': 5333, 'atmosphere': 5334, 'criticized': 5335, 'enacted': 5336, 'retaliation': 5337, 'impose': 5338, 'scandal': 5339, 'vetoed': 5340, 'curbing': 5341, 'powers': 5342, 'cross': 5343, 'conflict': 5344, 'react': 5345, 'solve': 5346, 'congressmen': 5347, 'retaliate': 5348, 'jewelers': 5349, 'spun-off': 5350, 'adoption': 5351, 'kay': 5352, 'printing': 5353, 'warranties': 5354, 'fairness': 5355, 'dan': 5356, 'temptation': 5357, 'screen': 5358, 'plea': 5359, 'curtailed': 5360, 'conciliatory': 5361, 'smoke': 5362, 'rostenkowski': 5363, 'opposes': 5364, 'club': 5365, 'warn': 5366, 'freedom': 5367, 'informed': 5368, 'resignation': 5369, 'pursue': 5370, 'identics': 5371, 'imtec': 5372, 'advises': 5373, 'hesse': 5374, 'delegations': 5375, 'goodwill': 5376, 'integrate': 5377, 'gd>': 5378, 'harlow': 5379, 'anacomp': 5380, 'dynamics': 5381, 'nyse': 5382, 'aac>': 5383, 'fellow': 5384, 'integrating': 5385, 'recommends': 5386, 'whale': 5387, 'datagraphix': 5388, 'stephens': 5389, 'developed': 5390, 'recipients': 5391, 'jack': 5392, 'aggressively': 5393, 'civil': 5394, 'simply': 5395, 'removed': 5396, 'ecgd': 5397, 'compete': 5398, 'tallow': 5399, 'fish': 5400, 'lard': 5401, 'survey': 5402, 'soy': 5403, 'end-september': 5404, 'peaking': 5405, 'olive': 5406, 'coconut': 5407, 'castor': 5408, 'lin': 5409, 'stimulated': 5410, 'artificially': 5411, 'watch': 5412, 'arango': 5413, 'gilberto': 5414, 'industrialized': 5415, 'repaying': 5416, 'undoubtedly': 5417, 'understand': 5418, \"exporters'\": 5419, 'evident': 5420, 'vital': 5421, 'intelligent': 5422, 'map': 5423, 'solicit': 5424, 'standstill': 5425, 'consummation': 5426, 'registration': 5427, 'loving': 5428, 'filed': 5429, 'builders': 5430, 'officers': 5431, 'explaining': 5432, 'upon': 5433, 'proxies': 5434, 'clearance': 5435, 'convened': 5436, 'norrell': 5437, 'polish': 5438, 'frosts': 5439, 'quantities': 5440, 'specializing': 5441, 'designs': 5442, 'varian': 5443, 'pye': 5444, 'philips': 5445, 'btlr>': 5446, 'butler': 5447, 'carrier': 5448, 'involves': 5449, 'genetics': 5450, 'hike': 5451, 'debated': 5452, 'balzac': 5453, 'magellan': 5454, 'owning': 5455, 'batteries': 5456, 'quick': 5457, 'bmy>': 5458, 'bristol-myers': 5459, 'nevada': 5460, 'helicopter': 5461, 'hunter': 5462, 'builds': 5463, 'broader': 5464, 'itx>': 5465, 'hazardous': 5466, 'environmental': 5467, 'd.h': 5468, 'mn': 5469, 'cooperative': 5470, 'extensive': 5471, 'quintales': 5472, 'floods': 5473, 'villa': 5474, 'state-controlled': 5475, 'harvest': 5476, 'peruvian': 5477, 'unaffected': 5478, 'cafe': 5479, 'rains': 5480, 'flood': 5481, 'cooperatives': 5482, 'ge>': 5483, 'ge': 5484, 'segments': 5485, 'downturn': 5486, 'trouble': 5487, 'amr': 5488, 'nicholas': 5489, 'leases': 5490, 'nbc': 5491, 'jet': 5492, 'creative': 5493, 'pose': 5494, 'earning': 5495, 'unique': 5496, 'decides': 5497, 'airbus': 5498, 'engines': 5499, 'airline': 5500, 'rca': 5501, 'engine': 5502, 'ride': 5503, 'planes': 5504, 'protects': 5505, 'heymann': 5506, 'barney': 5507, 'unexpected': 5508, 'upham': 5509, 'elements': 5510, 'military': 5511, 'wave': 5512, 'boeing': 5513, 'rounding': 5514, 'plastic': 5515, 'bertone': 5516, 'joined': 5517, 'safety': 5518, 'structured': 5519, 'sports': 5520, 'tested': 5521, 'car': 5522, 'continuously': 5523, 'modern': 5524, 'bonded': 5525, 'webb': 5526, 'founded': 5527, 'roy': 5528, 'cosmetics': 5529, 'foot': 5530, 'operated': 5531, 'children': 5532, 'garofalo': 5533, 'harold': 5534, 'retailer': 5535, 'names': 5536, '1980': 5537, 'j': 5538, '1970': 5539, 'retailing': 5540, 'dime': 5541, 'successive': 5542, 'apparel': 5543, 'failures': 5544, 'once': 5545, 'rrco>': 5546, 'upturn': 5547, 'thomson': 5548, 'bad': 5549, 'deteriorated': 5550, 'wendy': 5551, 'predicting': 5552, 'originated': 5553, 'essentially': 5554, 'pared': 5555, 'scotia': 5556, 'continuous': 5557, 'whereas': 5558, 'picture': 5559, 'unknown': 5560, 'passenger': 5561, 'privately-owned': 5562, 'aviation': 5563, 'manufactured': 5564, 'premier': 5565, 'bell': 5566, 'industrialist': 5567, 'mercer': 5568, 'suits': 5569, 'preserved': 5570, 'goodyear': 5571, 'hearing': 5572, 'james': 5573, 'gt>': 5574, 'harm': 5575, 'saved': 5576, 'independence': 5577, 'payroll': 5578, 'executives': 5579, 'undermining': 5580, 'takeovers': 5581, 'raids': 5582, 'specialists': 5583, 'accusing': 5584, 'raiders': 5585, 'goldsmith': 5586, 'gsm-102': 5587, 'gsm-103': 5588, 'morocco': 5589, 'mca': 5590, 'mca>': 5591, 'watching': 5592, 'precipitation': 5593, 'worried': 5594, 'southern': 5595, 'reseeded': 5596, 'broken': 5597, 'standpoint': 5598, 'ukraine': 5599, 'meteorologist': 5600, 'careful': 5601, 'certainty': 5602, 'sometimes': 5603, 'desperate': 5604, 'inadequate': 5605, 'damaged': 5606, 'dryness': 5607, 'bulk': 5608, 'martell': 5609, 'snowcover': 5610, 'leclerc': 5611, 'al': 5612, 'modernize': 5613, 'metric': 5614, 'fernand': 5615, 'frankfurt': 5616, 'write-down': 5617, 'han>': 5618, 'kaiser': 5619, 'cement': 5620, 'promptly': 5621, 'delisted': 5622, 'redemptions': 5623, 'mission': 5624, 'woods': 5625, 'sanford': 5626, 'discounts': 5627, 'mckinley': 5628, 'margoshes': 5629, 'apart': 5630, 'dubai': 5631, 'marion': 5632, \"members'\": 5633, 'brent': 5634, 'sparked': 5635, 'oversold': 5636, 'stewart': 5637, 'useful': 5638, 'repaid': 5639, 'saudis': 5640, 'appearance': 5641, \"ministers'\": 5642, 'mixed': 5643, 'persistent': 5644, 'returning': 5645, 'contrast': 5646, 'sink': 5647, 'settling': 5648, 'acceptable': 5649, 'lapse': 5650, 'panic': 5651, \"producers'\": 5652, 'sooner': 5653, 'imagine': 5654, 'horse': 5655, 'relationship': 5656, 'argument': 5657, 'buffer': 5658, 'participate': 5659, 'cast': 5660, 'meets': 5661, 'amongst': 5662, 'promises': 5663, 'floor': 5664, 'gaining': 5665, 'felt': 5666, 'seaman': 5667, 'furniture': 5668, 'three-for-one': 5669, 'telxon': 5670, 'raymond': 5671, 'colo': 5672, 'n.l.>': 5673, 'victoria': 5674, 'camp': 5675, 'bird': 5676, 'cancellation': 5677, 'hnt>': 5678, 'burst': 5679, 'pct-owned': 5680, 'cp>': 5681, 'wells': 5682, 'regulators': 5683, 'royalty': 5684, 'pancanadian': 5685, 'per-share': 5686, 'founder': 5687, 'steven': 5688, 'reid': 5689, 'divest': 5690, 'lighting': 5691, 'plt>': 5692, 'api': 5693, 'distillate': 5694, 'residual': 5695, 'jones': 5696, 'promotional': 5697, 'edged': 5698, 'wines': 5699, 'declining': 5700, 'wine': 5701, 'estimating': 5702, 'arizona': 5703, 'citrus': 5704, 'discontinue': 5705, 'oranges': 5706, 'lemons': 5707, 'grapefruit': 5708, 'tangerines': 5709, 'trimac': 5710, 'magnate': 5711, 'oppenheimer': 5712, 'senegal': 5713, 'melcher': 5714, 'd-mont': 5715, 'concessional': 5716, 'advocate': 5717, 'patrick': 5718, 'teams': 5719, 'selected': 5720, 'pl480': 5721, 'venezuela': 5722, 'panel': 5723, 'stages': 5724, 'missions': 5725, 'tunisia': 5726, 'drafting': 5727, 'dominican': 5728, 'visited': 5729, 'strengthen': 5730, 'd-vt': 5731, 'donation': 5732, 'leahy': 5733, 'liquidating': 5734, 'orange': 5735, 'summary': 5736, 'fcoj': 5737, 'grower': 5738, 'canned': 5739, 'apples': 5740, 'juice': 5741, 'fruit': 5742, 'timminco': 5743, 'casualty': 5744, 'issuance': 5745, 'full-year': 5746, 'requesting': 5747, 'compliance': 5748, 'proposes': 5749, 'select': 5750, 'beef': 5751, 'petition': 5752, 'leaner': 5753, 'voice': 5754, 'bae': 5755, 'predicts': 5756, 'awb': 5757, 'returns': 5758, 'reimburse': 5759, 'deductions': 5760, 'breakeven': 5761, 'shifts': 5762, 'kaneb': 5763, 'kep>': 5764, 'payouts': 5765, 'ope': 5766, 'stanley': 5767, 'attempting': 5768, 'belief': 5769, 'pushing': 5770, 'wellemeyer': 5771, 'rebounded': 5772, 'speaking': 5773, 'morgan': 5774, 'concerted': 5775, 'switching': 5776, 'offshore': 5777, 'pressuring': 5778, \"you'll\": 5779, 'driving': 5780, 'bwb': 5781, 'stark': 5782, 'zenith': 5783, 'questions': 5784, 'version': 5785, 'audit': 5786, 'labs': 5787, 'relating': 5788, 'patents': 5789, 'apc': 5790, 'listened': 5791, 'convention': 5792, 'congressman': 5793, 'passes': 5794, 'optional': 5795, 'indicates': 5796, 'mandated': 5797, 'legislative': 5798, 'considerably': 5799, 'collected': 5800, 'checkoff': 5801, 'packers': 5802, 'refunds': 5803, 'oversees': 5804, 'perceived': 5805, 'droughts': 5806, 'therefore': 5807, 'stress': 5808, 'thinking': 5809, 'attractive': 5810, 'twice': 5811, 'sign-up': 5812, 'shifting': 5813, 'penalized': 5814, 'gives': 5815, 'dismal': 5816, 'professionals': 5817, 'easier': 5818, 'prompt': 5819, 'voiced': 5820, 'alfalfa': 5821, 'd-neb': 5822, 'soil': 5823, 'strictly': 5824, 'exempt': 5825, 'erosion': 5826, 'legumes': 5827, 'multiyear': 5828, 'zorinsky': 5829, 'grasses': 5830, 'edward': 5831, 'sponsor': 5832, 'spokesperson': 5833, 'matching': 5834, 'singapore': 5835, 'chilled': 5836, 'gtx': 5837, 'phoenix': 5838, 'targeted': 5839, 'computerized': 5840, 'invested': 5841, 'invests': 5842, 'drawings': 5843, 'blocked': 5844, 'blocking': 5845, 'appealing': 5846, 'technological': 5847, 'suffered': 5848, 'contracting': 5849, 'donald': 5850, 'innovation': 5851, 'approaches': 5852, 'contractors': 5853, 'near-term': 5854, 'sharing': 5855, 'enhancing': 5856, 'rockwell': 5857, 'allen-bradley': 5858, 'beall': 5859, 'automation': 5860, 'greatest': 5861, 'mickelberry': 5862, 'mbc>': 5863, 'code': 5864, 'cushion': 5865, 'fixed-rate': 5866, 'playing': 5867, 'issuer': 5868, 'conduct': 5869, 'eurobond': 5870, 'accelerate': 5871, 'swaps': 5872, 'occurs': 5873, 'choose': 5874, 'benson': 5875, 'issuers': 5876, 'mccormick': 5877, 'wil': 5878, 'kleinwort': 5879, 'obligation': 5880, 'convergence': 5881, 'isda': 5882, 'unveiled': 5883, 'co-chairman': 5884, 'documentation': 5885, 'metropolitan': 5886, 'gm': 5887, 'gm>': 5888, 'bonuses': 5889, 'packages': 5890, 'vehicle': 5891, 'equipped': 5892, 'motors': 5893, 'pontiacs': 5894, 'pontiac': 5895, 'westar': 5896, 'blacks': 5897, 'dow>': 5898, 'dow': 5899, 'wmb>': 5900, 'williams': 5901, 'posting': 5902, 'negatively': 5903, 'conversion': 5904, 'perform': 5905, 'foresees': 5906, 'geonex': 5907, 'bellsouth': 5908, 'crime': 5909, 'lawsuit': 5910, 'writeoffs': 5911, 'whites': 5912, 'awards': 5913, 'microwave': 5914, 'attached': 5915, 'centigrade': 5916, 'ultra': 5917, 'deducting': 5918, 'flexi-van': 5919, 'cke>': 5920, 'cooke': 5921, 'castle': 5922, 'voicemail': 5923, 'seed': 5924, \"resources'\": 5925, 'labor': 5926, 'sawmill': 5927, 'shutdown': 5928, 'eliminated': 5929, 'trustee': 5930, 'timber': 5931, 'b.c': 5932, 'freeport-mcmoran': 5933, 'resource': 5934, 'peabody': 5935, 'agrico': 5936, 'antitrust': 5937, 'pipe': 5938, 'perry': 5939, 'nwa': 5940, 'roderick': 5941, 'ought': 5942, 'hurting': 5943, 'shared': 5944, 'specifically': 5945, 'usx': 5946, 'andrew': 5947, 'proxmire': 5948, 'four-year': 5949, 'pesetas': 5950, 'ruiz': 5951, 'survival': 5952, 'peseta': 5953, 'productive': 5954, 'ligero': 5955, 'fashion': 5956, 'backs': 5957, 'tennis': 5958, 'boot': 5959, 'rossignol': 5960, 'doubling': 5961, 'ski': 5962, 'warrington': 5963, 'g': 5964, '12th': 5965, 'trustees': 5966, 'amounting': 5967, 'abs': 5968, 'magnum': 5969, 'resins': 5970, 'buffton': 5971, 'instrumentation': 5972, 'd': 5973, 'vereins': 5974, 'merged': 5975, 'westbank': 5976, 'hamburg': 5977, 'luckey': 5978, 'influenced': 5979, 'wide-ranging': 5980, 'hopeful': 5981, 'likelihood': 5982, 'unresolved': 5983, 'fairchild': 5984, 'fujitsu': 5985, 'air-moving': 5986, 'allwaste': 5987, 'alws>': 5988, 'burns': 5989, 'itel>': 5990, 'itel': 5991, 'convenient': 5992, 'mart': 5993, 'mm>': 5994, 'northeastern': 5995, 'midland': 5996, 'czarnikow': 5997, 'unleaded': 5998, 'leaded': 5999, 'clinical': 6000, 'wal-mart': 6001, 'warns': 6002, 'devalued': 6003, 'germans': 6004, 'drops': 6005, 'discovered': 6006, 'kill': 6007, 'yielding': 6008, 'delays': 6009, 'belonging': 6010, 'trees': 6011, 'corenes': 6012, 'occasions': 6013, 'pora': 6014, 'leaf': 6015, 'attacks': 6016, 'uproot': 6017, 'bound': 6018, 'disposed': 6019, 'spread': 6020, 'hits': 6021, 'controlling': 6022, 'clones': 6023, 'factories': 6024, 'aggravated': 6025, 'wintering': 6026, 'treated': 6027, 'sri': 6028, 'speculative': 6029, 'spell': 6030, 'clone': 6031, 'fungus': 6032, 'lanka': 6033, 'crepe': 6034, 'older': 6035, 'space': 6036, 'rric': 6037, 'rupees': 6038, 'researchers': 6039, 'terminated': 6040, 'hwwa': 6041, '1950s': 6042, 'unanimously': 6043, 'cautioned': 6044, 'ignore': 6045, 'inherent': 6046, 'participants': 6047, 'outweighed': 6048, 'organized': 6049, 'martha': 6050, 'conflicting': 6051, 'element': 6052, 'school': 6053, 'continent': 6054, 'dwt': 6055, 'protecting': 6056, 'allowances': 6057, 'pensions': 6058, 'compensate': 6059, 'compensatory': 6060, 'andriessen': 6061, 'three-year': 6062, 'favoured': 6063, 'forego': 6064, 'undertake': 6065, 'supports': 6066, 'frans': 6067, 'passing': 6068, 'features': 6069, 'farming': 6070, 'heirs': 6071, 'stringent': 6072, 'concept': 6073, 'keen': 6074, 'consolidate': 6075, 'overly': 6076, 'dilemma': 6077, 'lies': 6078, 'adequacy': 6079, 'recognised': 6080, 'exposures': 6081, 'wish': 6082, 'maturity': 6083, 'counterparty': 6084, 'weights': 6085, 'u>': 6086, 'pie>': 6087, 'piedmont': 6088, 'nsc>': 6089, 'norfolk': 6090, 'frequently': 6091, 'gec>': 6092, 'novl>': 6093, 'fourteen': 6094, 'novell': 6095, 'layer': 6096, 'thin': 6097, 'young': 6098, 'protective': 6099, 'sown': 6100, 'frost': 6101, 'harmful': 6102, 'refund': 6103, 'ala': 6104, 'nekoosa': 6105, 'lifts': 6106, 'offensive': 6107, 're-establishing': 6108, 'bloc': 6109, 'comply': 6110, 'differed': 6111, 'maintaining': 6112, 'establishing': 6113, 'soften': 6114, 'transition': 6115, 'block': 6116, 'appeals': 6117, 'proposing': 6118, 'mounting': 6119, 'opposing': 6120, 'allies': 6121, 'kind': 6122, 'brasilia': 6123, 'diplomatic': 6124, 'accommodative': 6125, 'feeling': 6126, 'nobody': 6127, 'reassess': 6128, 'verified': 6129, 'hammer': 6130, 'exovir': 6131, 'accumulating': 6132, 'abundant': 6133, 'corrientes': 6134, 'mm': 6135, 'harvests': 6136, 'pampa': 6137, 'grain-producing': 6138, 'revise': 6139, 'aires': 6140, 'misiones': 6141, 'coarse': 6142, 'rainfall': 6143, 'harvested': 6144, 'formosa': 6145, 'rios': 6146, 'heaviest': 6147, 'chaco': 6148, 'buenos': 6149, 'cordoba': 6150, 'fe': 6151, 'entre': 6152, 'paralysed': 6153, 'search': 6154, 'corroon': 6155, 'cbl>': 6156, 'paemen': 6157, 'boschwitz': 6158, 'feedgrains': 6159, 'decoupling': 6160, 'diminished': 6161, 'regardless': 6162, 'r-minn': 6163, 'deciding': 6164, 'rudy': 6165, 'man': 6166, 'hayes-albion': 6167, 'grossman': 6168, 'chapter': 6169, 'closings': 6170, 'maximize': 6171, 'rosewood': 6172, 'mason': 6173, 'recapitalization': 6174, 'cypress': 6175, 'cdn>': 6176, 'comdata': 6177, 'contained': 6178, 'webcor': 6179, 'programme': 6180, 'freer': 6181, 'gnp': 6182, 'appropriations': 6183, 'creditworthiness': 6184, 'promotion': 6185, 'geared': 6186, 'injected': 6187, 'attainable': 6188, 'medium-term': 6189, 'restrained': 6190, 'tigrel': 6191, 'echoed': 6192, 'alleviate': 6193, 'injection': 6194, 'clouded': 6195, 'spur': 6196, 'ed': 6197, 'bbls': 6198, 'onshore': 6199, 'inland': 6200, 'slumped': 6201, 'extract': 6202, 'kern': 6203, \"they'll\": 6204, 'tracks': 6205, 'malmgreen': 6206, 'thick': 6207, 'bolster': 6208, 'rigs': 6209, 'guerard': 6210, 'one-quarter': 6211, 'stripper': 6212, 'steam': 6213, 'extraction': 6214, 'blend': 6215, 'gathering': 6216, 'montgomery': 6217, 'flowed': 6218, 'depths': 6219, 'srd>': 6220, 'wilcox': 6221, 'choke': 6222, 'enforced': 6223, 'revolving': 6224, 'elect': 6225, 'gibraltar': 6226, 'appointment': 6227, 'simple': 6228, 'fieldwork': 6229, 'sudden': 6230, 'izvestia': 6231, 'task': 6232, 'wyoming': 6233, 'idaho': 6234, 'borman': 6235, 'supermarkets': 6236, 'safeway': 6237, 'brf>': 6238, 'seaway': 6239, 'fisher': 6240, 'potentially': 6241, 'millions': 6242, 'interrupting': 6243, 'deny': 6244, 'unfortunate': 6245, 'beneficial': 6246, 'outboard': 6247, 'tops': 6248, 'stretching': 6249, 'anonymity': 6250, 'boat': 6251, 'wayne': 6252, 'begins': 6253, 'algoma': 6254, 'gnva>': 6255, 'genova': 6256, 'supreme': 6257, 'pipelines': 6258, 'van': 6259, 'cannon': 6260, 'samples': 6261, 'analytichem': 6262, 'preparation': 6263, 'awarding': 6264, 'bernard': 6265, 'detailing': 6266, 'journalists': 6267, 'outlets': 6268, 'vieux': 6269, 'sullivan': 6270, 'switches': 6271, 'woong-bae': 6272, 'diminish': 6273, 'transferred': 6274, 'suggestions': 6275, 'rha': 6276, 'spends': 6277, 'wis': 6278, 'meadows': 6279, 'park': 6280, 'cri': 6281, \"inc's>\": 6282, 'growmark': 6283, 'ethanol': 6284, 'reopen': 6285, 'remodeling': 6286, 'norris': 6287, 'idle': 6288, 'group>': 6289, 'condensate': 6290, 'southwest': 6291, 'miles': 6292, 'discovery': 6293, 'va': 6294, 'salem': 6295, 'insurers': 6296, 'allied': 6297, 'unicorp': 6298, 'nusource': 6299, 'vitamins': 6300, 'nutrition': 6301, 'shell': 6302, 'pretty': 6303, 'elevators': 6304, 'obtains': 6305, 'cabinet': 6306, 'rests': 6307, 'samuels': 6308, 'unfounded': 6309, 'e.c': 6310, 'microchips': 6311, 'semiconductors': 6312, 'preferential': 6313, 'aims': 6314, '12-nation': 6315, 'association>': 6316, 'okla': 6317, 'dhr>': 6318, 'danaher': 6319, 'surviving': 6320, 'lotoquik': 6321, 'chatsworth': 6322, 'apartment': 6323, 'contractor': 6324, 'asbestec': 6325, 'asbestos': 6326, 'd.c': 6327, 'prohibiting': 6328, 'herring': 6329, 'insisting': 6330, 'discriminatory': 6331, 'salmon': 6332, 'winds': 6333, 'borrow': 6334, 'recommendations': 6335, 'goldman': 6336, 'ever': 6337, 'philip': 6338, 'explosive': 6339, 'chrysler': 6340, 'kirnan': 6341, 'healy': 6342, 'kidder': 6343, 'recapture': 6344, 'curtail': 6345, 'staged': 6346, 'weaken': 6347, 'models': 6348, 'buyback': 6349, 'lucky': 6350, 'rolling': 6351, 'carmaker': 6352, 'bullish': 6353, 'competitors': 6354, 'truck': 6355, 'sachs': 6356, 'c>': 6357, 'erc': 6358, 'parsow': 6359, 'gholamreza': 6360, 'aps': 6361, 'counterpart': 6362, 'aqazadeh': 6363, 'goldome': 6364, 'utilization': 6365, 'bear': 6366, 'style': 6367, 'permanently': 6368, 'commons': 6369, 'recovered': 6370, 'manpower': 6371, 'milan': 6372, 'chase': 6373, 'finalised': 6374, 'manhattan': 6375, 'quite': 6376, 'rome': 6377, 'hal': 6378, 'h.r.s': 6379, 'roach': 6380, 'qintex': 6381, 'studios': 6382, 'exerciseable': 6383, '30-day': 6384, 'media': 6385, 'tpn.pa>': 6386, 'crd': 6387, 'petroles': 6388, 'des': 6389, 'francaise': 6390, 'overriding': 6391, 'lawmakers': 6392, 'molding': 6393, 'breaks': 6394, 'words': 6395, 'railroad': 6396, 'category': 6397, 'wait': 6398, 'stimulating': 6399, 'tertiary': 6400, 'oilpatch': 6401, 'tell': 6402, 'nugent': 6403, \"texas'\": 6404, 'wildcat': 6405, 'sitting': 6406, 'assist': 6407, 'coherent': 6408, 'uac>': 6409, 'gaviria': 6410, 'cesar': 6411, 'certainly': 6412, 'conversation': 6413, 'necessarily': 6414, 're-introduce': 6415, 'consequences': 6416, 'transpacific': 6417, 'guinn': 6418, 'justice': 6419, 'modernization': 6420, 'non-regulated': 6421, 'internally': 6422, 'telesis': 6423, 'welcomes': 6424, 'uncertainties': 6425, 'calculations': 6426, 'questionable': 6427, 'hearings': 6428, 'assumptions': 6429, 'becoming': 6430, 'acqusition': 6431, 'hamburg-based': 6432, 'mombasa': 6433, 'shillings': 6434, 'exclusion': 6435, 'title': 6436, 'indeed': 6437, 'posed': 6438, 'argues': 6439, 'stiffer': 6440, 'tougher': 6441, 'design': 6442, 'furthermore': 6443, 'tests': 6444, 'netting': 6445, 'insist': 6446, 'relieved': 6447, 'recognize': 6448, 'counting': 6449, 'shaw': 6450, 'granting': 6451, 'soliciting': 6452, 'ross': 6453, 'dya>': 6454, 'shareholdings': 6455, 'gary': 6456, \"cts'\": 6457, 'cts>': 6458, 'reimbursement': 6459, 'renewal': 6460, 'melnikov': 6461, 'negotiated': 6462, 'pill': 6463, 'redeeming': 6464, 'poison': 6465, 'expedited': 6466, 'additionally': 6467, 'twa': 6468, 'twa>': 6469, 'trans': 6470, 'usair': 6471, 'litigation': 6472, 'slate': 6473, 'appeal': 6474, 'dca': 6475, 'dismiss': 6476, 'integrated': 6477, 'measurex': 6478, 'presently': 6479, 'write': 6480, 'downs': 6481, 'depositary': 6482, 'dalton': 6483, 'wtdi>': 6484, 'wtd': 6485, 'healthvest': 6486, 'maryland': 6487, 'hvt>': 6488, 'cacex': 6489, 'banco': 6490, 'denies': 6491, 'rumours': 6492, 'brasil': 6493, 'nl': 6494, 'nl>': 6495, 'alaska': 6496, 'stands': 6497, 'three-way': 6498, 'dlr-a-share': 6499, 'testifying': 6500, 'maintains': 6501, 'bow': 6502, 'testimony': 6503, 'hook': 6504, 'impress': 6505, 'cook': 6506, 'seoul': 6507, 'rand': 6508, 'state-run': 6509, 'kock': 6510, 'gerhard': 6511, 'entirely': 6512, 'definite': 6513, 'implementing': 6514, 'story': 6515, 'lived': 6516, 'fulfill': 6517, 'tied': 6518, 'ltc>': 6519, 'leaseway': 6520, 'irrigation': 6521, 'anixter': 6522, 'seven-year': 6523, 'mhc>': 6524, 'mer>': 6525, 'secured': 6526, 'hanover': 6527, 'six-year': 6528, 'ariz': 6529, 'separation': 6530, 'wash': 6531, 'bank>': 6532, 'brands': 6533, 'materially': 6534, 'tandy': 6535, 'alternatives': 6536, 'kleckner': 6537, 'authorize': 6538, 'judgment': 6539, 'mid-may': 6540, 'receiving': 6541, 'citicorp': 6542, 'plate': 6543, 'emerging': 6544, 'inquiries': 6545, 'excited': 6546, 'networks': 6547, 'numerous': 6548, 'motion': 6549, 'bac>': 6550, 'himself': 6551, 'counsel': 6552, 'oriented': 6553, 'channel': 6554, 'drew': 6555, 'brink': 6556, 'channon': 6557, 'interpreted': 6558, 'alleged': 6559, 'disputes': 6560, 'confrontation': 6561, 'conflicts': 6562, 'everyone': 6563, 'liberal': 6564, 'avoided': 6565, 'sentiment': 6566, 'occasion': 6567, 's.korea': 6568, 'relation': 6569, 'stronger': 6570, 'beet': 6571, 'beets': 6572, 'host': 6573, 'mdt>': 6574, 'louisville': 6575, 'coil': 6576, 'alloy': 6577, 'robertson': 6578, 'jaguar': 6579, 'spent': 6580, 'partnerships': 6581, 'insider': 6582, 'fleming': 6583, 'dominant': 6584, 'reject': 6585, 'pettee': 6586, 'midwest': 6587, 'putting': 6588, 'entity': 6589, 'alternatively': 6590, 'viable': 6591, 'contingencies': 6592, 'arbitrager': 6593, 'stearns': 6594, 'trial': 6595, 'complicated': 6596, 'route': 6597, 'hub': 6598, 'prove': 6599, 'becomes': 6600, 'else': 6601, 'x>': 6602, 'psa': 6603, 'icahn': 6604, 'accomplish': 6605, 'conceded': 6606, 'lined': 6607, 'forest': 6608, 'touches': 6609, 'admission': 6610, 'negotiates': 6611, 'multinational': 6612, 'soluble': 6613, 'janeiro': 6614, 'calmon': 6615, 'bag': 6616, 'carlos': 6617, 'ica': 6618, 'pity': 6619, 'rio': 6620, 'preferable': 6621, 'prefers': 6622, 'israel': 6623, 'cabinet-level': 6624, 'mull': 6625, 'validly': 6626, 'reaffirms': 6627, 'rank': 6628, 'brussels': 6629, 'transcontinental': 6630, 'spr': 6631, 'eia': 6632, 'presentation': 6633, 'crow': 6634, 'sound': 6635, \"allis-chalmers'\": 6636, 'ah>': 6637, 'trucks': 6638, 'guaranty': 6639, 'fluids': 6640, 'columbus': 6641, 'conditioning': 6642, 'filter': 6643, 'pumps': 6644, 'allis-chalmers': 6645, 'creditors': 6646, 'valves': 6647, 'amvestors': 6648, 'announcements': 6649, 'generating': 6650, 'writing': 6651, 'discontinuing': 6652, 'southland': 6653, 'wti': 6654, 'citgo': 6655, 'slc>': 6656, 'year-to-date': 6657, 'supplied': 6658, 'scrapping': 6659, 'interest-bearing': 6660, 'strive': 6661, 'houphouet-boigny': 6662, 'fragile': 6663, 'obliged': 6664, 'cfa': 6665, 'bra': 6666, 'regarded': 6667, 'elaborating': 6668, 'denis': 6669, 'robusta': 6670, 'ivorian': 6671, 'felix': 6672, 'veteran': 6673, 'breaking': 6674, 'dependent': 6675, 'kanon': 6676, 'smoothed': 6677, 'invisibles': 6678, 'measurement': 6679, 'random': 6680, 'short-covering': 6681, 'mistake': 6682, 'stabilising': 6683, 'ronald': 6684, 'cds': 6685, 'm-1b': 6686, 'sichuan': 6687, 'stored': 6688, 'destroyed': 6689, 'upper': 6690, 'rivers': 6691, 'fires': 6692, 'affects': 6693, 'abnormally': 6694, 'guangxi': 6695, 'provinces': 6696, 'hunan': 6697, 'yangtze': 6698, 'shipbuilder': 6699, 'gloomy': 6700, 'csbc': 6701, 'repairing': 6702, 'diversifying': 6703, 'diversification': 6704, 'mitsubishi': 6705, 'mith.t>': 6706, 'onomichi': 6707, 'creditor': 6708, 'ibj': 6709, 'equities': 6710, 'sticking': 6711, 'themselves': 6712, 'concrete': 6713, 'm-2': 6714, 'paddy': 6715, 'hfag.f>': 6716, 'portfolio': 6717, 'boddington': 6718, 'one-for-three': 6719, 'exciting': 6720, 'ok': 6721, 'brkn.s>': 6722, '1990s': 6723, 'diversity': 6724, 'bhp': 6725, 'bhpgm': 6726, 'queensland': 6727, 'billion-dlr': 6728, 'mansion': 6729, 'seng': 6730, 'capel': 6731, 'airways': 6732, 'cathay': 6733, 'wardley': 6734, 'english-language': 6735, 'hundreds': 6736, 'newspapers': 6737, 'benefited': 6738, 'low-cost': 6739, 'tremendous': 6740, 'forecasting': 6741, 'hkbh.hk>': 6742, 'measor': 6743, 'one-for-five': 6744, 'f.e': 6745, 'hang': 6746, 'instalment': 6747, 'lesley': 6748, 'ike': 6749, 'kerridge': 6750, 'objected': 6751, 'tool': 6752, 'california-based': 6753, 'bko>': 6754, 'ht>': 6755, 'specialised': 6756, 'hughes': 6757, 'baker': 6758, 'remarkable': 6759, 'hora': 6760, 'alignment': 6761, 'rhetoric': 6762, 'watched': 6763, 'beneath': 6764, 'throwing': 6765, 'bare': 6766, 'fundamentally': 6767, 'expert': 6768, 'tensions': 6769, 'creating': 6770, 'importance': 6771, 'plaza': 6772, 'meaning': 6773, 'periodic': 6774, 'suddenly': 6775, 'distortions': 6776, 'hardly': 6777, 'g-5': 6778, 'equation': 6779, 'imbalances': 6780, 'thus': 6781, 'significance': 6782, 'axis': 6783, 'peaks': 6784, 'flows': 6785, 'discomfort': 6786, 'peaked': 6787, 'japan-u.s': 6788, 'egg': 6789, 'alp': 6790, 'miguel': 6791, 'broad-based': 6792, 'annualised': 6793, 'fails': 6794, 'send': 6795, 'delhi': 6796, 'chi-cheng': 6797, 'chang': 6798, 'integration': 6799, 'eyskens': 6800, 'portuguese': 6801, '30th': 6802, 'symbolic': 6803, 'minted': 6804, 'coins': 6805, 'founding': 6806, 'treaty': 6807, 'basket': 6808, 'resale': 6809, 'ireland': 6810, 'firs': 6811, 'luxembourg': 6812, 'individuals': 6813, 'beneficiaries': 6814, 'kaputin': 6815, 'exactly': 6816, 'orderly': 6817, 'unprecedented': 6818, 'naira': 6819, 'finished': 6820, 'proof': 6821, 'valid': 6822, 'levy': 6823, 'supercomputers': 6824, 'domestic-led': 6825, 'kansai': 6826, 'peavey': 6827, 'aggravate': 6828, 'heightened': 6829, 'expansionary': 6830, 'institutes': 6831, 'kiel': 6832, 'danger': 6833, 'buoyed': 6834, 'ensuring': 6835, 'acceleration': 6836, 'inflationary': 6837, 'pte': 6838, 'nationale': 6839, 'stch.l>': 6840, 'abnn.as>': 6841, 'hock': 6842, 'oversea-chinese': 6843, 'nederland': 6844, 'citibank': 6845, 'owes': 6846, 'algemene': 6847, 'teck': 6848, 'na>': 6849, 'superpower': 6850, 'calculate': 6851, 'misunderstanding': 6852, 'dried': 6853, 'hamper': 6854, 'convert': 6855, 'envoy': 6856, 'achieving': 6857, 'wars': 6858, 'lacks': 6859, 'solidarity': 6860, 'imf': 6861, '1970s': 6862, 'americans': 6863, 'modernise': 6864, 'precise': 6865, 'meetings': 6866, 'freely': 6867, 'slumping': 6868, 'lifting': 6869, 'spotlight': 6870, 'mfn': 6871, 'yes': 6872, 'devised': 6873, 'booming': 6874, 'offshoot': 6875, 'links': 6876, 'illusion': 6877, 'illegally': 6878, 'liable': 6879, 'revisions': 6880, 'invisible': 6881, '1986': 6882, 'upwardly': 6883, 'seasonally-adjusted': 6884, 'cso': 6885, 'till': 6886, 'discouraging': 6887, 'signals': 6888, 'turbulence': 6889, 'stabilised': 6890, 'ripe': 6891, 'intervened': 6892, 'hasty': 6893, 'gafta': 6894, 'pig': 6895, 'pigmeat': 6896, 'potato': 6897, 'enquiries': 6898, 'answer': 6899, 'lombard': 6900, 'anatolian': 6901, 'advertisement': 6902, 'semi-official': 6903, 'crystal': 6904, 'cms': 6905, 'drift': 6906, 'navigation': 6907, 'ventspils': 6908, 'baltic': 6909, 'yielded': 6910, 'compensated': 6911, 'overproduction': 6912, 'consistently': 6913, 'libya': 6914, 'allows': 6915, 'crudes': 6916, 'suffers': 6917, 'bonny': 6918, 'inability': 6919, 'consent': 6920, 'sues': 6921, 'injunction': 6922, 'burdensome': 6923, \"hughes'\": 6924, 'defendants': 6925, 'explanation': 6926, 'overwhelmingly': 6927, 'objections': 6928, 'proportion': 6929, 'classified': 6930, 'guillermo': 6931, 'gazette': 6932, 'hour': 6933, 'interfere': 6934, 'defensive': 6935, 'eleventh': 6936, 'passengers': 6937, 'obviously': 6938, 'grossly': 6939, 'luxury': 6940, 'egan': 6941, 'umbrella': 6942, 'edwards': 6943, 'xj-6': 6944, 'reception': 6945, 'model': 6946, 'nord': 6947, 'quake': 6948, 'santiago': 6949, 'chuquicamata': 6950, 'earthquake': 6951, 'richter': 6952, 'usual': 6953, 'liquids': 6954, 'orbit': 6955, 'appraisal': 6956, 'multifoods': 6957, 'semolina': 6958, 'teamed': 6959, 'lm': 6960, 'pglo.as>': 6961, 'privatisation': 6962, 'telecommunications>': 6963, 'cgct': 6964, 't.n>': 6965, 'anonyme': 6966, 'industrie': 6967, '>': 6968, 'sieg.f>': 6969, 'consortia': 6970, 'matra': 6971, 'sat': 6972, 'centre': 6973, 'du': 6974, 'constructions': 6975, 'foothold': 6976, 'siemens': 6977, 'blizzard': 6978, 'waterway': 6979, 'istanbul': 6980, 'bosphorus': 6981, 'pickens': 6982, 'arranged': 6983, 'l.p.>': 6984, 'anglo': 6985, 'pegasus': 6986, 'pgulf>': 6987, 'alteration': 6988, 'waive': 6989, 'proration': 6990, 'soley': 6991, 'sustainable': 6992, \"years'\": 6993, 'something': 6994, 'prevail': 6995, 'prevails': 6996, 'capita': 6997, 'responsibility': 6998, 'pvdc>': 6999, 'princeville': 7000, 'orange-co': 7001, 'summit': 7002, 'paradise': 7003, 'distribute': 7004, 'trimedyne': 7005, 'murphy': 7006, 'dia>': 7007, 'oak': 7008, 'sportswear': 7009, 'mannesmann': 7010, 'fichtel': 7011, 'mmwg.f>': 7012, 'werner': 7013, 'dieter': 7014, 'aig>': 7015, 'one-for-50': 7016, 'rd.as>': 7017, 'non-opec': 7018, 'upstream': 7019, 'barclays': 7020, 'downstream': 7021, 'majors': 7022, 'favored': 7023, 'exploring': 7024, 'holmes': 7025, 'wedd': 7026, 'reacted': 7027, 'windfall': 7028, 'centred': 7029, 'rowland': 7030, 'half-year': 7031, 'nonetheless': 7032, 'zoete': 7033, 'austerity': 7034, 'publication': 7035, 'sacrifices': 7036, 'attracting': 7037, 'students': 7038, 'inevitably': 7039, 'banker': 7040, 'painful': 7041, 'insists': 7042, 'preferring': 7043, 'relied': 7044, 'disaster': 7045, 'died': 7046, 'toxic': 7047, 'underground': 7048, 'kinross': 7049, 'appearing': 7050, 'reflection': 7051, 'semiannual': 7052, 'execution': 7053, 'stowe': 7054, 'commit': 7055, 'carson': 7056, 'anderson': 7057, 'proportions': 7058, 'wcas': 7059, 'welsh': 7060, 'honesty': 7061, 'dodge': 7062, 'dart': 7063, 'feels': 7064, 'cochran': 7065, 'asa': 7066, 'thad': 7067, 'consulted': 7068, 'addressing': 7069, 'r-miss': 7070, 'haggard': 7071, 'forfeited': 7072, 'caledonian': 7073, 'repairs': 7074, 'boliden': 7075, 'exercising': 7076, 'slice': 7077, 'trelleborg': 7078, 'cameras': 7079, 'anticipation': 7080, 'always': 7081, 'nice': 7082, 'bargain': 7083, 'volatile': 7084, 'opinion': 7085, 'overtime': 7086, 'polaroid': 7087, 'smbs.st>': 7088, 'revalued': 7089, 'realignment': 7090, 'ems': 7091, 'preceded': 7092, 'simultaneously': 7093, 'stabilisation': 7094, 'flight': 7095, 'fecom': 7096, 'shore': 7097, 'headed': 7098, 'austrian': 7099, 'girozentrale': 7100, 'refractories': 7101, 'envisaged': 7102, 'reconsider': 7103, 'gesture': 7104, 'upgraded': 7105, 'drinks': 7106, 'burry': 7107, 'pepsico': 7108, 'midmorning': 7109, 'pep>': 7110, 'jurisdiction': 7111, 'oversight': 7112, 'perceive': 7113, 'mania': 7114, 'legitimate': 7115, 'ivan': 7116, 'republican': 7117, 'analyze': 7118, 'flowing': 7119, 'n.j': 7120, 'levine': 7121, 'markey': 7122, 'fraud': 7123, 'illegal': 7124, 'prey': 7125, 'understandably': 7126, 'stopping': 7127, 'introducing': 7128, 'dennis': 7129, 'things': 7130, 'shad': 7131, 'advise': 7132, 'criminal': 7133, 'preceeding': 7134, 'spite': 7135, 'strains': 7136, 'unnamed': 7137, 'secretariat': 7138, 'refrain': 7139, 'vienna': 7140, 'foreseen': 7141, 'minn': 7142, 'science': 7143, 'tech': 7144, 'collective': 7145, 'tentative': 7146, 'long-haul': 7147, 'monopoly': 7148, 'promised': 7149, 'teamsters': 7150, 'diego': 7151, 'carriers': 7152, 'write-offs': 7153, 'unregulated': 7154, 'mcic>': 7155, 'ordered': 7156, 'bert': 7157, 'mci': 7158, 'roberts': 7159, 'long-distance': 7160, 'att': 7161, 'fcc': 7162, 'gypsum': 7163, 'na': 7164, 's>': 7165, 'commerce>': 7166, 'beach': 7167, 'triumph': 7168, 'tone': 7169, 'intervene': 7170, 'softer': 7171, 'possibilities': 7172, 'regal': 7173, 'investigated': 7174, 'fortune': 7175, 'eqk': 7176, 'lp': 7177, 'farms': 7178, 'victims': 7179, 'salmonella': 7180, 'dr': 7181, 'humans': 7182, 'cooking': 7183, 'eating': 7184, 'medicine': 7185, 'journal': 7186, 'hamburger': 7187, 'antibiotics': 7188, 'constant': 7189, \"didn't\": 7190, 'strain': 7191, 'deadly': 7192, 'critics': 7193, 'helping': 7194, 'cooked': 7195, 'rouen': 7196, 'loaded': 7197, 'fitzwater': 7198, 'marlin': 7199, 'yearend': 7200, 'zambian': 7201, 'zccm': 7202, 'alexandria': 7203, 'seas': 7204, 'km': 7205, 'overvalued': 7206, 'personally': 7207, 'wide': 7208, 'dept': 7209, 'ortner': 7210, 'grants': 7211, 'zayre': 7212, 'advice': 7213, 'ferruzzi': 7214, 'tate': 7215, 'w': 7216, 'gruppo': 7217, '&amp': 7218, 'berisford': 7219, 'undertakings': 7220, 'lyle': 7221, 'clubs': 7222, 'shops': 7223, 'surcharge': 7224, 'tie': 7225, 'background': 7226, 'friction': 7227, 'defended': 7228, 'en': 7229, 'copy': 7230, 'ruding': 7231, 'publishes': 7232, 'dependence': 7233, 'whatever': 7234, 'finances': 7235, 'cpb': 7236, 'parliamentary': 7237, 'favourably': 7238, 'pierson': 7239, 'bottoming': 7240, 'lieu': 7241, 'license': 7242, 'cc-bank': 7243, 'cards': 7244, 'enables': 7245, 'posture': 7246, 'provisioning': 7247, 'designated': 7248, 'allegheny': 7249, 'tape': 7250, 'liquidation': 7251, 'landes': 7252, 'unitel': 7253, 'sc>': 7254, 'rd>': 7255, 'lifo': 7256, 'barometer': 7257, 'gradual': 7258, 'corner': 7259, 'rogers': 7260, 'alan': 7261, 'halcyon': 7262, 'laurentian': 7263, 'aetna': 7264, 'montreal': 7265, 'relationships': 7266, 'safe': 7267, 'timetable': 7268, 'mike': 7269, 'herds': 7270, 'pilot': 7271, 'fda': 7272, 'safely': 7273, 'four-for-three': 7274, 'setback': 7275, 'argued': 7276, 'stephen': 7277, 'trade-weighted': 7278, 'hale': 7279, 'altogether': 7280, 'thatcher': 7281, 'victory': 7282, 'guessing': 7283, 'notably': 7284, 'cautious': 7285, 'ignored': 7286, 'fellner': 7287, 'eleven': 7288, 'penal': 7289, 'vulnerable': 7290, 'phillips': 7291, 'disappointment': 7292, 'margaret': 7293, 'lent': 7294, 'gilt': 7295, 'pause': 7296, 'keeps': 7297, 'presplit': 7298, 'suez': 7299, 'non-european': 7300, 'h': 7301, 'cb': 7302, 'amkg>': 7303, 'entrepo': 7304, 'amoskeag': 7305, 'kaines': 7306, 'jordan': 7307, 'filling': 7308, 'arrival': 7309, 'carried': 7310, 'merit': 7311, 'communities': 7312, 'wright': 7313, 'shortening': 7314, 'favors': 7315, 'speaker': 7316, '10-day': 7317, 'junk': 7318, 'inc&lt': 7319, 'alive': 7320, 'pump': 7321, 'purchaser': 7322, 'kistler': 7323, 'unreasonable': 7324, 'submersible': 7325, 'anti-trust': 7326, 'aequitron': 7327, 'lowe': 7328, 'anyway': 7329, 'geronimus': 7330, 'pierre': 7331, 'zurich': 7332, 'nationalised': 7333, 'reserved': 7334, 'marc': 7335, 'bourse': 7336, 'reinforce': 7337, 'rene': 7338, 'stockbroker': 7339, 'sogenal': 7340, 'privatised': 7341, 'prudential': 7342, 'canary': 7343, 'sub-saharan': 7344, 'islands': 7345, 'nominee': 7346, 'wilshire': 7347, 'joseph': 7348, 'easter': 7349, 'brennan': 7350, 'howell': 7351, 'roebuck': 7352, 'sears': 7353, 'k': 7354, 'jcp>': 7355, 'km>': 7356, 'durable': 7357, 'hudson': 7358, 'penney': 7359, 'fauber': 7360, 'ward': 7361, 'positively': 7362, 'hardware': 7363, 'edelman': 7364, 'borrowed': 7365, 'dayton': 7366, 'j.c': 7367, 'catalog': 7368, 'strongest': 7369, 'federated': 7370, 'fashions': 7371, 'comparisons': 7372, 'disorders': 7373, 'therapy': 7374, 'outlet': 7375, 'enzon': 7376, 'ek>': 7377, 'peg': 7378, 'buildup': 7379, 'eastman': 7380, 'kodak': 7381, 'tissue': 7382, 'protein': 7383, 'settlements': 7384, 'abandonment': 7385, 'startup': 7386, 'booking': 7387, 'arising': 7388, 'solar': 7389, 'solutions': 7390, 'indefinitely': 7391, 'g-6': 7392, 'manuel': 7393, 'genuine': 7394, 'ingredients': 7395, 'triad': 7396, 'expressing': 7397, 'ducommun': 7398, 'contemplated': 7399, 'dco>': 7400, 'texon': 7401, 'promissory': 7402, 'restates': 7403, 'kohlberg': 7404, 'kravis': 7405, 'restatement': 7406, 'allied-signal': 7407, 'ald>': 7408, 'pertamina': 7409, 'fifth': 7410, 'coatings': 7411, 'nearer': 7412, '4,000-strong': 7413, 'attacked': 7414, 'withdrawing': 7415, 'svz': 7416, 's.a.y': 7417, 'lincoln': 7418, 'pa': 7419, 'art': 7420, 'paint': 7421, 'bishop': 7422, 'irvine': 7423, 'suspend': 7424, 'unrest': 7425, 'rubens': 7426, 'leao': 7427, 'congestion': 7428, 'striking': 7429, 'almir': 7430, 'scene': 7431, 'habbema': 7432, 'gazeta': 7433, 'franco': 7434, 'stoppage': 7435, 'conceivable': 7436, 'anchor': 7437, 'jorge': 7438, 'seamen': 7439, 'deterioration': 7440, 'extinguishment': 7441, 'sis': 7442, 'designer': 7443, 'door': 7444, 'acme': 7445, 'foster': 7446, \"we'll\": 7447, 'chamber': 7448, 'unfair': 7449, 'dangers': 7450, 'tactics': 7451, 'inflows': 7452, 'legislate': 7453, 'tel': 7454, 'israeli': 7455, 'rebound': 7456, 'rothschild': 7457, 'calif.-based': 7458, 'unterberg': 7459, 'treybig': 7460, 'picking': 7461, 'programming': 7462, 'towbin': 7463, 'cohen': 7464, 'l.f': 7465, \"states'\": 7466, 'continually': 7467, 'punta': 7468, 'justification': 7469, 'arnott': 7470, 'peanuts': 7471, 'este': 7472, 'waiver': 7473, 'pensacola': 7474, 'func>': 7475, 'pooling': 7476, 'mcadoo': 7477, 'sparking': 7478, 'stenholm': 7479, 'proponents': 7480, 'd-tex': 7481, 'amendment': 7482, 'glickman': 7483, 'moos': 7484, 'bode': 7485, 'd-kan': 7486, 'stangeland': 7487, 'reopening': 7488, 'implemented': 7489, 'gene': 7490, 'discounting': 7491, 'low-density': 7492, 'linear': 7493, 'polyethylene': 7494, 'jean': 7495, 'handled': 7496, 'moulinex': 7497, 'transworld': 7498, 'winning': 7499, 'ingredient': 7500, 'fate': 7501, 'consolidation': 7502, \"airlines'\": 7503, 'talked': 7504, 'arbitragers': 7505, 'tolerate': 7506, 'threats': 7507, 'exit': 7508, 'bold': 7509, 'lacked': 7510, 'courted': 7511, 'credibility': 7512, 'destined': 7513, 'succeeded': 7514, 'abide': 7515, 'limbo': 7516, 'thrown': 7517, 'mattson': 7518, 'oilfield': 7519, 'declaring': 7520, 'homestead': 7521, 'electro-sensors': 7522, 'cancels': 7523, 'cancelled': 7524, 'abiding': 7525, 'firming': 7526, 'correct': 7527, 'honour': 7528, 'ministerial': 7529, 'priorities': 7530, 'spoken': 7531, 'finalizing': 7532, 'dangerous': 7533, 'patient': 7534, 'pressured': 7535, 'lks>': 7536, 'rounded': 7537, 'rationing': 7538, 'lands': 7539, 'grazing': 7540, 'granma': 7541, 'cleaning': 7542, 'itc': 7543, 'injuring': 7544, 'packing': 7545, 'dumped': 7546, 'assessed': 7547, 'provisionally': 7548, 'fibre': 7549, 'bei': 7550, 'oxy>': 7551, 'pearl': 7552, 'interconnect': 7553, 'counties': 7554, 'endevco': 7555, 'constructed': 7556, 'connecticut': 7557, 'fsb': 7558, 'testing': 7559, 'aids-related': 7560, 'pma>': 7561, 'foreigners': 7562, 'driven': 7563, 'pitt-des': 7564, 'moines': 7565, 'metallurgical': 7566, 'gordon': 7567, 'bay': 7568, 'encountered': 7569, 'sweeping': 7570, 'overhaul': 7571, 'bailey': 7572, 'progressive': 7573, 'consensus': 7574, 'redress': 7575, 'disruptions': 7576, 'demonstrated': 7577, 'usa': 7578, 'two-day': 7579, 'paye': 7580, 'recognises': 7581, 'kohl': 7582, 'fixing': 7583, 'pursued': 7584, 'helmut': 7585, 'rexcom': 7586, 'comtech': 7587, 'postech': 7588, 'peanut': 7589, 'veg': 7590, 'nonrecurring': 7591, 'non-operating': 7592, 'exists': 7593, 'controversy': 7594, 'flooding': 7595, 'equivalents': 7596, 'gaf>': 7597, 'performed': 7598, 'carbon': 7599, 'audited': 7600, 'gases': 7601, 'automobile': 7602, 'totaling': 7603, 'gaf': 7604, 'defeated': 7605, 'soundly': 7606, 'write-downs': 7607, 'saunders': 7608, 'hbj>': 7609, 'brace': 7610, 'jovanovich': 7611, 'holt': 7612, 'rinehart': 7613, 'harcourt': 7614, 'lone': 7615, 'star': 7616, 'nv>': 7617, 'returned': 7618, 'chimie': 7619, 'performances': 7620, 'centres': 7621, 'resende': 7622, 'suspends': 7623, 'importation': 7624, 'humana': 7625, 'hum>': 7626, 'juan': 7627, 'fin>': 7628, 'mesa': 7629, 'causes': 7630, 'periodically': 7631, 'legislators': 7632, 'ray': 7633, 'swiftly': 7634, 'don': 7635, 'profit-taking': 7636, 'simon': 7637, 'u.s.-ussr': 7638, 'fairfield': 7639, 'alton': 7640, 'rescheduling': 7641, 'disbursed': 7642, 'inter-american': 7643, 'depression': 7644, 'entitles': 7645, 'gwf>': 7646, 'guardian': 7647, 'saving': 7648, 'candidate': 7649, 'troubles': 7650, 'turnabout': 7651, 'arguments': 7652, 'simmons': 7653, 'bor>': 7654, 'punitive': 7655, 'thinks': 7656, 'tend': 7657, '13-d': 7658, 'contended': 7659, 'reed': 7660, 'carroll': 7661, 'borg-warner': 7662, 'baker-hughes': 7663, 'condere': 7664, 'natchez': 7665, 'buy-out': 7666, 'contractual': 7667, 'ferc': 7668, 'impeded': 7669, 'take-or-pay': 7670, 'fl-yr': 7671, 'metro': 7672, 'mobile': 7673, 'mmct>': 7674, 'spar': 7675, 'manages': 7676, 'reph': 7677, 'mcdonnell': 7678, 'alpha': 7679, 'gears': 7680, 'robotics': 7681, 'concentration': 7682, 'chesapeake': 7683, 'dakota': 7684, 'two-tier': 7685, 'ufcwu': 7686, 'lockout': 7687, 'meatpackers': 7688, 'zack': 7689, 'nebraska': 7690, 'ibp': 7691, 'mid-december': 7692, 'composed': 7693, 'noir': 7694, 'carefully': 7695, 'violated': 7696, 'fiduciary': 7697, 'alleges': 7698, 'deter': 7699, 'dlr-per-share': 7700, 'cag>': 7701, 'transporting': 7702, 'internationally': 7703, 'monfort': 7704, 'domestically': 7705, 'conagra': 7706, 'lamb': 7707, 'wary': 7708, 'collect': 7709, 'influential': 7710, 'glenn': 7711, 'd-okla': 7712, 'reopened': 7713, 'scale-back': 7714, 'u.s.-soviet': 7715, 'mikhail': 7716, 'prohibited': 7717, 'most-favored-nation': 7718, 'whitehead': 7719, 'prohibits': 7720, 'gorbachev': 7721, 'anybody': 7722, 'dismissal': 7723, 'succeeding': 7724, 'contingent': 7725, 'men': 7726, 'guilty': 7727, 'paradyne': 7728, 'prosecutors': 7729, 'marketplace': 7730, 'false': 7731, 'jerry': 7732, 'wiggins': 7733, 'surveys': 7734, 'seismic': 7735, 'replying': 7736, 'violation': 7737, 'territorial': 7738, 'repeats': 7739, 'hall': 7740, 'reconsideration': 7741, 'rail': 7742, 'icc': 7743, 'roldan': 7744, 'collateral': 7745, 'honor': 7746, 'afford': 7747, 'inclined': 7748, 'acts': 7749, 'stepped-up': 7750, 'indebted': 7751, 'sounds': 7752, 'anyone': 7753, 'aggressive': 7754, 'marketings': 7755, 'jose': 7756, 'stretch': 7757, 'vulnerability': 7758, 'scenario': 7759, 'hinted': 7760, 'loewy': 7761, 'eshleman': 7762, 'tackle': 7763, 'iraqi': 7764, 'leeway': 7765, 'iea': 7766, 'ngls': 7767, 'cutbacks': 7768, 'non-communist': 7769, 'sands': 7770, 'norwegian': 7771, 'vermont': 7772, 'democrat': 7773, 'enfield': 7774, 'mature': 7775, 'fountain': 7776, 'refinancing': 7777, 'wichita': 7778, 'retroactively': 7779, 'isthmus': 7780, 'heavier': 7781, 'decreases': 7782, 'ftc': 7783, 'notified': 7784, 'hunt': 7785, 'carter': 7786, 'hex>': 7787, 'viner': 7788, 'heck': 7789, 'carpet': 7790, 'walkout': 7791, 'petrobras': 7792, 'syndarma': 7793, 'idled': 7794, 'strikers': 7795, 'milwaukee': 7796, 'assessing': 7797, 'judgement': 7798, 'investigate': 7799, 'enjoin': 7800, 'declaratory': 7801, 'regulated': 7802, 'buckstein': 7803, 'anti-takeover': 7804, 'chancery': 7805, 'ivey': 7806, 'temporarily': 7807, 'unidentified': 7808, 'scandinavia': 7809, 'martin': 7810, 'vbi': 7811, 'nikko': 7812, 'stimulus': 7813, 'brusca': 7814, 'consistent': 7815, 'mccarthy': 7816, 'contraction': 7817, 'moreover': 7818, 'slifer': 7819, 'caution': 7820, 'sending': 7821, 'progresses': 7822, 'census': 7823, 'comparative': 7824, 'fishmeal': 7825, 're-exports': 7826, 'ssmc>': 7827, 'bands': 7828, 'midsession': 7829, 'donegal': 7830, 'revlon': 7831, 'forbes': 7832, 'mcandrews': 7833, 'macandrews': 7834, 'rev>': 7835, 'guesstimates': 7836, 'guesstimated': 7837, 'guesstimating': 7838, 'slaughter': 7839, 'borealis': 7840, 'district': 7841, 'territories': 7842, 'cove': 7843, 'faraway': 7844, 'imre': 7845, 'oy': 7846, 'instrumentarium': 7847, 'nokia': 7848, 'finland': 7849, 'pbt>': 7850, 'permian': 7851, 'human': 7852, 'laboratory': 7853, 'calf': 7854, 'linked': 7855, 'macdonald': 7856, 'dome': 7857, 'encor': 7858, 'dmp>': 7859, 'annesley': 7860, 'dm>': 7861, 'expiring': 7862, 'sporadic': 7863, 'coffees': 7864, 'complied': 7865, 'm': 7866, 'allowable': 7867, 'biotech': 7868, 'injurious': 7869, 'upheld': 7870, 'tribunal': 7871, 'countervailing': 7872, 'steve': 7873, 'reading': 7874, 'build-up': 7875, 'leslie': 7876, 'civilian': 7877, 'joe': 7878, \"aren't\": 7879, 'goverment': 7880, 'greenbaum': 7881, 'slim': 7882, 'uniform': 7883, 'robust': 7884, 'tighter': 7885, 'intensify': 7886, 'culminating': 7887, 'coalition': 7888, 'forming': 7889, 'comfortably': 7890, 'border': 7891, 'rhine': 7892, 'stretches': 7893, 'bans': 7894, 'bonn': 7895, 'mfg': 7896, 'hawker': 7897, 'clarostat': 7898, 'siddeley': 7899, 'narragansett': 7900, 'narr>': 7901, 'taft': 7902, 'dudley': 7903, 'tfb>': 7904, 'fbc>': 7905, 'sfx>': 7906, 'outlines': 7907, 'sanctioned': 7908, 'unofficial': 7909, 'crown': 7910, 'fermenta': 7911, 'kjell': 7912, 'deposited': 7913, 'debtor': 7914, 'nordbanken': 7915, 'overdue': 7916, 'cineplex': 7917, 'odeon': 7918, 'mnes>': 7919, 'appliances': 7920, 'relocated': 7921, 'pennsylvania': 7922, 'taxable': 7923, 'scrip': 7924, 'cyprus': 7925, 'lawsuits': 7926, 'defendant': 7927, 'defenses': 7928, 'cypm>': 7929, 'evans': 7930, 'dixon': 7931, 'viability': 7932, 'realization': 7933, 'auditor': 7934, 'midwestern': 7935, 'midmississippi': 7936, 'twin': 7937, 'army': 7938, 'sections': 7939, 'locks': 7940, 'cst': 7941, 'rediscount': 7942, 'targeting': 7943, 'mercalli': 7944, 'aguarico': 7945, 'volcano': 7946, 'majeure': 7947, 'injuries': 7948, 'installations': 7949, 'tremor': 7950, 'metre': 7951, 'cepe': 7952, 'ecuadorean': 7953, '12-point': 7954, 'insurer': 7955, 'nationwide': 7956, 'sun>': 7957, 'floating-rate': 7958, 'fulfilled': 7959, 'placing': 7960, 'caisse': 7961, 'announcing': 7962, 'tap': 7963, 'women': 7964, 'memories': 7965, 'cmin>': 7966, 'large-scale': 7967, 'non-residents': 7968, 'impatience': 7969, 'conclusions': 7970, 'sustaining': 7971, 'emphasis': 7972, 'unaudited': 7973, 'differ': 7974, 'bush': 7975, 'bench': 7976, 'proportionate': 7977, 'financiere': 7978, 'pari.pa>': 7979, 'cheaper': 7980, 'imposition': 7981, 'govett': 7982, 'run-up': 7983, 'harwood': 7984, 'hoare': 7985, 'warburg': 7986, 'amro': 7987, 'cox': 7988, 'ian': 7989, 'ranks': 7990, 'intentions': 7991, 'zico': 7992, 'bancroft': 7993, 'graff': 7994, 'automated': 7995, 'joel': 7996, 'america>': 7997, 'brand': 7998, 'airco': 7999, 'eligibility': 8000, 'distanced': 8001, 'hung': 8002, 'sovereign': 8003, 'abn': 8004, 'hazelhoff': 8005, 'debtors': 8006, 'fixed-term': 8007, 'chequable': 8008, 'narrowly-defined': 8009, 'non-personal': 8010, 'm-1-a': 8011, 'residents': 8012, 'francois': 8013, 'cost-cutting': 8014, 'retraining': 8015, 'guaranteeing': 8016, 'interviewer': 8017, 'one-third': 8018, 'mitterrand': 8019, 'redundant': 8020, \"we'd\": 8021, 'unjustified': 8022, 'facts': 8023, 'rash': 8024, 'gluten': 8025, 'responses': 8026, 'valtek': 8027, 'rocky': 8028, 'mined': 8029, 'geological': 8030, 'teberebie': 8031, 'ghana': 8032, 'concession': 8033, 'kilometers': 8034, 'grams': 8035, 'extracting': 8036, 'insituform': 8037, 'exercised': 8038, 'objectives': 8039, 'functions': 8040, \"feb'86\": 8041, \"feb'87\": 8042, 'lots': 8043, 't-bond': 8044, 'eurodollars': 8045, 'liffe': 8046, 'ft-se': 8047, 'eurodollar': 8048, \"jan'87\": 8049, 'indefinite': 8050, 'ecopetrol': 8051, 'unlike': 8052, 'soo': 8053, 'edwin': 8054, 'colonial': 8055, 'dauphin': 8056, 'holland': 8057, 'm.d.c': 8058, 'chubb': 8059, 'cb>': 8060, 'absorbing': 8061, 'scarce': 8062, 'draw': 8063, 'struggle': 8064, 'resold': 8065, 'tab': 8066, 'destocking': 8067, 'wondered': 8068, 'availabilities': 8069, 'ultimate': 8070, 'wet': 8071, 'mge': 8072, 'sweetener': 8073, 'commonly': 8074, 'symbol': 8075, 'hfcs-55': 8076, 'agent': 8077, 'tank': 8078, 'syrup': 8079, 'pat': 8080, 'derived': 8081, 'fructose': 8082, 'brooksville': 8083, 'zones': 8084, 'palladium': 8085, 'enriched': 8086, 'technigen': 8087, 'untrue': 8088, 'knows': 8089, 'tele>': 8090, 'representations': 8091, 'hadson': 8092, 'reincorporation': 8093, 'fabrics': 8094, 'accompanying': 8095, 'hancock': 8096, 'avoiding': 8097, 'asher': 8098, 'sued': 8099, 'gte>': 8100, 'gte': 8101, 't>': 8102, 'bureacracy': 8103, 'filings': 8104, 'mechanisms': 8105, 'radical': 8106, 'inertia': 8107, 'gartner': 8108, 'phone': 8109, 'fritz': 8110, 'complexity': 8111, \"wouldn't\": 8112, 'constrained': 8113, 'sprint': 8114, 'altered': 8115, 'eve': 8116, 'amended': 8117, 'cme': 8118, 'length': 8119, 'struthers': 8120, '10-k': 8121, 'lorenzo': 8122, 'crossed': 8123, 'soros': 8124, 'depended': 8125, 'dissatisfied': 8126, 'concert': 8127, 'quantum': 8128, 'antilles': 8129, 'inform': 8130, 'pci>': 8131, 'advantages': 8132, 'payless': 8133, 'cashways': 8134, 'vista': 8135, 'multibank': 8136, 'ixl': 8137, 'elders': 8138, \"o'keefe\": 8139, 'carling': 8140, 'sinking': 8141, 'herald': 8142, 'accident': 8143, 'capsized': 8144, 'unspecified': 8145, 'shallow': 8146, 'townsend': 8147, 'ferry': 8148, 'collision': 8149, 'divers': 8150, 'kaakebeen': 8151, 'zeebrugge': 8152, 'wind': 8153, 'ppc>': 8154, 'lloyds': 8155, 'parana': 8156, 'entitled': 8157, 'grosso': 8158, 'freeze': 8159, 'alcohol': 8160, 'sul': 8161, 'mato': 8162, 'filled': 8163, 'funeral': 8164, 'supplying': 8165, 'carries': 8166, 'sarney': 8167, 'sao': 8168, 'paulo': 8169, 'petrol': 8170, 'stoppages': 8171, 'grave': 8172, 'worsened': 8173, 'gobert': 8174, 'hurdle': 8175, 'presumably': 8176, 'bache': 8177, 'doug': 8178, '52-week': 8179, 'connected': 8180, 'hinder': 8181, 'arguing': 8182, 'beaufort': 8183, 'stumbling': 8184, 'pressed': 8185, 'maison': 8186, 'vacuum': 8187, 'arrives': 8188, 'stabilizing': 8189, 'deployed': 8190, 'landmark': 8191, 'liberalize': 8192, 'holly': 8193, 'influenza': 8194, 'taxpayers': 8195, 'birds': 8196, 'poultry': 8197, 'avian': 8198, 'trapped': 8199, 'thoresen': 8200, 'pier': 8201, 'rescued': 8202, 'aides': 8203, 'dealt': 8204, 'urging': 8205, 'duty-free': 8206, 'nicaragua': 8207, 'preferences': 8208, 'unclear': 8209, 'scaled': 8210, 'impacts': 8211, 'cutback': 8212, 'microfilm': 8213, 'hmo': 8214, 'format': 8215, 'expo': 8216, 'eagleslair': 8217, 'dtd': 8218, 'gerald': 8219, 'schwab': 8220, 'physicians': 8221, 'bradley': 8222, 'downtown': 8223, 'westburne': 8224, 'dumez': 8225, 'saskatchewan': 8226, 'malrite': 8227, 'cyacq': 8228, \"cyclops'\": 8229, 'ava>': 8230, 'audio': 8231, 'flow-through': 8232, 'mono': 8233, 'converting': 8234, 'stem': 8235, 'salaries': 8236, 'warehousing': 8237, 'insignificant': 8238, 'unfairly': 8239, 'definition': 8240, 'non-financial': 8241, 'forth': 8242, 'covenants': 8243, 'notification': 8244, 'testified': 8245, 'promoting': 8246, 'transnational': 8247, 'mcalpine': 8248, 'jonathan': 8249, 'break-up': 8250, 'pieces': 8251, 'bearish': 8252, 'breakout': 8253, 'mcentee': 8254, 'charts': 8255, 'supportive': 8256, 'leiner': 8257, 'mcginley': 8258, 'curve': 8259, 'chart': 8260, 'sandoz': 8261, 'king': 8262, 'alabama': 8263, 'energen': 8264, 'sierra': 8265, 'mtx>': 8266, 'metex': 8267, 'escrow': 8268, 'interpretation': 8269, 'clarification': 8270, 'bar': 8271, 'racial': 8272, 'veto': 8273, 'repair': 8274, 'oxide': 8275, 'manner': 8276, 're-export': 8277, 'comprehensive': 8278, 'enrichment': 8279, 'rubbertech': 8280, 'deficient': 8281, 'refile': 8282, 'procedural': 8283, 'denial': 8284, 'incomplete': 8285, 'weiss': 8286, 'rationale': 8287, 'contain': 8288, 'fhlbb': 8289, 'acquisiton': 8290, '60-kg': 8291, 'feared': 8292, 'cross-channel': 8293, 'bhd>': 8294, 'sixth': 8295, 'negara': 8296, 'invoking': 8297, 'uab': 8298, 'latter': 8299, 'paid-up': 8300, 'amazon': 8301, 'quito': 8302, 'javier': 8303, 'espinosa': 8304, 'basin': 8305, 'conserve': 8306, 'holidays': 8307, 'ocean': 8308, 'sank': 8309, 'admiral': 8310, 'lawrence': 8311, 'peacetime': 8312, 'incident': 8313, 'collided': 8314, 'lives': 8315, 'wilhelm': 8316, 'freighter': 8317, 'ferries': 8318, 'liner': 8319, 'tractors': 8320, 'stoltenberg': 8321, 'aiming': 8322, 'christian': 8323, 'medium-sized': 8324, 'sama': 8325, 'lord': 8326, 'happened': 8327, 'crossing': 8328, 'roll-on': 8329, 'cooper': 8330, 'yard': 8331, 'respects': 8332, 'perfectly': 8333, 'hulk': 8334, 'roll-off': 8335, 'doors': 8336, 'shall': 8337, 'mediterranean': 8338, 'town': 8339, 'landslide': 8340, 'navy': 8341, 'henrique': 8342, 'incidents': 8343, 'marines': 8344, 'alert': 8345, 'shipowners': 8346, 'supplement': 8347, 'costing': 8348, 'blow': 8349, 'hector': 8350, 'lago': 8351, 'eighth': 8352, 'venezuelan': 8353, 'squeezed': 8354, 'agrio': 8355, 'caracas': 8356, 'balao': 8357, 'interior': 8358, 'lusinchi': 8359, 'jungle': 8360, 'loophole': 8361, 'liberalise': 8362, 'ammar': 8363, 'pellets': 8364, 'hectare': 8365, 'intensive': 8366, 'diesel': 8367, 'arable': 8368, 'mackay': 8369, 'end-march': 8370, 'carcass': 8371, 'sideways': 8372, 'calculation': 8373, 'stepped': 8374, 'coking': 8375, 'submission': 8376, 'proven': 8377, 'misima': 8378, 'placer': 8379, 'taka': 8380, 'incoming': 8381, 'straight': 8382, 'mas': 8383, 'broadly-based': 8384, 'occupied': 8385, 'fibres': 8386, 'lister': 8387, 'man-made': 8388, 'steadiness': 8389, 'liu': 8390, 'amoco': 8391, 'westminster': 8392, 'indemnify': 8393, 'u.s.-made': 8394, 'rata': 8395, 'completions': 8396, 'holes': 8397, 'providers': 8398, 'specialist': 8399, 'arthur': 8400, 'poised': 8401, 'elsewhere': 8402, 'soar': 8403, 'intelligence': 8404, 'expansive': 8405, 'barrier': 8406, 'fortunes': 8407, 'three-point': 8408, 'decisive': 8409, 'eiu': 8410, 'hardest': 8411, 'landing': 8412, 'hunting': 8413, 'emphasised': 8414, 'organised': 8415, 'instance': 8416, 'checked': 8417, 'poehl': 8418, 'underlined': 8419, 'persuaded': 8420, 'karl': 8421, 'solely': 8422, 'otto': 8423, 'symposium': 8424, 'signalled': 8425, 'resorts': 8426, 'caesars': 8427, 'caw>': 8428, 'gluck': 8429, 'throw': 8430, 'mountains': 8431, 'mts': 8432, 'sosnoff': 8433, 'obstacles': 8434, \"caesars'\": 8435, 'gaming': 8436, \"haven't\": 8437, 'taxation': 8438, 'depressing': 8439, 'document': 8440, 'trump': 8441, 'crosby': 8442, 'rtb>': 8443, 'disk': 8444, 'permanent': 8445, 'iomega': 8446, 'layoff': 8447, 'personnel': 8448, 'tietmeyer': 8449, 'hans': 8450, 'swings': 8451, 'schlecht': 8452, 'dramatically': 8453, 'dar': 8454, 'cmb': 8455, 'cooled': 8456, 'es': 8457, 'earns': 8458, 'rebel': 8459, 'ugandan': 8460, 'uganda': 8461, 'salaam': 8462, 'bomani': 8463, 'tanzania': 8464, 'meals': 8465, 'francisco': 8466, 'oustanding': 8467, 'millimetres': 8468, 'londrina': 8469, 'simao': 8470, 'franca': 8471, 'votuporanga': 8472, 'umuarama': 8473, 'catanduva': 8474, 'paranavai': 8475, 'maringa': 8476, 'prudente': 8477, 'cellular': 8478, 'cranes': 8479, 'roads': 8480, 'modifications': 8481, 'keng': 8482, 'yaik': 8483, 'inra': 8484, 'lim': 8485, 'interpharm': 8486, 'mcdowell': 8487, 'iacocca': 8488, 'amc': 8489, 'regie': 8490, 'perspective': 8491, 'renault': 8492, 'usines': 8493, 'relevant': 8494, 'ga': 8495, 'vogtle': 8496, 'papyrus': 8497, 'lira': 8498, 'dm': 8499, 'lloy.l>': 8500, 'retractable': 8501, 'accrued': 8502, 'redeemable': 8503, 'efficiency': 8504, 'wonnacott': 8505, 'proportionately': 8506, 'conclusion': 8507, 'procurement': 8508, 'derivatives': 8509, 'elevator': 8510, 'graan': 8511, 'mij': 8512, 'amalgamation': 8513, 'biffex': 8514, 'lmfe': 8515, 'soya': 8516, 'elmer': 8517, 'consult': 8518, 'rie': 8519, 'instructed': 8520, 'bsn>': 8521, 'bsn': 8522, 'unaffiliated': 8523, 'wor-tv': 8524, 'westinghouse': 8525, 'dis>': 8526, 'challenged': 8527, 'wor': 8528, 'khj-tv': 8529, 'disney': 8530, 'walt': 8531, 'gy>': 8532, 'rko': 8533, 'khj': 8534, 'secaucus': 8535, 'gencorp': 8536, 'wx>': 8537, 'proceedings': 8538, 'mitsy>': 8539, 'imatron': 8540, 'installation': 8541, 'robins': 8542, 'a.h': 8543, 'nwbl.l>': 8544, 'mdbl.l>': 8545, 'bcs.l>': 8546, 'natwest': 8547, 'magnetic': 8548, 'peripheral': 8549, 'bull': 8550, 'converts': 8551, 'honeywell': 8552, 'peripherals': 8553, 'hon>': 8554, 'restraining': 8555, 'pittsburgh': 8556, 'misleading': 8557, 'amo>': 8558, 'mint': 8559, 'high-grade': 8560, 'whichever': 8561, 'increments': 8562, 'advantageous': 8563, 'submitting': 8564, 'non-residential': 8565, 'dixie': 8566, 'ti-caro': 8567, 'scattered': 8568, 'advisories': 8569, 'mph': 8570, 'wisconsin': 8571, 'portions': 8572, 'gale': 8573, 'erie': 8574, 'warnings': 8575, 'freezing': 8576, 'shores': 8577, 'montana': 8578, 'waves': 8579, 'touched': 8580, 'cede': 8581, 'highs': 8582, 'countenance': 8583, 'intense': 8584, 'tranche': 8585, 'viewed': 8586, 'backdrop': 8587, 'query': 8588, 'canterra': 8589, 'graven': 8590, 'petro-canada': 8591, 'meters': 8592, 'calgary': 8593, 'newfoundland': 8594, 'flank': 8595, 'blocks': 8596, 'terra': 8597, 'recoverable': 8598, 'shoot': 8599, 'hindered': 8600, 'charan': 8601, 'takefman': 8602, 'toys': 8603, 'tag': 8604, 'ppg': 8605, 'pont': 8606, 'beaumont': 8607, 'ethylene': 8608, 'dd>': 8609, 'three-day': 8610, 'matches': 8611, 'strenuous': 8612, '2p': 8613, 'norcros': 8614, 'fishing': 8615, 'norway': 8616, 'catches': 8617, 'iceland': 8618, 'dampen': 8619, 'worries': 8620, 'endorsed': 8621, 'delaying': 8622, 'bu': 8623, 'advising': 8624, \"investors'\": 8625, 'flurry': 8626, 'ranger': 8627, 'midseason': 8628, 'miami': 8629, 'clarifies': 8630, 'valencia': 8631, 'judy': 8632, 'temper': 8633, 'anticipating': 8634, 'cease': 8635, 'kenosha': 8636, 'logical': 8637, 'owen': 8638, 'uaw': 8639, 'rating': 8640, 'downgrade': 8641, 'moody': 8642, 'constructive': 8643, 'xuto': 8644, 'manaspas': 8645, 'probability': 8646, 'amusement': 8647, 'galvanizing': 8648, 'additions': 8649, 'binding': 8650, 'finanziaria': 8651, 'ing': 8652, 'olivetti': 8653, 'istituto': 8654, 'compagnie': 8655, 'buitoni': 8656, 'iri': 8657, 'conscious': 8658}\n",
            "Vocabulary size : 8659\n"
          ]
        }
      ],
      "source": [
        "#TODO\n",
        "#fonctions du TP1\n",
        "def get_vocab(documents):\n",
        "    w2id = {}\n",
        "    id2w = []\n",
        "    id=0\n",
        "    for ligne in documents:\n",
        "      for token in ligne:\n",
        "        if str(token) not in w2id:\n",
        "          w2id[str(token)]=id;\n",
        "          id+=1;\n",
        "          id2w.append(str(token))\n",
        "    return (w2id, id2w)\n",
        "\n",
        "w2i,i2w = get_vocab(train_examples.dict_vectors)\n",
        "print(w2i)\n",
        "print(f\"Vocabulary size : {len(i2w)}\")\n"
      ]
    },
    {
      "cell_type": "markdown",
      "metadata": {
        "id": "hZ6EHxshz3oQ"
      },
      "source": [
        "## TODO2 : Turn training set and test set into matrices\n",
        "\n",
        "Represent the T=2000 training examples [vector, gold_class] using two structures:\n",
        "-\tX_train: a T x V matrix (ndarray), whose i-th row is the vector for the i-th example\n",
        "-\tY_train: a vector of size T, for the gold classes of the T examples (actually it can be a plain python list for now).\n",
        "\n",
        "Similarly, represent the dev data as X_dev and Y_dev."
      ]
    },
    {
      "cell_type": "code",
      "execution_count": 6,
      "metadata": {
        "colab": {
          "base_uri": "https://localhost:8080/"
        },
        "id": "hjzjepa_cHfR",
        "outputId": "0dbcded8-025e-41d0-bdf8-759e03458e80"
      },
      "outputs": [
        {
          "data": {
            "text/plain": [
              "array([[0., 0.],\n",
              "       [0., 0.],\n",
              "       [0., 0.]])"
            ]
          },
          "execution_count": 6,
          "metadata": {},
          "output_type": "execute_result"
        }
      ],
      "source": [
        "np.zeros((3,2))"
      ]
    },
    {
      "cell_type": "code",
      "execution_count": 7,
      "metadata": {
        "colab": {
          "base_uri": "https://localhost:8080/"
        },
        "id": "uWJQ6GfN0BJb",
        "outputId": "934a5bae-1847-4be7-92ee-b6482a08642c"
      },
      "outputs": [
        {
          "name": "stdout",
          "output_type": "stream",
          "text": [
            "Training matrix has shape (2000, 8659)\n",
            " Testing matrix has shape (200, 8659)\n"
          ]
        }
      ],
      "source": [
        "def build_matrices(examples, w2i):\n",
        "  \"\"\" examples = instance of Examples\n",
        "      w2i : word to index dictionary\n",
        "  \"\"\"\n",
        "#   TODO\n",
        "# Tips : start by building an X matrix with desired shape, filled with zeros,\n",
        "#        and while looping over the examples, you can assign the non-null cells\n",
        "  X = np.zeros((len(examples.dict_vectors),len(w2i)))\n",
        "  for i in range(0,len(examples.dict_vectors))  :\n",
        "    for mot in examples.dict_vectors[i] :\n",
        "      if mot in w2i:\n",
        "        X[i,w2i[mot]]=examples.dict_vectors[i][mot]\n",
        "  Y = np.array(examples.gold_classes)\n",
        "  return (X, Y)\n",
        "\n",
        "# Organize the data into two matrices for document vectors\n",
        "#                   and two lists for the gold classes\n",
        "(X_train, Y_train) = build_matrices(train_examples, w2i)\n",
        "(X_dev, Y_dev) = build_matrices(dev_examples, w2i)\n",
        "print(f\"Training matrix has shape {X_train.shape}\")\n",
        "print(f\" Testing matrix has shape {X_dev.shape}\")\n"
      ]
    },
    {
      "cell_type": "markdown",
      "metadata": {
        "id": "PdAs_KkL0w-B"
      },
      "source": [
        "## TODO3 : K-NN classification:\n",
        "- add the relevant methods to the K-NN class below to perform K-NN classification and its evaluation.\n",
        "- **CONSTRAINT** : use matrix operations to compute the cosines of each row in X_dev with each row in X_train\n",
        "  - shape will be (nb_test, nb_train)\n",
        "  - no loop over rows nor columns!\n",
        "- predict a class for each of the dev examples, using the train examples and K-NN algorithm, using **cosine** to identify the neighbors.\n",
        "- **Evaluation**: Compute and print the resulting accuracy (percentage of dev examples for which the predicted class is the correct one)\n",
        "- The optimal value of K is unknown, all you can do is test some k values and choose the best one (cf. methodology in machine learning : this is “tuning the hyperparameters”)\n"
      ]
    },
    {
      "cell_type": "code",
      "execution_count": 8,
      "metadata": {
        "id": "s7FBvIJNue3x"
      },
      "outputs": [],
      "source": [
        "def Majoritee(M,Y,K):\n",
        "    ClassToId={}\n",
        "    IdToClass=[]\n",
        "    c=0\n",
        "    Maj=np.zeros((M.shape[0],1))\n",
        "    LastPredic=['']*M.shape[0]\n",
        "    scores=[0]\n",
        "    for k in range(0,K):\n",
        "        score=0\n",
        "        for ligne in range(0,M.shape[0]):\n",
        "            # si la classe est nouvelle on rajoute une colonne de 0\n",
        "            if M[ligne,k] not in ClassToId:\n",
        "                ClassToId[M[ligne,k]]=c\n",
        "                IdToClass.append(M[ligne,k])\n",
        "                c+=1\n",
        "                Maj=np.hstack((Maj, np.zeros((M.shape[0], 1))))\n",
        "            \n",
        "            #on augmente le conteur \n",
        "            Maj[ligne,ClassToId[M[ligne,k]]]=Maj[ligne,ClassToId[M[ligne,k]]]+1\n",
        "            \n",
        "            #on calcul le nouveau majoriatire\n",
        "            LastPredic[ligne]=IdToClass[np.argmax(Maj[ligne])]\n",
        "            if LastPredic[ligne]==Y[ligne]:\n",
        "                score+=1\n",
        "        #calcul du score du k\n",
        "        print(f\"Pour k={k+1}, on a bien prédit {score} classes sur {M.shape[0]}\")\n",
        "        scores.append(score/M.shape[0])\n",
        "    return scores, LastPredic\n",
        "                \n",
        "\n",
        "\n",
        "class KNN:\n",
        "    \"\"\"\n",
        "    K-NN for document classification (multiclass)\n",
        "\n",
        "    members =\n",
        "\n",
        "    X_train = matrix of training example vectors\n",
        "    Y_train = list of corresponding gold classes\n",
        "\n",
        "    K = maximum number of neighbors to consider\n",
        "\n",
        "    \"\"\"\n",
        "    def __init__(self, X, Y, K=1, verbose=False):\n",
        "        self.X_train = X   # (nbexamples, d)\n",
        "        self.Y_train = Y   # list of corresponding gold classes\n",
        "\n",
        "        # nb neighbors to consider\n",
        "        self.K = K\n",
        "\n",
        "        self.verbose = verbose\n",
        "    def predict_and_evaluate_on_set(self,X,Y):\n",
        "        Anorm=self.X_train/np.linalg.norm(self.X_train,axis=1).reshape(self.X_train.shape[0],1)\n",
        "        Bnorm=X/np.linalg.norm(X,axis=1).reshape(X.shape[0],1)\n",
        "        MatriceCos=(Bnorm @Anorm.T)\n",
        "        sorted=np.argsort(-MatriceCos, axis=1)\n",
        "        return Majoritee(self.Y_train[sorted],Y,self.K)\n",
        "\n",
        "\n"
      ]
    },
    {
      "cell_type": "code",
      "execution_count": 11,
      "metadata": {
        "colab": {
          "base_uri": "https://localhost:8080/"
        },
        "id": "Gc6mSzKQ3Ik8",
        "outputId": "0b764656-0f95-4266-8865-1183fe739f92"
      },
      "outputs": [
        {
          "name": "stdout",
          "output_type": "stream",
          "text": [
            "Evaluating on dev set...\n",
            "Pour k=1, on a bien prédit 154 classes sur 200\n",
            "Pour k=2, on a bien prédit 154 classes sur 200\n",
            "Pour k=3, on a bien prédit 155 classes sur 200\n",
            "Pour k=4, on a bien prédit 167 classes sur 200\n",
            "Pour k=5, on a bien prédit 162 classes sur 200\n",
            "[0, 0.77, 0.77, 0.775, 0.835, 0.81]\n"
          ]
        },
        {
          "data": {
            "application/vnd.plotly.v1+json": {
              "config": {
                "plotlyServerURL": "https://plot.ly"
              },
              "data": [
                {
                  "hovertemplate": "variable=0<br>index=%{x}<br>value=%{y}<extra></extra>",
                  "legendgroup": "0",
                  "marker": {
                    "color": "#636efa",
                    "symbol": "circle"
                  },
                  "mode": "markers",
                  "name": "0",
                  "orientation": "v",
                  "showlegend": true,
                  "type": "scatter",
                  "x": [
                    0,
                    1,
                    2,
                    3,
                    4,
                    5
                  ],
                  "xaxis": "x",
                  "y": [
                    0,
                    0.77,
                    0.77,
                    0.775,
                    0.835,
                    0.81
                  ],
                  "yaxis": "y"
                }
              ],
              "layout": {
                "legend": {
                  "title": {
                    "text": "variable"
                  },
                  "tracegroupgap": 0
                },
                "margin": {
                  "t": 60
                },
                "showlegend": false,
                "template": {
                  "data": {
                    "bar": [
                      {
                        "error_x": {
                          "color": "#2a3f5f"
                        },
                        "error_y": {
                          "color": "#2a3f5f"
                        },
                        "marker": {
                          "line": {
                            "color": "#E5ECF6",
                            "width": 0.5
                          },
                          "pattern": {
                            "fillmode": "overlay",
                            "size": 10,
                            "solidity": 0.2
                          }
                        },
                        "type": "bar"
                      }
                    ],
                    "barpolar": [
                      {
                        "marker": {
                          "line": {
                            "color": "#E5ECF6",
                            "width": 0.5
                          },
                          "pattern": {
                            "fillmode": "overlay",
                            "size": 10,
                            "solidity": 0.2
                          }
                        },
                        "type": "barpolar"
                      }
                    ],
                    "carpet": [
                      {
                        "aaxis": {
                          "endlinecolor": "#2a3f5f",
                          "gridcolor": "white",
                          "linecolor": "white",
                          "minorgridcolor": "white",
                          "startlinecolor": "#2a3f5f"
                        },
                        "baxis": {
                          "endlinecolor": "#2a3f5f",
                          "gridcolor": "white",
                          "linecolor": "white",
                          "minorgridcolor": "white",
                          "startlinecolor": "#2a3f5f"
                        },
                        "type": "carpet"
                      }
                    ],
                    "choropleth": [
                      {
                        "colorbar": {
                          "outlinewidth": 0,
                          "ticks": ""
                        },
                        "type": "choropleth"
                      }
                    ],
                    "contour": [
                      {
                        "colorbar": {
                          "outlinewidth": 0,
                          "ticks": ""
                        },
                        "colorscale": [
                          [
                            0,
                            "#0d0887"
                          ],
                          [
                            0.1111111111111111,
                            "#46039f"
                          ],
                          [
                            0.2222222222222222,
                            "#7201a8"
                          ],
                          [
                            0.3333333333333333,
                            "#9c179e"
                          ],
                          [
                            0.4444444444444444,
                            "#bd3786"
                          ],
                          [
                            0.5555555555555556,
                            "#d8576b"
                          ],
                          [
                            0.6666666666666666,
                            "#ed7953"
                          ],
                          [
                            0.7777777777777778,
                            "#fb9f3a"
                          ],
                          [
                            0.8888888888888888,
                            "#fdca26"
                          ],
                          [
                            1,
                            "#f0f921"
                          ]
                        ],
                        "type": "contour"
                      }
                    ],
                    "contourcarpet": [
                      {
                        "colorbar": {
                          "outlinewidth": 0,
                          "ticks": ""
                        },
                        "type": "contourcarpet"
                      }
                    ],
                    "heatmap": [
                      {
                        "colorbar": {
                          "outlinewidth": 0,
                          "ticks": ""
                        },
                        "colorscale": [
                          [
                            0,
                            "#0d0887"
                          ],
                          [
                            0.1111111111111111,
                            "#46039f"
                          ],
                          [
                            0.2222222222222222,
                            "#7201a8"
                          ],
                          [
                            0.3333333333333333,
                            "#9c179e"
                          ],
                          [
                            0.4444444444444444,
                            "#bd3786"
                          ],
                          [
                            0.5555555555555556,
                            "#d8576b"
                          ],
                          [
                            0.6666666666666666,
                            "#ed7953"
                          ],
                          [
                            0.7777777777777778,
                            "#fb9f3a"
                          ],
                          [
                            0.8888888888888888,
                            "#fdca26"
                          ],
                          [
                            1,
                            "#f0f921"
                          ]
                        ],
                        "type": "heatmap"
                      }
                    ],
                    "heatmapgl": [
                      {
                        "colorbar": {
                          "outlinewidth": 0,
                          "ticks": ""
                        },
                        "colorscale": [
                          [
                            0,
                            "#0d0887"
                          ],
                          [
                            0.1111111111111111,
                            "#46039f"
                          ],
                          [
                            0.2222222222222222,
                            "#7201a8"
                          ],
                          [
                            0.3333333333333333,
                            "#9c179e"
                          ],
                          [
                            0.4444444444444444,
                            "#bd3786"
                          ],
                          [
                            0.5555555555555556,
                            "#d8576b"
                          ],
                          [
                            0.6666666666666666,
                            "#ed7953"
                          ],
                          [
                            0.7777777777777778,
                            "#fb9f3a"
                          ],
                          [
                            0.8888888888888888,
                            "#fdca26"
                          ],
                          [
                            1,
                            "#f0f921"
                          ]
                        ],
                        "type": "heatmapgl"
                      }
                    ],
                    "histogram": [
                      {
                        "marker": {
                          "pattern": {
                            "fillmode": "overlay",
                            "size": 10,
                            "solidity": 0.2
                          }
                        },
                        "type": "histogram"
                      }
                    ],
                    "histogram2d": [
                      {
                        "colorbar": {
                          "outlinewidth": 0,
                          "ticks": ""
                        },
                        "colorscale": [
                          [
                            0,
                            "#0d0887"
                          ],
                          [
                            0.1111111111111111,
                            "#46039f"
                          ],
                          [
                            0.2222222222222222,
                            "#7201a8"
                          ],
                          [
                            0.3333333333333333,
                            "#9c179e"
                          ],
                          [
                            0.4444444444444444,
                            "#bd3786"
                          ],
                          [
                            0.5555555555555556,
                            "#d8576b"
                          ],
                          [
                            0.6666666666666666,
                            "#ed7953"
                          ],
                          [
                            0.7777777777777778,
                            "#fb9f3a"
                          ],
                          [
                            0.8888888888888888,
                            "#fdca26"
                          ],
                          [
                            1,
                            "#f0f921"
                          ]
                        ],
                        "type": "histogram2d"
                      }
                    ],
                    "histogram2dcontour": [
                      {
                        "colorbar": {
                          "outlinewidth": 0,
                          "ticks": ""
                        },
                        "colorscale": [
                          [
                            0,
                            "#0d0887"
                          ],
                          [
                            0.1111111111111111,
                            "#46039f"
                          ],
                          [
                            0.2222222222222222,
                            "#7201a8"
                          ],
                          [
                            0.3333333333333333,
                            "#9c179e"
                          ],
                          [
                            0.4444444444444444,
                            "#bd3786"
                          ],
                          [
                            0.5555555555555556,
                            "#d8576b"
                          ],
                          [
                            0.6666666666666666,
                            "#ed7953"
                          ],
                          [
                            0.7777777777777778,
                            "#fb9f3a"
                          ],
                          [
                            0.8888888888888888,
                            "#fdca26"
                          ],
                          [
                            1,
                            "#f0f921"
                          ]
                        ],
                        "type": "histogram2dcontour"
                      }
                    ],
                    "mesh3d": [
                      {
                        "colorbar": {
                          "outlinewidth": 0,
                          "ticks": ""
                        },
                        "type": "mesh3d"
                      }
                    ],
                    "parcoords": [
                      {
                        "line": {
                          "colorbar": {
                            "outlinewidth": 0,
                            "ticks": ""
                          }
                        },
                        "type": "parcoords"
                      }
                    ],
                    "pie": [
                      {
                        "automargin": true,
                        "type": "pie"
                      }
                    ],
                    "scatter": [
                      {
                        "fillpattern": {
                          "fillmode": "overlay",
                          "size": 10,
                          "solidity": 0.2
                        },
                        "type": "scatter"
                      }
                    ],
                    "scatter3d": [
                      {
                        "line": {
                          "colorbar": {
                            "outlinewidth": 0,
                            "ticks": ""
                          }
                        },
                        "marker": {
                          "colorbar": {
                            "outlinewidth": 0,
                            "ticks": ""
                          }
                        },
                        "type": "scatter3d"
                      }
                    ],
                    "scattercarpet": [
                      {
                        "marker": {
                          "colorbar": {
                            "outlinewidth": 0,
                            "ticks": ""
                          }
                        },
                        "type": "scattercarpet"
                      }
                    ],
                    "scattergeo": [
                      {
                        "marker": {
                          "colorbar": {
                            "outlinewidth": 0,
                            "ticks": ""
                          }
                        },
                        "type": "scattergeo"
                      }
                    ],
                    "scattergl": [
                      {
                        "marker": {
                          "colorbar": {
                            "outlinewidth": 0,
                            "ticks": ""
                          }
                        },
                        "type": "scattergl"
                      }
                    ],
                    "scattermapbox": [
                      {
                        "marker": {
                          "colorbar": {
                            "outlinewidth": 0,
                            "ticks": ""
                          }
                        },
                        "type": "scattermapbox"
                      }
                    ],
                    "scatterpolar": [
                      {
                        "marker": {
                          "colorbar": {
                            "outlinewidth": 0,
                            "ticks": ""
                          }
                        },
                        "type": "scatterpolar"
                      }
                    ],
                    "scatterpolargl": [
                      {
                        "marker": {
                          "colorbar": {
                            "outlinewidth": 0,
                            "ticks": ""
                          }
                        },
                        "type": "scatterpolargl"
                      }
                    ],
                    "scatterternary": [
                      {
                        "marker": {
                          "colorbar": {
                            "outlinewidth": 0,
                            "ticks": ""
                          }
                        },
                        "type": "scatterternary"
                      }
                    ],
                    "surface": [
                      {
                        "colorbar": {
                          "outlinewidth": 0,
                          "ticks": ""
                        },
                        "colorscale": [
                          [
                            0,
                            "#0d0887"
                          ],
                          [
                            0.1111111111111111,
                            "#46039f"
                          ],
                          [
                            0.2222222222222222,
                            "#7201a8"
                          ],
                          [
                            0.3333333333333333,
                            "#9c179e"
                          ],
                          [
                            0.4444444444444444,
                            "#bd3786"
                          ],
                          [
                            0.5555555555555556,
                            "#d8576b"
                          ],
                          [
                            0.6666666666666666,
                            "#ed7953"
                          ],
                          [
                            0.7777777777777778,
                            "#fb9f3a"
                          ],
                          [
                            0.8888888888888888,
                            "#fdca26"
                          ],
                          [
                            1,
                            "#f0f921"
                          ]
                        ],
                        "type": "surface"
                      }
                    ],
                    "table": [
                      {
                        "cells": {
                          "fill": {
                            "color": "#EBF0F8"
                          },
                          "line": {
                            "color": "white"
                          }
                        },
                        "header": {
                          "fill": {
                            "color": "#C8D4E3"
                          },
                          "line": {
                            "color": "white"
                          }
                        },
                        "type": "table"
                      }
                    ]
                  },
                  "layout": {
                    "annotationdefaults": {
                      "arrowcolor": "#2a3f5f",
                      "arrowhead": 0,
                      "arrowwidth": 1
                    },
                    "autotypenumbers": "strict",
                    "coloraxis": {
                      "colorbar": {
                        "outlinewidth": 0,
                        "ticks": ""
                      }
                    },
                    "colorscale": {
                      "diverging": [
                        [
                          0,
                          "#8e0152"
                        ],
                        [
                          0.1,
                          "#c51b7d"
                        ],
                        [
                          0.2,
                          "#de77ae"
                        ],
                        [
                          0.3,
                          "#f1b6da"
                        ],
                        [
                          0.4,
                          "#fde0ef"
                        ],
                        [
                          0.5,
                          "#f7f7f7"
                        ],
                        [
                          0.6,
                          "#e6f5d0"
                        ],
                        [
                          0.7,
                          "#b8e186"
                        ],
                        [
                          0.8,
                          "#7fbc41"
                        ],
                        [
                          0.9,
                          "#4d9221"
                        ],
                        [
                          1,
                          "#276419"
                        ]
                      ],
                      "sequential": [
                        [
                          0,
                          "#0d0887"
                        ],
                        [
                          0.1111111111111111,
                          "#46039f"
                        ],
                        [
                          0.2222222222222222,
                          "#7201a8"
                        ],
                        [
                          0.3333333333333333,
                          "#9c179e"
                        ],
                        [
                          0.4444444444444444,
                          "#bd3786"
                        ],
                        [
                          0.5555555555555556,
                          "#d8576b"
                        ],
                        [
                          0.6666666666666666,
                          "#ed7953"
                        ],
                        [
                          0.7777777777777778,
                          "#fb9f3a"
                        ],
                        [
                          0.8888888888888888,
                          "#fdca26"
                        ],
                        [
                          1,
                          "#f0f921"
                        ]
                      ],
                      "sequentialminus": [
                        [
                          0,
                          "#0d0887"
                        ],
                        [
                          0.1111111111111111,
                          "#46039f"
                        ],
                        [
                          0.2222222222222222,
                          "#7201a8"
                        ],
                        [
                          0.3333333333333333,
                          "#9c179e"
                        ],
                        [
                          0.4444444444444444,
                          "#bd3786"
                        ],
                        [
                          0.5555555555555556,
                          "#d8576b"
                        ],
                        [
                          0.6666666666666666,
                          "#ed7953"
                        ],
                        [
                          0.7777777777777778,
                          "#fb9f3a"
                        ],
                        [
                          0.8888888888888888,
                          "#fdca26"
                        ],
                        [
                          1,
                          "#f0f921"
                        ]
                      ]
                    },
                    "colorway": [
                      "#636efa",
                      "#EF553B",
                      "#00cc96",
                      "#ab63fa",
                      "#FFA15A",
                      "#19d3f3",
                      "#FF6692",
                      "#B6E880",
                      "#FF97FF",
                      "#FECB52"
                    ],
                    "font": {
                      "color": "#2a3f5f"
                    },
                    "geo": {
                      "bgcolor": "white",
                      "lakecolor": "white",
                      "landcolor": "#E5ECF6",
                      "showlakes": true,
                      "showland": true,
                      "subunitcolor": "white"
                    },
                    "hoverlabel": {
                      "align": "left"
                    },
                    "hovermode": "closest",
                    "mapbox": {
                      "style": "light"
                    },
                    "paper_bgcolor": "white",
                    "plot_bgcolor": "#E5ECF6",
                    "polar": {
                      "angularaxis": {
                        "gridcolor": "white",
                        "linecolor": "white",
                        "ticks": ""
                      },
                      "bgcolor": "#E5ECF6",
                      "radialaxis": {
                        "gridcolor": "white",
                        "linecolor": "white",
                        "ticks": ""
                      }
                    },
                    "scene": {
                      "xaxis": {
                        "backgroundcolor": "#E5ECF6",
                        "gridcolor": "white",
                        "gridwidth": 2,
                        "linecolor": "white",
                        "showbackground": true,
                        "ticks": "",
                        "zerolinecolor": "white"
                      },
                      "yaxis": {
                        "backgroundcolor": "#E5ECF6",
                        "gridcolor": "white",
                        "gridwidth": 2,
                        "linecolor": "white",
                        "showbackground": true,
                        "ticks": "",
                        "zerolinecolor": "white"
                      },
                      "zaxis": {
                        "backgroundcolor": "#E5ECF6",
                        "gridcolor": "white",
                        "gridwidth": 2,
                        "linecolor": "white",
                        "showbackground": true,
                        "ticks": "",
                        "zerolinecolor": "white"
                      }
                    },
                    "shapedefaults": {
                      "line": {
                        "color": "#2a3f5f"
                      }
                    },
                    "ternary": {
                      "aaxis": {
                        "gridcolor": "white",
                        "linecolor": "white",
                        "ticks": ""
                      },
                      "baxis": {
                        "gridcolor": "white",
                        "linecolor": "white",
                        "ticks": ""
                      },
                      "bgcolor": "#E5ECF6",
                      "caxis": {
                        "gridcolor": "white",
                        "linecolor": "white",
                        "ticks": ""
                      }
                    },
                    "title": {
                      "x": 0.05
                    },
                    "xaxis": {
                      "automargin": true,
                      "gridcolor": "white",
                      "linecolor": "white",
                      "ticks": "",
                      "title": {
                        "standoff": 15
                      },
                      "zerolinecolor": "white",
                      "zerolinewidth": 2
                    },
                    "yaxis": {
                      "automargin": true,
                      "gridcolor": "white",
                      "linecolor": "white",
                      "ticks": "",
                      "title": {
                        "standoff": 15
                      },
                      "zerolinecolor": "white",
                      "zerolinewidth": 2
                    }
                  }
                },
                "xaxis": {
                  "anchor": "y",
                  "domain": [
                    0,
                    1
                  ],
                  "title": {
                    "text": "valeur de k"
                  }
                },
                "yaxis": {
                  "anchor": "x",
                  "domain": [
                    0,
                    1
                  ],
                  "title": {
                    "text": "Score"
                  }
                }
              }
            }
          },
          "metadata": {},
          "output_type": "display_data"
        }
      ],
      "source": [
        "# NB of NEIGHBORS\n",
        "\n",
        "K=5\n",
        "\n",
        "verbose = True\n",
        "\n",
        "myclassifier = KNN(X = X_train,\n",
        "                   Y = Y_train,\n",
        "                   K = K,\n",
        "                   verbose=verbose)\n",
        "\n",
        "print(\"Evaluating on dev set...\")\n",
        "accuracies,Lastpredict = myclassifier.predict_and_evaluate_on_set(X_dev, Y_dev)\n",
        "print(accuracies)\n",
        "fig=px.scatter(accuracies)\n",
        "fig.update_layout(\n",
        "    xaxis_title='valeur de k',\n",
        "    yaxis_title='Score',\n",
        "    showlegend=False\n",
        ")\n",
        "fig.show()\n"
      ]
    },
    {
      "cell_type": "markdown",
      "metadata": {
        "id": "iuCSlv5z38GW"
      },
      "source": [
        "## Efficiency tips:\n",
        "\n",
        "If needed, improve your algorithm:\n",
        "- don't recompute the training norms for all test example\n",
        "- identify which steps are shared for all possible K values as opposed to steps that depend on K.\n",
        "  - you could make your K-NN work for all values from k=1 to k=K, sharing steps not depending on k, and output a list of K accuracies, for k=1, k=2 .... k=K\n"
      ]
    },
    {
      "cell_type": "markdown",
      "metadata": {
        "id": "Ag9Pu-6f4Zu0"
      },
      "source": [
        "6\tExpected results\n",
        "When using the small corpus (train / dev), here is the expected cos_matrix and the accuracies for a few k values:\n",
        "\n",
        "Matrix of cosine similarities (rows = test, columns = train):\n",
        "\n",
        "[[0.1864542  0.30658331 0.25518441 0.05080005 0.01133659]\n",
        "\n",
        " [0.         0.009787   0.01176674 0.70624201 0.66805963]\n",
        "\n",
        " [0.18749253 0.08808303 0.24710158 0.22135944 0.        ]]\n",
        "\n",
        "ACCURACY FOR K =  1 = 100.00 (3 / 3) (use_weight = False)\n",
        "\n",
        "ACCURACY FOR K =  2 = 66.67 (2 / 3) (use_weight = False)\n",
        "\n",
        "ACCURACY FOR K =  3 = 66.67 (2 / 3) (use_weight = False)\n",
        "\n",
        "\n",
        "On medium, here are the expected results for the first k values:\n",
        "ACCURACY FOR K =  1 = 78.50 (157 / 200) (use_weight = False)\n",
        "\n",
        "ACCURACY FOR K =  2 = 76.00 (152 / 200) (use_weight = False)\n",
        "\n",
        "ACCURACY FOR K =  3 = 77.50 (155 / 200) (use_weight = False)\n",
        "\n",
        "ACCURACY FOR K =  4 = 81.00 (162 / 200) (use_weight = False)\n",
        "\n",
        "ACCURACY FOR K =  5 = 79.50 (159 / 200) (use_weight = False)\n",
        "\n",
        "**NB**: It is ok even if you have not exactly the same results, but if accuracy is close to these values. Results may vary a little depending on the prediction in case of ties.\n"
      ]
    }
  ],
  "metadata": {
    "colab": {
      "include_colab_link": true,
      "provenance": [],
      "toc_visible": true
    },
    "kernelspec": {
      "display_name": "Python 3",
      "name": "python3"
    },
    "language_info": {
      "codemirror_mode": {
        "name": "ipython",
        "version": 3
      },
      "file_extension": ".py",
      "mimetype": "text/x-python",
      "name": "python",
      "nbconvert_exporter": "python",
      "pygments_lexer": "ipython3",
      "version": "3.11.3"
    }
  },
  "nbformat": 4,
  "nbformat_minor": 0
}
